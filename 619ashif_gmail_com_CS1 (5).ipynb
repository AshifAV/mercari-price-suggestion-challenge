{
  "nbformat": 4,
  "nbformat_minor": 0,
  "metadata": {
    "colab": {
      "name": "619ashif@gmail.com_CS1.ipynb",
      "provenance": [],
      "collapsed_sections": []
    },
    "kernelspec": {
      "name": "python3",
      "display_name": "Python 3"
    },
    "accelerator": "GPU"
  },
  "cells": [
    {
      "cell_type": "markdown",
      "metadata": {
        "id": "W-f2rR8bmSdO",
        "colab_type": "text"
      },
      "source": [
        "## Mercari Price Suggestion Challenge"
      ]
    },
    {
      "cell_type": "code",
      "metadata": {
        "id": "jFSkFnjkmfzY",
        "colab_type": "code",
        "colab": {
          "base_uri": "https://localhost:8080/",
          "height": 221
        },
        "outputId": "3a682ac2-37d3-45a7-89d5-45d9ca669707"
      },
      "source": [
        "!wget --header=\"Host: doc-08-0c-docs.googleusercontent.com\" --header=\"User-Agent: Mozilla/5.0 (Windows NT 10.0; Win64; x64) AppleWebKit/537.36 (KHTML, like Gecko) Chrome/79.0.3945.88 Safari/537.36\" --header=\"Accept: text/html,application/xhtml+xml,application/xml;q=0.9,image/webp,image/apng,*/*;q=0.8,application/signed-exchange;v=b3;q=0.9\" --header=\"Accept-Language: en-US,en;q=0.9\" --header=\"Cookie: AUTH_oedmfi9oiptm6f861ocad02snk8tgp22_nonce=mu921iesg6468\" --header=\"Connection: keep-alive\" \"https://doc-08-0c-docs.googleusercontent.com/docs/securesc/haoj875mfgd22v8g0abj49oidt0vbf6u/oaa4sco7v7dcd846g192d73sqefee5ir/1600183125000/06559701009217455969/06559701009217455969/1IzZW5Ix_i0h4CqPlV7PxtQIFFVUb7Tdp?e=download&authuser=0&nonce=mu921iesg6468&user=06559701009217455969&hash=rea40nuh86tl0tth91do8qucefd0bej5\" -c -O 'mercari-price-suggestion-challenge.zip'"
      ],
      "execution_count": null,
      "outputs": [
        {
          "output_type": "stream",
          "text": [
            "--2020-09-15 15:19:37--  https://doc-08-0c-docs.googleusercontent.com/docs/securesc/haoj875mfgd22v8g0abj49oidt0vbf6u/oaa4sco7v7dcd846g192d73sqefee5ir/1600183125000/06559701009217455969/06559701009217455969/1IzZW5Ix_i0h4CqPlV7PxtQIFFVUb7Tdp?e=download&authuser=0&nonce=mu921iesg6468&user=06559701009217455969&hash=rea40nuh86tl0tth91do8qucefd0bej5\n",
            "Resolving doc-08-0c-docs.googleusercontent.com (doc-08-0c-docs.googleusercontent.com)... 74.125.143.132, 2a00:1450:4013:c03::84\n",
            "Connecting to doc-08-0c-docs.googleusercontent.com (doc-08-0c-docs.googleusercontent.com)|74.125.143.132|:443... connected.\n",
            "HTTP request sent, awaiting response... 200 OK\n",
            "Length: unspecified [application/x-zip-compressed]\n",
            "Saving to: ‘mercari-price-suggestion-challenge.zip’\n",
            "\n",
            "mercari-price-sugge     [           <=>      ] 403.16M  62.0MB/s    in 6.5s    \n",
            "\n",
            "2020-09-15 15:19:44 (62.0 MB/s) - ‘mercari-price-suggestion-challenge.zip’ saved [422739618]\n",
            "\n"
          ],
          "name": "stdout"
        }
      ]
    },
    {
      "cell_type": "code",
      "metadata": {
        "id": "kU3GfFA-ms5g",
        "colab_type": "code",
        "colab": {
          "base_uri": "https://localhost:8080/",
          "height": 117
        },
        "outputId": "a1ca7dc0-7354-4d3d-a2fa-d4c6a0f299d5"
      },
      "source": [
        "#unzipping data inside colab local\n",
        "!unzip mercari-price-suggestion-challenge.zip -d /content"
      ],
      "execution_count": null,
      "outputs": [
        {
          "output_type": "stream",
          "text": [
            "Archive:  mercari-price-suggestion-challenge.zip\n",
            "  inflating: /content/sample_submission.csv.7z  \n",
            "  inflating: /content/sample_submission_stg2.csv.zip  \n",
            "  inflating: /content/test.tsv.7z    \n",
            "  inflating: /content/test_stg2.tsv.zip  \n",
            "  inflating: /content/train.tsv.7z   \n"
          ],
          "name": "stdout"
        }
      ]
    },
    {
      "cell_type": "code",
      "metadata": {
        "id": "3O4_TZ5polzF",
        "colab_type": "code",
        "colab": {
          "base_uri": "https://localhost:8080/",
          "height": 806
        },
        "outputId": "32abb84e-6f60-483c-c6b3-a9490062fda1"
      },
      "source": [
        "\n",
        "!apt-get install p7zip-full\n",
        "!p7zip -d train.tsv.7z\n",
        "!p7zip -d test.tsv.7z\n"
      ],
      "execution_count": null,
      "outputs": [
        {
          "output_type": "stream",
          "text": [
            "Reading package lists... Done\n",
            "Building dependency tree       \n",
            "Reading state information... Done\n",
            "p7zip-full is already the newest version (16.02+dfsg-6).\n",
            "0 upgraded, 0 newly installed, 0 to remove and 11 not upgraded.\n",
            "\n",
            "7-Zip (a) [64] 16.02 : Copyright (c) 1999-2016 Igor Pavlov : 2016-05-21\n",
            "p7zip Version 16.02 (locale=en_US.UTF-8,Utf16=on,HugeFiles=on,64 bits,2 CPUs Intel(R) Xeon(R) CPU @ 2.00GHz (50653),ASM,AES-NI)\n",
            "\n",
            "Scanning the drive for archives:\n",
            "  0M Scan\b\b\b\b\b\b\b\b\b         \b\b\b\b\b\b\b\b\b1 file, 77912192 bytes (75 MiB)\n",
            "\n",
            "Extracting archive: train.tsv.7z\n",
            "--\n",
            "Path = train.tsv.7z\n",
            "Type = 7z\n",
            "Physical Size = 77912192\n",
            "Headers Size = 122\n",
            "Method = LZMA2:24\n",
            "Solid = -\n",
            "Blocks = 1\n",
            "\n",
            "  0%\b\b\b\b    \b\b\b\b  3% - train.tsv\b\b\b\b\b\b\b\b\b\b\b\b\b\b\b\b                \b\b\b\b\b\b\b\b\b\b\b\b\b\b\b\b  8% - train.tsv\b\b\b\b\b\b\b\b\b\b\b\b\b\b\b\b                \b\b\b\b\b\b\b\b\b\b\b\b\b\b\b\b 13% - train.tsv\b\b\b\b\b\b\b\b\b\b\b\b\b\b\b\b                \b\b\b\b\b\b\b\b\b\b\b\b\b\b\b\b 18% - train.tsv\b\b\b\b\b\b\b\b\b\b\b\b\b\b\b\b                \b\b\b\b\b\b\b\b\b\b\b\b\b\b\b\b 22% - train.tsv\b\b\b\b\b\b\b\b\b\b\b\b\b\b\b\b                \b\b\b\b\b\b\b\b\b\b\b\b\b\b\b\b 27% - train.tsv\b\b\b\b\b\b\b\b\b\b\b\b\b\b\b\b                \b\b\b\b\b\b\b\b\b\b\b\b\b\b\b\b 32% - train.tsv\b\b\b\b\b\b\b\b\b\b\b\b\b\b\b\b                \b\b\b\b\b\b\b\b\b\b\b\b\b\b\b\b 36% - train.tsv\b\b\b\b\b\b\b\b\b\b\b\b\b\b\b\b                \b\b\b\b\b\b\b\b\b\b\b\b\b\b\b\b 40% - train.tsv\b\b\b\b\b\b\b\b\b\b\b\b\b\b\b\b                \b\b\b\b\b\b\b\b\b\b\b\b\b\b\b\b 44% - train.tsv\b\b\b\b\b\b\b\b\b\b\b\b\b\b\b\b                \b\b\b\b\b\b\b\b\b\b\b\b\b\b\b\b 48% - train.tsv\b\b\b\b\b\b\b\b\b\b\b\b\b\b\b\b                \b\b\b\b\b\b\b\b\b\b\b\b\b\b\b\b 52% - train.tsv\b\b\b\b\b\b\b\b\b\b\b\b\b\b\b\b                \b\b\b\b\b\b\b\b\b\b\b\b\b\b\b\b 56% - train.tsv\b\b\b\b\b\b\b\b\b\b\b\b\b\b\b\b                \b\b\b\b\b\b\b\b\b\b\b\b\b\b\b\b 60% - train.tsv\b\b\b\b\b\b\b\b\b\b\b\b\b\b\b\b                \b\b\b\b\b\b\b\b\b\b\b\b\b\b\b\b 64% - train.tsv\b\b\b\b\b\b\b\b\b\b\b\b\b\b\b\b                \b\b\b\b\b\b\b\b\b\b\b\b\b\b\b\b 69% - train.tsv\b\b\b\b\b\b\b\b\b\b\b\b\b\b\b\b                \b\b\b\b\b\b\b\b\b\b\b\b\b\b\b\b 73% - train.tsv\b\b\b\b\b\b\b\b\b\b\b\b\b\b\b\b                \b\b\b\b\b\b\b\b\b\b\b\b\b\b\b\b 79% - train.tsv\b\b\b\b\b\b\b\b\b\b\b\b\b\b\b\b                \b\b\b\b\b\b\b\b\b\b\b\b\b\b\b\b 84% - train.tsv\b\b\b\b\b\b\b\b\b\b\b\b\b\b\b\b                \b\b\b\b\b\b\b\b\b\b\b\b\b\b\b\b 88% - train.tsv\b\b\b\b\b\b\b\b\b\b\b\b\b\b\b\b                \b\b\b\b\b\b\b\b\b\b\b\b\b\b\b\b 92% - train.tsv\b\b\b\b\b\b\b\b\b\b\b\b\b\b\b\b                \b\b\b\b\b\b\b\b\b\b\b\b\b\b\b\b 96% - train.tsv\b\b\b\b\b\b\b\b\b\b\b\b\b\b\b\b                \b\b\b\b\b\b\b\b\b\b\b\b\b\b\b\bEverything is Ok\n",
            "\n",
            "Size:       337809843\n",
            "Compressed: 77912192\n",
            "\n",
            "7-Zip (a) [64] 16.02 : Copyright (c) 1999-2016 Igor Pavlov : 2016-05-21\n",
            "p7zip Version 16.02 (locale=en_US.UTF-8,Utf16=on,HugeFiles=on,64 bits,2 CPUs Intel(R) Xeon(R) CPU @ 2.00GHz (50653),ASM,AES-NI)\n",
            "\n",
            "Scanning the drive for archives:\n",
            "  0M Scan\b\b\b\b\b\b\b\b\b         \b\b\b\b\b\b\b\b\b1 file, 35617013 bytes (34 MiB)\n",
            "\n",
            "Extracting archive: test.tsv.7z\n",
            "--\n",
            "Path = test.tsv.7z\n",
            "Type = 7z\n",
            "Physical Size = 35617013\n",
            "Headers Size = 122\n",
            "Method = LZMA2:24\n",
            "Solid = -\n",
            "Blocks = 1\n",
            "\n",
            "  0%\b\b\b\b    \b\b\b\b  8% - test.tsv\b\b\b\b\b\b\b\b\b\b\b\b\b\b\b               \b\b\b\b\b\b\b\b\b\b\b\b\b\b\b 17% - test.tsv\b\b\b\b\b\b\b\b\b\b\b\b\b\b\b               \b\b\b\b\b\b\b\b\b\b\b\b\b\b\b 27% - test.tsv\b\b\b\b\b\b\b\b\b\b\b\b\b\b\b               \b\b\b\b\b\b\b\b\b\b\b\b\b\b\b 38% - test.tsv\b\b\b\b\b\b\b\b\b\b\b\b\b\b\b               \b\b\b\b\b\b\b\b\b\b\b\b\b\b\b 48% - test.tsv\b\b\b\b\b\b\b\b\b\b\b\b\b\b\b               \b\b\b\b\b\b\b\b\b\b\b\b\b\b\b 58% - test.tsv\b\b\b\b\b\b\b\b\b\b\b\b\b\b\b               \b\b\b\b\b\b\b\b\b\b\b\b\b\b\b 67% - test.tsv\b\b\b\b\b\b\b\b\b\b\b\b\b\b\b               \b\b\b\b\b\b\b\b\b\b\b\b\b\b\b 76% - test.tsv\b\b\b\b\b\b\b\b\b\b\b\b\b\b\b               \b\b\b\b\b\b\b\b\b\b\b\b\b\b\b 84% - test.tsv\b\b\b\b\b\b\b\b\b\b\b\b\b\b\b               \b\b\b\b\b\b\b\b\b\b\b\b\b\b\b 92% - test.tsv\b\b\b\b\b\b\b\b\b\b\b\b\b\b\b               \b\b\b\b\b\b\b\b\b\b\b\b\b\b\bEverything is Ok\n",
            "\n",
            "Size:       154222160\n",
            "Compressed: 35617013\n"
          ],
          "name": "stdout"
        }
      ]
    },
    {
      "cell_type": "code",
      "metadata": {
        "id": "2QsCakz6sv2Q",
        "colab_type": "code",
        "colab": {
          "base_uri": "https://localhost:8080/",
          "height": 50
        },
        "outputId": "f23240ad-154c-4687-ae48-2ad94ae32a9a"
      },
      "source": [
        "!unzip /content/test_stg2.tsv.zip -d /content"
      ],
      "execution_count": null,
      "outputs": [
        {
          "output_type": "stream",
          "text": [
            "Archive:  /content/test_stg2.tsv.zip\n",
            "  inflating: /content/test_stg2.tsv  \n"
          ],
          "name": "stdout"
        }
      ]
    },
    {
      "cell_type": "markdown",
      "metadata": {
        "id": "nhTgk7Gwoi9V",
        "colab_type": "text"
      },
      "source": [
        ""
      ]
    },
    {
      "cell_type": "code",
      "metadata": {
        "id": "PZottBX-ukXq",
        "colab_type": "code",
        "colab": {
          "base_uri": "https://localhost:8080/",
          "height": 323
        },
        "outputId": "71265a9d-af73-44d9-9faa-db401bd42b5a"
      },
      "source": [
        "pip install catboost"
      ],
      "execution_count": null,
      "outputs": [
        {
          "output_type": "stream",
          "text": [
            "Collecting catboost\n",
            "\u001b[?25l  Downloading https://files.pythonhosted.org/packages/90/86/c3dcb600b4f9e7584ed90ea9d30a717fb5c0111574675f442c3e7bc19535/catboost-0.24.1-cp36-none-manylinux1_x86_64.whl (66.1MB)\n",
            "\u001b[K     |████████████████████████████████| 66.1MB 66kB/s \n",
            "\u001b[?25hRequirement already satisfied: numpy>=1.16.0 in /usr/local/lib/python3.6/dist-packages (from catboost) (1.18.5)\n",
            "Requirement already satisfied: plotly in /usr/local/lib/python3.6/dist-packages (from catboost) (4.4.1)\n",
            "Requirement already satisfied: matplotlib in /usr/local/lib/python3.6/dist-packages (from catboost) (3.2.2)\n",
            "Requirement already satisfied: six in /usr/local/lib/python3.6/dist-packages (from catboost) (1.15.0)\n",
            "Requirement already satisfied: graphviz in /usr/local/lib/python3.6/dist-packages (from catboost) (0.10.1)\n",
            "Requirement already satisfied: scipy in /usr/local/lib/python3.6/dist-packages (from catboost) (1.4.1)\n",
            "Requirement already satisfied: pandas>=0.24.0 in /usr/local/lib/python3.6/dist-packages (from catboost) (1.0.5)\n",
            "Requirement already satisfied: retrying>=1.3.3 in /usr/local/lib/python3.6/dist-packages (from plotly->catboost) (1.3.3)\n",
            "Requirement already satisfied: pyparsing!=2.0.4,!=2.1.2,!=2.1.6,>=2.0.1 in /usr/local/lib/python3.6/dist-packages (from matplotlib->catboost) (2.4.7)\n",
            "Requirement already satisfied: kiwisolver>=1.0.1 in /usr/local/lib/python3.6/dist-packages (from matplotlib->catboost) (1.2.0)\n",
            "Requirement already satisfied: python-dateutil>=2.1 in /usr/local/lib/python3.6/dist-packages (from matplotlib->catboost) (2.8.1)\n",
            "Requirement already satisfied: cycler>=0.10 in /usr/local/lib/python3.6/dist-packages (from matplotlib->catboost) (0.10.0)\n",
            "Requirement already satisfied: pytz>=2017.2 in /usr/local/lib/python3.6/dist-packages (from pandas>=0.24.0->catboost) (2018.9)\n",
            "Installing collected packages: catboost\n",
            "Successfully installed catboost-0.24.1\n"
          ],
          "name": "stdout"
        }
      ]
    },
    {
      "cell_type": "code",
      "metadata": {
        "id": "Psuw33NCnlGl",
        "colab_type": "code",
        "colab": {
          "base_uri": "https://localhost:8080/",
          "height": 50
        },
        "outputId": "3179dde4-9691-45b3-e4f4-4620396a3ca5"
      },
      "source": [
        "import pandas as pd\n",
        "import numpy as np\n",
        "import seaborn as sns\n",
        "from sklearn.model_selection import train_test_split\n",
        "import matplotlib.pyplot as plt\n",
        "from wordcloud import WordCloud\n",
        "from textblob import TextBlob\n",
        "from sklearn.feature_extraction.text import CountVectorizer,TfidfVectorizer\n",
        "from sklearn.preprocessing import LabelBinarizer,OneHotEncoder,LabelEncoder\n",
        "from sklearn.preprocessing import StandardScaler\n",
        "import scipy\n",
        "import pickle\n",
        "from sklearn.linear_model import Ridge , SGDRegressor \n",
        "from sklearn.ensemble import RandomForestRegressor\n",
        "from sklearn.metrics import mean_squared_error\n",
        "from sklearn.model_selection import GridSearchCV , RandomizedSearchCV\n",
        "#from catboost import CatBoostRegressor\n",
        "from sklearn.ensemble import RandomForestRegressor\n",
        "from keras.preprocessing.sequence import pad_sequences\n",
        "from sklearn.tree import DecisionTreeRegressor"
      ],
      "execution_count": null,
      "outputs": [
        {
          "output_type": "stream",
          "text": [
            "/usr/local/lib/python3.6/dist-packages/statsmodels/tools/_testing.py:19: FutureWarning: pandas.util.testing is deprecated. Use the functions in the public API at pandas.testing instead.\n",
            "  import pandas.util.testing as tm\n"
          ],
          "name": "stderr"
        }
      ]
    },
    {
      "cell_type": "code",
      "metadata": {
        "id": "3v7yTRy3n4LI",
        "colab_type": "code",
        "colab": {}
      },
      "source": [
        "data = pd.read_csv(\"train.tsv\",sep = '\\t')\n",
        "test1 = pd.read_csv(\"test_stg2.tsv\",sep = '\\t')\n",
        "y = data['price']"
      ],
      "execution_count": null,
      "outputs": []
    },
    {
      "cell_type": "code",
      "metadata": {
        "id": "F2YMPg_Zpj4M",
        "colab_type": "code",
        "colab": {
          "base_uri": "https://localhost:8080/",
          "height": 34
        },
        "outputId": "02bd42f8-c91f-4178-cfc2-ca325955d9af"
      },
      "source": [
        "data.shape"
      ],
      "execution_count": null,
      "outputs": [
        {
          "output_type": "execute_result",
          "data": {
            "text/plain": [
              "(1482535, 8)"
            ]
          },
          "metadata": {
            "tags": []
          },
          "execution_count": 11
        }
      ]
    },
    {
      "cell_type": "code",
      "metadata": {
        "id": "orDiBYMxLxqW",
        "colab_type": "code",
        "colab": {}
      },
      "source": [
        "train, test, y_train, y_test = train_test_split(data, y, test_size=0.2, random_state=42)"
      ],
      "execution_count": null,
      "outputs": []
    },
    {
      "cell_type": "code",
      "metadata": {
        "id": "lKYnk41aAGZy",
        "colab_type": "code",
        "colab": {
          "base_uri": "https://localhost:8080/",
          "height": 88
        },
        "outputId": "6b1f18e5-17ab-4a18-911a-c671cfd5a163"
      },
      "source": [
        "null_columns=train.columns[train.isnull().any()]\n",
        "train[null_columns].isnull().sum()"
      ],
      "execution_count": null,
      "outputs": [
        {
          "output_type": "execute_result",
          "data": {
            "text/plain": [
              "category_name         5083\n",
              "brand_name          506058\n",
              "item_description         3\n",
              "dtype: int64"
            ]
          },
          "metadata": {
            "tags": []
          },
          "execution_count": 19
        }
      ]
    },
    {
      "cell_type": "code",
      "metadata": {
        "id": "kVQxpNj3oPEQ",
        "colab_type": "code",
        "colab": {
          "base_uri": "https://localhost:8080/",
          "height": 195
        },
        "outputId": "3e3b89eb-677d-4558-ed0b-9b2118a7563a"
      },
      "source": [
        "print(train.shape)\n",
        "print(train.dtypes)"
      ],
      "execution_count": null,
      "outputs": [
        {
          "output_type": "stream",
          "text": [
            "(1186028, 8)\n",
            "train_id               int64\n",
            "name                  object\n",
            "item_condition_id      int64\n",
            "category_name         object\n",
            "brand_name            object\n",
            "price                float64\n",
            "shipping               int64\n",
            "item_description      object\n",
            "dtype: object\n"
          ],
          "name": "stdout"
        }
      ]
    },
    {
      "cell_type": "code",
      "metadata": {
        "id": "o4zhrpctp4Cw",
        "colab_type": "code",
        "colab": {
          "base_uri": "https://localhost:8080/",
          "height": 263
        },
        "outputId": "91797d87-4db6-4b85-b8c1-28f2491b8d6d"
      },
      "source": [
        "data.head()"
      ],
      "execution_count": null,
      "outputs": [
        {
          "output_type": "execute_result",
          "data": {
            "text/html": [
              "<div>\n",
              "<style scoped>\n",
              "    .dataframe tbody tr th:only-of-type {\n",
              "        vertical-align: middle;\n",
              "    }\n",
              "\n",
              "    .dataframe tbody tr th {\n",
              "        vertical-align: top;\n",
              "    }\n",
              "\n",
              "    .dataframe thead th {\n",
              "        text-align: right;\n",
              "    }\n",
              "</style>\n",
              "<table border=\"1\" class=\"dataframe\">\n",
              "  <thead>\n",
              "    <tr style=\"text-align: right;\">\n",
              "      <th></th>\n",
              "      <th>train_id</th>\n",
              "      <th>name</th>\n",
              "      <th>item_condition_id</th>\n",
              "      <th>category_name</th>\n",
              "      <th>brand_name</th>\n",
              "      <th>price</th>\n",
              "      <th>shipping</th>\n",
              "      <th>item_description</th>\n",
              "    </tr>\n",
              "  </thead>\n",
              "  <tbody>\n",
              "    <tr>\n",
              "      <th>0</th>\n",
              "      <td>0</td>\n",
              "      <td>MLB Cincinnati Reds T Shirt Size XL</td>\n",
              "      <td>3</td>\n",
              "      <td>Men/Tops/T-shirts</td>\n",
              "      <td>NaN</td>\n",
              "      <td>10.0</td>\n",
              "      <td>1</td>\n",
              "      <td>No description yet</td>\n",
              "    </tr>\n",
              "    <tr>\n",
              "      <th>1</th>\n",
              "      <td>1</td>\n",
              "      <td>Razer BlackWidow Chroma Keyboard</td>\n",
              "      <td>3</td>\n",
              "      <td>Electronics/Computers &amp; Tablets/Components &amp; P...</td>\n",
              "      <td>Razer</td>\n",
              "      <td>52.0</td>\n",
              "      <td>0</td>\n",
              "      <td>This keyboard is in great condition and works ...</td>\n",
              "    </tr>\n",
              "    <tr>\n",
              "      <th>2</th>\n",
              "      <td>2</td>\n",
              "      <td>AVA-VIV Blouse</td>\n",
              "      <td>1</td>\n",
              "      <td>Women/Tops &amp; Blouses/Blouse</td>\n",
              "      <td>Target</td>\n",
              "      <td>10.0</td>\n",
              "      <td>1</td>\n",
              "      <td>Adorable top with a hint of lace and a key hol...</td>\n",
              "    </tr>\n",
              "    <tr>\n",
              "      <th>3</th>\n",
              "      <td>3</td>\n",
              "      <td>Leather Horse Statues</td>\n",
              "      <td>1</td>\n",
              "      <td>Home/Home Décor/Home Décor Accents</td>\n",
              "      <td>NaN</td>\n",
              "      <td>35.0</td>\n",
              "      <td>1</td>\n",
              "      <td>New with tags. Leather horses. Retail for [rm]...</td>\n",
              "    </tr>\n",
              "    <tr>\n",
              "      <th>4</th>\n",
              "      <td>4</td>\n",
              "      <td>24K GOLD plated rose</td>\n",
              "      <td>1</td>\n",
              "      <td>Women/Jewelry/Necklaces</td>\n",
              "      <td>NaN</td>\n",
              "      <td>44.0</td>\n",
              "      <td>0</td>\n",
              "      <td>Complete with certificate of authenticity</td>\n",
              "    </tr>\n",
              "  </tbody>\n",
              "</table>\n",
              "</div>"
            ],
            "text/plain": [
              "   train_id  ...                                   item_description\n",
              "0         0  ...                                 No description yet\n",
              "1         1  ...  This keyboard is in great condition and works ...\n",
              "2         2  ...  Adorable top with a hint of lace and a key hol...\n",
              "3         3  ...  New with tags. Leather horses. Retail for [rm]...\n",
              "4         4  ...          Complete with certificate of authenticity\n",
              "\n",
              "[5 rows x 8 columns]"
            ]
          },
          "metadata": {
            "tags": []
          },
          "execution_count": 10
        }
      ]
    },
    {
      "cell_type": "markdown",
      "metadata": {
        "id": "kZMPuUdSqqUK",
        "colab_type": "text"
      },
      "source": [
        "## Exploratory Data Analysis"
      ]
    },
    {
      "cell_type": "markdown",
      "metadata": {
        "id": "2LETcDuzq_SR",
        "colab_type": "text"
      },
      "source": [
        " **Price**"
      ]
    },
    {
      "cell_type": "code",
      "metadata": {
        "id": "L5wU83gBqHsx",
        "colab_type": "code",
        "colab": {
          "base_uri": "https://localhost:8080/",
          "height": 177
        },
        "outputId": "aa567ed9-559c-429d-f1ff-56da7bb1709d"
      },
      "source": [
        "data.price.describe()"
      ],
      "execution_count": null,
      "outputs": [
        {
          "output_type": "execute_result",
          "data": {
            "text/plain": [
              "count    1.482535e+06\n",
              "mean     2.673752e+01\n",
              "std      3.858607e+01\n",
              "min      0.000000e+00\n",
              "25%      1.000000e+01\n",
              "50%      1.700000e+01\n",
              "75%      2.900000e+01\n",
              "max      2.009000e+03\n",
              "Name: price, dtype: float64"
            ]
          },
          "metadata": {
            "tags": []
          },
          "execution_count": 7
        }
      ]
    },
    {
      "cell_type": "markdown",
      "metadata": {
        "id": "FPAk10Jdrcr4",
        "colab_type": "text"
      },
      "source": [
        "The maximum value for price is 2009 and the mean value is 26.7. 50th and 25th percentile values is a far lesser than the mean value. 75th percentile value is much smaller than the max value. \n",
        "Now i will go for plotting histograms"
      ]
    },
    {
      "cell_type": "markdown",
      "metadata": {
        "id": "3rdKDJvUo0Ad",
        "colab_type": "text"
      },
      "source": [
        "**Objective** : To know the the number of occurance of datapoints by plotting the histogram representation"
      ]
    },
    {
      "cell_type": "code",
      "metadata": {
        "id": "Bn8iCVP_rF36",
        "colab_type": "code",
        "colab": {
          "base_uri": "https://localhost:8080/",
          "height": 350
        },
        "outputId": "728a52f7-54dc-4028-ef36-b3928707b973"
      },
      "source": [
        "data['price'].plot.hist(bins = 50, figsize = (10,5), edgecolor = 'white', range = [0,500])\n",
        "plt.xlabel('price')\n",
        "plt.ylabel('frequency')\n",
        "plt.title('Price Histogram')\n",
        "plt.show()"
      ],
      "execution_count": null,
      "outputs": [
        {
          "output_type": "display_data",
          "data": {
            "image/png": "[encoded data removed]",
            "text/plain": [
              "<Figure size 720x360 with 1 Axes>"
            ]
          },
          "metadata": {
            "tags": [],
            "needs_background": "light"
          }
        }
      ]
    },
    {
      "cell_type": "markdown",
      "metadata": {
        "id": "GjpNGI-K3Vyg",
        "colab_type": "text"
      },
      "source": [
        "**Analysis** :The price variable is very left skewed and ver long right trail. The minimum price is 0 ie free product and the highest is 2009.For larger price values this representation is not explainable . So iam going to plot histograms for log of prices to get rid of skeweness.\n",
        "\n",
        "\n",
        "if price is 0 log(0) is undefined. So add 1 with price values and log(1) will be 0.\n",
        "\n"
      ]
    },
    {
      "cell_type": "code",
      "metadata": {
        "id": "Y4LJxD803k-S",
        "colab_type": "code",
        "colab": {}
      },
      "source": [
        "data['logprice'] = np.log(data['price']+1) "
      ],
      "execution_count": null,
      "outputs": []
    },
    {
      "cell_type": "code",
      "metadata": {
        "id": "K-rw1oYZ4Hus",
        "colab_type": "code",
        "colab": {
          "base_uri": "https://localhost:8080/",
          "height": 350
        },
        "outputId": "f261eb56-ef21-4bc3-af27-16635e7954d4"
      },
      "source": [
        "data['logprice'].plot.hist(bins = 50, figsize = (10,5), edgecolor = 'white')\n",
        "plt.xlabel('logprice')\n",
        "plt.ylabel('frequency')\n",
        "plt.title('logprice Histogram')\n",
        "plt.show()"
      ],
      "execution_count": null,
      "outputs": [
        {
          "output_type": "display_data",
          "data": {
            "image/png": "[encoded data removed]",
            "text/plain": [
              "<Figure size 720x360 with 1 Axes>"
            ]
          },
          "metadata": {
            "tags": [],
            "needs_background": "light"
          }
        }
      ]
    },
    {
      "cell_type": "markdown",
      "metadata": {
        "id": "eultK2-JzSuy",
        "colab_type": "text"
      },
      "source": [
        "**Conclusion** : This histogram representation in not much explainable so it is better to go for plotting histograms based on percentile values."
      ]
    },
    {
      "cell_type": "code",
      "metadata": {
        "id": "AGenj9jZwveL",
        "colab_type": "code",
        "colab": {}
      },
      "source": [
        "#https://stackoverflow.com/questions/56148987/plot-a-histogram-based-on-percentiles\n",
        "data['Quantile'] = pd.qcut(data.price, q=np.arange(0,1.1,0.1)) #Quantile-based discretization function.\n",
        "df = pd.DataFrame(data.groupby('Quantile').agg('size').reset_index())\n",
        "df.columns = ['quantiles','count']\n",
        "sns.set(rc={'figure.figsize':(15,6)}, style = 'whitegrid')\n",
        "sns.barplot(x=\"quantiles\", y=\"count\", data= df,palette=\"Blues_d\")\n",
        "plt.title('Histogram by Price Percentiles')\n",
        "plt.show()"
      ],
      "execution_count": null,
      "outputs": []
    },
    {
      "cell_type": "markdown",
      "metadata": {
        "id": "Vfd6aIJizmua",
        "colab_type": "text"
      },
      "source": [
        "**Conclusion** : The maximum frequency of data items occurs between 7 and 10 of price values and all the quantiles have a minimum count of 12000"
      ]
    },
    {
      "cell_type": "markdown",
      "metadata": {
        "id": "Exgo_h0q41zK",
        "colab_type": "text"
      },
      "source": [
        "**Shipping**"
      ]
    },
    {
      "cell_type": "markdown",
      "metadata": {
        "id": "Z3YYzDCcAZq-",
        "colab_type": "text"
      },
      "source": [
        "**Objective** : To know the variation of logprice across the shipping values"
      ]
    },
    {
      "cell_type": "markdown",
      "metadata": {
        "id": "AO2GlenDrMNQ",
        "colab_type": "text"
      },
      "source": [
        "Shippig have two value, 0 and 1. 0 is for shipping price is paid by buyer and 1 is for shipping price is paid by seller.So inorder to understand the variation of log price with shipping value it is better to go for plotting barplots for both seller paid and buyer paid."
      ]
    },
    {
      "cell_type": "code",
      "metadata": {
        "id": "B-hl6vWu4z-8",
        "colab_type": "code",
        "colab": {}
      },
      "source": [
        "sns.boxplot(x=data.shipping, y=data.logprice)"
      ],
      "execution_count": null,
      "outputs": []
    },
    {
      "cell_type": "markdown",
      "metadata": {
        "id": "QXVdx28x-xV0",
        "colab_type": "text"
      },
      "source": [
        "**Analysis** : When shipping is 1 , the shipping price is paid by seller and when shipping is 0 , the shipping price is paid by the buyer. The graph shows that for higher item price,the shipping charge is paid by the buyer and which is not as the usual trend.."
      ]
    },
    {
      "cell_type": "markdown",
      "metadata": {
        "id": "w57PJHiYjk9g",
        "colab_type": "text"
      },
      "source": [
        "**Conclusion** : From the plot it is understable that the plot doesnt produce a usual logic. So iam assuming that the shipping price is dependent on a particular brand or a particular category of items "
      ]
    },
    {
      "cell_type": "markdown",
      "metadata": {
        "id": "EvhMXuSNAg0z",
        "colab_type": "text"
      },
      "source": [
        "**Objective** : To know the log price variation by plotting violin plot\n"
      ]
    },
    {
      "cell_type": "code",
      "metadata": {
        "id": "-ogzixLpyEhA",
        "colab_type": "code",
        "colab": {}
      },
      "source": [
        "sns.violinplot(x=data.shipping, y=data.logprice)"
      ],
      "execution_count": null,
      "outputs": []
    },
    {
      "cell_type": "markdown",
      "metadata": {
        "id": "THFeBi_xyPT3",
        "colab_type": "text"
      },
      "source": [
        "**Conclusion** : The conclusion is same as barplot. The mean price for shipping = 0 is highest than shipping = 1"
      ]
    },
    {
      "cell_type": "markdown",
      "metadata": {
        "id": "L_c2ZTdOB98N",
        "colab_type": "text"
      },
      "source": [
        "**Category**"
      ]
    },
    {
      "cell_type": "code",
      "metadata": {
        "id": "O3-4wQaE6OWJ",
        "colab_type": "code",
        "colab": {}
      },
      "source": [
        "data['category_name'].value_counts()"
      ],
      "execution_count": null,
      "outputs": []
    },
    {
      "cell_type": "markdown",
      "metadata": {
        "id": "0uIRId7mCteH",
        "colab_type": "text"
      },
      "source": [
        "It is seen that category occurs in a hierarchical manner and the largest number of items occur for Women/Athletic Apparel/Pants, Tights, Leggings  category. In order to visuallize iam creating different columns for different subcatogory"
      ]
    },
    {
      "cell_type": "code",
      "metadata": {
        "id": "jG891cCsCVhj",
        "colab_type": "code",
        "colab": {}
      },
      "source": [
        "data[['Main_cateogry','subcategory1','subcategory2','subcategory3','subcategory4']] = data['category_name'].str.split('/', 0, expand=True)"
      ],
      "execution_count": null,
      "outputs": []
    },
    {
      "cell_type": "markdown",
      "metadata": {
        "id": "QgOpmOLt0E32",
        "colab_type": "text"
      },
      "source": [
        "Now it is better to plot boxplots for the top categories inorder to do a multivariate visulaization with respect to the price"
      ]
    },
    {
      "cell_type": "markdown",
      "metadata": {
        "id": "eJq_ZOCUAtWJ",
        "colab_type": "text"
      },
      "source": [
        "**Objective** : To understand the variation of logprice across the main categories by plotting boxplots"
      ]
    },
    {
      "cell_type": "code",
      "metadata": {
        "id": "panJgX1DDlTG",
        "colab_type": "code",
        "colab": {}
      },
      "source": [
        "sns.set(rc={'figure.figsize':(20,9)})\n",
        "sns.boxplot(x=\"Main_cateogry\", y=\"logprice\", data = data)\n",
        "plt.title('Boxplot')\n",
        "plt.show()"
      ],
      "execution_count": null,
      "outputs": []
    },
    {
      "cell_type": "markdown",
      "metadata": {
        "id": "_WGVQAPpJnY3",
        "colab_type": "text"
      },
      "source": [
        "**Analysis** : From the plot it is understood that the maincategory men have the highest median priceand the rest of them have a similarity in median prices.\n"
      ]
    },
    {
      "cell_type": "markdown",
      "metadata": {
        "id": "gXb0ESDAktV3",
        "colab_type": "text"
      },
      "source": [
        "**Conclusion** : Men cateogry have the highest median price and it varies significantly so the category is going to be an important feature and to know the occurance it is better to go for Barplots"
      ]
    },
    {
      "cell_type": "markdown",
      "metadata": {
        "id": "skMR17QwAxUh",
        "colab_type": "text"
      },
      "source": [
        "**Objective** : To know the number of occurance of datapoint by plotting Barplots"
      ]
    },
    {
      "cell_type": "code",
      "metadata": {
        "id": "3TarcrT414Uf",
        "colab_type": "code",
        "colab": {}
      },
      "source": [
        "df_cat1_counts = pd.DataFrame(data.groupby('Main_cateogry',as_index = False).agg({'shipping' : 'count'}))\n",
        "df_cat1_counts.columns = ['cat1','count']\n",
        "df_cat1_counts = df_cat1_counts.sort_values(by=['count'],ascending = False)\n",
        "sns.set(rc={'figure.figsize':(8,6)}, style = 'whitegrid')\n",
        "sns.barplot(x = \"count\", y=\"cat1\", data=df_cat1_counts,palette=\"Blues_d\")"
      ],
      "execution_count": null,
      "outputs": []
    },
    {
      "cell_type": "markdown",
      "metadata": {
        "id": "F7UwKq4_3Zxa",
        "colab_type": "text"
      },
      "source": [
        "**Analysis** : Most of the items belongs to Women category and the frequency is huge enough. Rest of the categories doent make an impact like Women category\n",
        "\n",
        "**Conclusion** : Women category have the highest number of products\n",
        "\n",
        "**Objective** : To visualise text like features by plotting Worldcloud"
      ]
    },
    {
      "cell_type": "code",
      "metadata": {
        "id": "B4AWw7835jKE",
        "colab_type": "code",
        "colab": {}
      },
      "source": [
        "cat3 = \" \".join(cat for cat in data.subcategory2.values.astype(str)) #Concatenating all the categories\n",
        "cat2 = \" \".join(cat for cat in data.subcategory1.values.astype(str))\n",
        "cat1 = \" \".join(cat for cat in data.Main_cateogry.values.astype(str))\n"
      ],
      "execution_count": null,
      "outputs": []
    },
    {
      "cell_type": "code",
      "metadata": {
        "id": "3gYnT2DL5vp_",
        "colab_type": "code",
        "colab": {}
      },
      "source": [
        "text_cat = cat1 + cat2 + cat3"
      ],
      "execution_count": null,
      "outputs": []
    },
    {
      "cell_type": "code",
      "metadata": {
        "id": "uGTau75G4OON",
        "colab_type": "code",
        "colab": {}
      },
      "source": [
        "wordcloud = WordCloud(collocations=False).generate(text_cat)\n",
        "plt.figure(figsize = (12,6))\n",
        "plt.imshow(wordcloud, interpolation='bilinear')\n",
        "plt.axis(\"off\")\n",
        "plt.title('WordCloud for Category Name')\n",
        "plt.show()"
      ],
      "execution_count": null,
      "outputs": []
    },
    {
      "cell_type": "markdown",
      "metadata": {
        "id": "B0ZTychR62Av",
        "colab_type": "text"
      },
      "source": [
        "**Conclusion** : From the word cloud , it is clear that Women category is occuring a lot of times than any of the other sub categories. The plot shows a high occurence of beuty , blowse , makeup so it is a great evidence fo roccuranc eof wimen category the highest times."
      ]
    },
    {
      "cell_type": "code",
      "metadata": {
        "id": "O36K3FYaL2-0",
        "colab_type": "code",
        "colab": {}
      },
      "source": [
        "data['Main_cateogry'].value_counts()"
      ],
      "execution_count": null,
      "outputs": []
    },
    {
      "cell_type": "markdown",
      "metadata": {
        "id": "NKgRrcw_L9Q5",
        "colab_type": "text"
      },
      "source": [
        "Women have the highest number of items"
      ]
    },
    {
      "cell_type": "markdown",
      "metadata": {
        "id": "9Jt2sZ4CNdpw",
        "colab_type": "text"
      },
      "source": [
        "**Brand**"
      ]
    },
    {
      "cell_type": "code",
      "metadata": {
        "id": "Yf0itIYKFlvT",
        "colab_type": "code",
        "colab": {}
      },
      "source": [
        "data['brand_name'].nunique()"
      ],
      "execution_count": null,
      "outputs": []
    },
    {
      "cell_type": "markdown",
      "metadata": {
        "id": "3uH1TXUfNoHh",
        "colab_type": "text"
      },
      "source": [
        "There are 4809 brandnames"
      ]
    },
    {
      "cell_type": "markdown",
      "metadata": {
        "id": "mwcxsGw0A-Ou",
        "colab_type": "text"
      },
      "source": [
        "**Objective** :To know the number of occurance of a data item by plotting Barplot"
      ]
    },
    {
      "cell_type": "code",
      "metadata": {
        "id": "Kc3nU2C_Nmz8",
        "colab_type": "code",
        "colab": {}
      },
      "source": [
        "data.brand_name.value_counts()[:10].plot(kind = 'bar',figsize = (20,10), title=\"Top Brand Names\",fontsize=20)"
      ],
      "execution_count": null,
      "outputs": []
    },
    {
      "cell_type": "markdown",
      "metadata": {
        "id": "np76P22vOXxt",
        "colab_type": "text"
      },
      "source": [
        "**Analysis** : The most number of occurance in PINK brand. Brand is a text column , so it is better to visualize through word cloud.\n",
        "\n",
        "---\n",
        "\n"
      ]
    },
    {
      "cell_type": "code",
      "metadata": {
        "id": "VWGShmTz8MCh",
        "colab_type": "code",
        "colab": {}
      },
      "source": [
        "wordcloud = WordCloud(width = 1200, height = 1000).generate(\" \".join(data.brand_name.astype(str)))\n",
        "plt.figure(figsize = (20, 9))\n",
        "plt.imshow(wordcloud)\n",
        "plt.axis(\"off\")\n",
        "plt.title('Word Cloud for Listing Names')\n",
        "plt.show()"
      ],
      "execution_count": null,
      "outputs": []
    },
    {
      "cell_type": "markdown",
      "metadata": {
        "id": "jZGoXwlB8uGU",
        "colab_type": "text"
      },
      "source": [
        "**Conclusion** : Pink, victoria , secret are the most occurred brands.There is nothing more that could be understood from this plot."
      ]
    },
    {
      "cell_type": "markdown",
      "metadata": {
        "id": "-NMM8AJtOf2H",
        "colab_type": "text"
      },
      "source": [
        "**Description**"
      ]
    },
    {
      "cell_type": "markdown",
      "metadata": {
        "id": "SHyZOK9COihF",
        "colab_type": "text"
      },
      "source": [
        "The best way to visualize this column is by worcloud.This helps to see the word that occurs more frequently.\n",
        "\n",
        "**Obective** : Worldcloud"
      ]
    },
    {
      "cell_type": "code",
      "metadata": {
        "id": "T-F77HfAOVYQ",
        "colab_type": "code",
        "colab": {}
      },
      "source": [
        "#Ref: https://www.kaggle.com/konohayui/mercari-price-suggestion-eda\n",
        "wc = WordCloud(max_words=300,width = 1200, height = 900).generate(\" \".join(data.item_description.astype(str)))\n",
        "plt.figure(figsize = (18, 13))\n",
        "plt.imshow(wc)\n",
        "plt.axis(\"off\")\n",
        "plt.show()"
      ],
      "execution_count": null,
      "outputs": []
    },
    {
      "cell_type": "markdown",
      "metadata": {
        "id": "2tZCtYpEQah3",
        "colab_type": "text"
      },
      "source": [
        "**Conclusion** : Words BRAND , SHIPPING , NEW occurs more frequently and this accounts to price highly."
      ]
    },
    {
      "cell_type": "markdown",
      "metadata": {
        "id": "NGo2DQM1mGqE",
        "colab_type": "text"
      },
      "source": [
        "## **Feature Engineering**"
      ]
    },
    {
      "cell_type": "markdown",
      "metadata": {
        "id": "7bUGsJbhctCA",
        "colab_type": "text"
      },
      "source": [
        "**Category**"
      ]
    },
    {
      "cell_type": "markdown",
      "metadata": {
        "id": "dWLx9rPmcyX_",
        "colab_type": "text"
      },
      "source": [
        "Splitting caregory in to sub categories for train and test"
      ]
    },
    {
      "cell_type": "code",
      "metadata": {
        "id": "SrdSE04icwK_",
        "colab_type": "code",
        "colab": {}
      },
      "source": [
        "test[['Main_category','subcategory1','subcategory2','subcategory3','subcategory4']] = test['category_name'].str.split('/', 0, expand=True)\n",
        "train[['Main_category','subcategory1','subcategory2','subcategory3','subcategory4']] = train['category_name'].str.split('/', 0, expand=True)"
      ],
      "execution_count": null,
      "outputs": []
    },
    {
      "cell_type": "code",
      "metadata": {
        "id": "DdqoqZ3RIrlz",
        "colab_type": "code",
        "colab": {}
      },
      "source": [
        "test1[['Main_category','subcategory1','subcategory2','subcategory3','subcategory4']] = test1['category_name'].str.split('/', 0, expand=True)"
      ],
      "execution_count": null,
      "outputs": []
    },
    {
      "cell_type": "code",
      "metadata": {
        "id": "fFMKjBteDHlC",
        "colab_type": "code",
        "colab": {
          "base_uri": "https://localhost:8080/",
          "height": 450
        },
        "outputId": "e55bd7bc-fe54-450e-bf59-64bf2ba67681"
      },
      "source": [
        "train.head()"
      ],
      "execution_count": null,
      "outputs": [
        {
          "output_type": "execute_result",
          "data": {
            "text/html": [
              "<div>\n",
              "<style scoped>\n",
              "    .dataframe tbody tr th:only-of-type {\n",
              "        vertical-align: middle;\n",
              "    }\n",
              "\n",
              "    .dataframe tbody tr th {\n",
              "        vertical-align: top;\n",
              "    }\n",
              "\n",
              "    .dataframe thead th {\n",
              "        text-align: right;\n",
              "    }\n",
              "</style>\n",
              "<table border=\"1\" class=\"dataframe\">\n",
              "  <thead>\n",
              "    <tr style=\"text-align: right;\">\n",
              "      <th></th>\n",
              "      <th>train_id</th>\n",
              "      <th>name</th>\n",
              "      <th>item_condition_id</th>\n",
              "      <th>category_name</th>\n",
              "      <th>brand_name</th>\n",
              "      <th>price</th>\n",
              "      <th>shipping</th>\n",
              "      <th>item_description</th>\n",
              "      <th>Main_category</th>\n",
              "      <th>subcategory1</th>\n",
              "      <th>subcategory2</th>\n",
              "      <th>subcategory3</th>\n",
              "      <th>subcategory4</th>\n",
              "    </tr>\n",
              "  </thead>\n",
              "  <tbody>\n",
              "    <tr>\n",
              "      <th>1416089</th>\n",
              "      <td>1416089</td>\n",
              "      <td>LuLaRoe kids L/XL leggings</td>\n",
              "      <td>3</td>\n",
              "      <td>Kids/Boys (4+)/Bottoms</td>\n",
              "      <td>NaN</td>\n",
              "      <td>15.0</td>\n",
              "      <td>1</td>\n",
              "      <td>Worn once. Still in great condition</td>\n",
              "      <td>Kids</td>\n",
              "      <td>Boys (4+)</td>\n",
              "      <td>Bottoms</td>\n",
              "      <td>None</td>\n",
              "      <td>None</td>\n",
              "    </tr>\n",
              "    <tr>\n",
              "      <th>1423955</th>\n",
              "      <td>1423955</td>\n",
              "      <td>Bundle 5 Display mannequins</td>\n",
              "      <td>1</td>\n",
              "      <td>Other/Other/Other</td>\n",
              "      <td>NaN</td>\n",
              "      <td>44.0</td>\n",
              "      <td>0</td>\n",
              "      <td>Brand new</td>\n",
              "      <td>Other</td>\n",
              "      <td>Other</td>\n",
              "      <td>Other</td>\n",
              "      <td>None</td>\n",
              "      <td>None</td>\n",
              "    </tr>\n",
              "    <tr>\n",
              "      <th>403867</th>\n",
              "      <td>403867</td>\n",
              "      <td>LIVING PROOF PERFECT HAIR DAY DRY SHAMPO</td>\n",
              "      <td>1</td>\n",
              "      <td>Beauty/Hair Care/Styling Products</td>\n",
              "      <td>NaN</td>\n",
              "      <td>35.0</td>\n",
              "      <td>0</td>\n",
              "      <td>This listing is for 3 full size bottles of liv...</td>\n",
              "      <td>Beauty</td>\n",
              "      <td>Hair Care</td>\n",
              "      <td>Styling Products</td>\n",
              "      <td>None</td>\n",
              "      <td>None</td>\n",
              "    </tr>\n",
              "    <tr>\n",
              "      <th>701974</th>\n",
              "      <td>701974</td>\n",
              "      <td>Palazzo pants</td>\n",
              "      <td>2</td>\n",
              "      <td>Women/Pants/Casual Pants</td>\n",
              "      <td>NaN</td>\n",
              "      <td>19.0</td>\n",
              "      <td>0</td>\n",
              "      <td>Like new adorable black and white palazzo pant...</td>\n",
              "      <td>Women</td>\n",
              "      <td>Pants</td>\n",
              "      <td>Casual Pants</td>\n",
              "      <td>None</td>\n",
              "      <td>None</td>\n",
              "    </tr>\n",
              "    <tr>\n",
              "      <th>1124330</th>\n",
              "      <td>1124330</td>\n",
              "      <td>RESERVED FOR Ms Jas PINK BOYSHORTS LARGE</td>\n",
              "      <td>1</td>\n",
              "      <td>Women/Underwear/Panties</td>\n",
              "      <td>PINK</td>\n",
              "      <td>30.0</td>\n",
              "      <td>1</td>\n",
              "      <td>NEW WITH TAGS MORNING SKY SHEER SEAFOAM OLIVE ...</td>\n",
              "      <td>Women</td>\n",
              "      <td>Underwear</td>\n",
              "      <td>Panties</td>\n",
              "      <td>None</td>\n",
              "      <td>None</td>\n",
              "    </tr>\n",
              "  </tbody>\n",
              "</table>\n",
              "</div>"
            ],
            "text/plain": [
              "         train_id  ... subcategory4\n",
              "1416089   1416089  ...         None\n",
              "1423955   1423955  ...         None\n",
              "403867     403867  ...         None\n",
              "701974     701974  ...         None\n",
              "1124330   1124330  ...         None\n",
              "\n",
              "[5 rows x 13 columns]"
            ]
          },
          "metadata": {
            "tags": []
          },
          "execution_count": 11
        }
      ]
    },
    {
      "cell_type": "markdown",
      "metadata": {
        "id": "nS13nlUq14aQ",
        "colab_type": "text"
      },
      "source": [
        "**Name Length**"
      ]
    },
    {
      "cell_type": "code",
      "metadata": {
        "id": "1JzzMwkL18kl",
        "colab_type": "code",
        "colab": {}
      },
      "source": [
        "len_tr = []\n",
        "for i in train['name']:\n",
        "  l = []\n",
        "  l.append(len(str(i)))\n",
        "  len_tr.append(l)"
      ],
      "execution_count": null,
      "outputs": []
    },
    {
      "cell_type": "code",
      "metadata": {
        "id": "gW4V7Zds2BS6",
        "colab_type": "code",
        "colab": {}
      },
      "source": [
        "df = pd.DataFrame(len_tr,columns=['name_length'])\n",
        "train['name_length'] = df['name_length']"
      ],
      "execution_count": null,
      "outputs": []
    },
    {
      "cell_type": "code",
      "metadata": {
        "id": "VPHxgiqU2HxQ",
        "colab_type": "code",
        "colab": {
          "base_uri": "https://localhost:8080/",
          "height": 450
        },
        "outputId": "5c9877af-0c51-4663-8b0b-cade866bf9c4"
      },
      "source": [
        "train.head()"
      ],
      "execution_count": null,
      "outputs": [
        {
          "output_type": "execute_result",
          "data": {
            "text/html": [
              "<div>\n",
              "<style scoped>\n",
              "    .dataframe tbody tr th:only-of-type {\n",
              "        vertical-align: middle;\n",
              "    }\n",
              "\n",
              "    .dataframe tbody tr th {\n",
              "        vertical-align: top;\n",
              "    }\n",
              "\n",
              "    .dataframe thead th {\n",
              "        text-align: right;\n",
              "    }\n",
              "</style>\n",
              "<table border=\"1\" class=\"dataframe\">\n",
              "  <thead>\n",
              "    <tr style=\"text-align: right;\">\n",
              "      <th></th>\n",
              "      <th>train_id</th>\n",
              "      <th>name</th>\n",
              "      <th>item_condition_id</th>\n",
              "      <th>category_name</th>\n",
              "      <th>brand_name</th>\n",
              "      <th>price</th>\n",
              "      <th>shipping</th>\n",
              "      <th>item_description</th>\n",
              "      <th>Main_category</th>\n",
              "      <th>subcategory1</th>\n",
              "      <th>subcategory2</th>\n",
              "      <th>subcategory3</th>\n",
              "      <th>subcategory4</th>\n",
              "      <th>preprocessed_names</th>\n",
              "      <th>preprocessed_desc</th>\n",
              "      <th>name_length</th>\n",
              "    </tr>\n",
              "  </thead>\n",
              "  <tbody>\n",
              "    <tr>\n",
              "      <th>1416089</th>\n",
              "      <td>1416089</td>\n",
              "      <td>LuLaRoe kids L/XL leggings</td>\n",
              "      <td>3</td>\n",
              "      <td>Kids/Boys (4+)/Bottoms</td>\n",
              "      <td>missing</td>\n",
              "      <td>15.0</td>\n",
              "      <td>1</td>\n",
              "      <td>Worn once. Still in great condition</td>\n",
              "      <td>Kids</td>\n",
              "      <td>Boys (4+)</td>\n",
              "      <td>Bottoms</td>\n",
              "      <td>missing</td>\n",
              "      <td>missing</td>\n",
              "      <td>lularoe kids l xl leggings</td>\n",
              "      <td>worn still great condition</td>\n",
              "      <td>NaN</td>\n",
              "    </tr>\n",
              "    <tr>\n",
              "      <th>1423955</th>\n",
              "      <td>1423955</td>\n",
              "      <td>Bundle 5 Display mannequins</td>\n",
              "      <td>1</td>\n",
              "      <td>Other/Other/Other</td>\n",
              "      <td>missing</td>\n",
              "      <td>44.0</td>\n",
              "      <td>0</td>\n",
              "      <td>Brand new</td>\n",
              "      <td>Other</td>\n",
              "      <td>Other</td>\n",
              "      <td>Other</td>\n",
              "      <td>missing</td>\n",
              "      <td>missing</td>\n",
              "      <td>bundle 5 display mannequins</td>\n",
              "      <td>brand new</td>\n",
              "      <td>NaN</td>\n",
              "    </tr>\n",
              "    <tr>\n",
              "      <th>403867</th>\n",
              "      <td>403867</td>\n",
              "      <td>LIVING PROOF PERFECT HAIR DAY DRY SHAMPO</td>\n",
              "      <td>1</td>\n",
              "      <td>Beauty/Hair Care/Styling Products</td>\n",
              "      <td>missing</td>\n",
              "      <td>35.0</td>\n",
              "      <td>0</td>\n",
              "      <td>This listing is for 3 full size bottles of liv...</td>\n",
              "      <td>Beauty</td>\n",
              "      <td>Hair Care</td>\n",
              "      <td>Styling Products</td>\n",
              "      <td>missing</td>\n",
              "      <td>missing</td>\n",
              "      <td>living proof perfect hair day dry shampo</td>\n",
              "      <td>this listing 3 full size bottles living proof ...</td>\n",
              "      <td>10.0</td>\n",
              "    </tr>\n",
              "    <tr>\n",
              "      <th>701974</th>\n",
              "      <td>701974</td>\n",
              "      <td>Palazzo pants</td>\n",
              "      <td>2</td>\n",
              "      <td>Women/Pants/Casual Pants</td>\n",
              "      <td>missing</td>\n",
              "      <td>19.0</td>\n",
              "      <td>0</td>\n",
              "      <td>Like new adorable black and white palazzo pant...</td>\n",
              "      <td>Women</td>\n",
              "      <td>Pants</td>\n",
              "      <td>Casual Pants</td>\n",
              "      <td>missing</td>\n",
              "      <td>missing</td>\n",
              "      <td>palazzo pants</td>\n",
              "      <td>like new adorable black white palazzo pants no...</td>\n",
              "      <td>33.0</td>\n",
              "    </tr>\n",
              "    <tr>\n",
              "      <th>1124330</th>\n",
              "      <td>1124330</td>\n",
              "      <td>RESERVED FOR Ms Jas PINK BOYSHORTS LARGE</td>\n",
              "      <td>1</td>\n",
              "      <td>Women/Underwear/Panties</td>\n",
              "      <td>PINK</td>\n",
              "      <td>30.0</td>\n",
              "      <td>1</td>\n",
              "      <td>NEW WITH TAGS MORNING SKY SHEER SEAFOAM OLIVE ...</td>\n",
              "      <td>Women</td>\n",
              "      <td>Underwear</td>\n",
              "      <td>Panties</td>\n",
              "      <td>missing</td>\n",
              "      <td>missing</td>\n",
              "      <td>reserved for ms jas pink boyshorts large</td>\n",
              "      <td>new with tags morning sky sheer seafoam olive ...</td>\n",
              "      <td>37.0</td>\n",
              "    </tr>\n",
              "  </tbody>\n",
              "</table>\n",
              "</div>"
            ],
            "text/plain": [
              "         train_id  ... name_length\n",
              "1416089   1416089  ...         NaN\n",
              "1423955   1423955  ...         NaN\n",
              "403867     403867  ...        10.0\n",
              "701974     701974  ...        33.0\n",
              "1124330   1124330  ...        37.0\n",
              "\n",
              "[5 rows x 16 columns]"
            ]
          },
          "metadata": {
            "tags": []
          },
          "execution_count": 32
        }
      ]
    },
    {
      "cell_type": "markdown",
      "metadata": {
        "id": "dHkae_0c2dWw",
        "colab_type": "text"
      },
      "source": [
        "**Objective** : To plot scatter plot to understand the price variation."
      ]
    },
    {
      "cell_type": "code",
      "metadata": {
        "id": "dqq5bPdm2ThB",
        "colab_type": "code",
        "colab": {
          "base_uri": "https://localhost:8080/",
          "height": 369
        },
        "outputId": "3568935a-ab5c-4e69-8a40-4b695310152c"
      },
      "source": [
        "sns.relplot(x=\"name_length\", y=\"price\", data=train);"
      ],
      "execution_count": null,
      "outputs": [
        {
          "output_type": "display_data",
          "data": {
            "image/png": "[encoded data removed]",
            "text/plain": [
              "<Figure size 360x360 with 1 Axes>"
            ]
          },
          "metadata": {
            "tags": [],
            "needs_background": "light"
          }
        }
      ]
    },
    {
      "cell_type": "markdown",
      "metadata": {
        "id": "lE3w9fcl2kuZ",
        "colab_type": "text"
      },
      "source": [
        "**Conclusion** : From the plot it is understood that the name lemgth doenst have any relationship with the target variable . So ignoring the feature."
      ]
    },
    {
      "cell_type": "markdown",
      "metadata": {
        "id": "0sgXySnLwwwF",
        "colab_type": "text"
      },
      "source": [
        "**Description Length**"
      ]
    },
    {
      "cell_type": "code",
      "metadata": {
        "id": "UncBTTe_xS1X",
        "colab_type": "code",
        "colab": {}
      },
      "source": [
        "len_tr = []\n",
        "for i in train['item_description']:\n",
        "  l = []\n",
        "  l.append(len(str(i)))\n",
        "  len_tr.append(l)"
      ],
      "execution_count": null,
      "outputs": []
    },
    {
      "cell_type": "code",
      "metadata": {
        "id": "U54wHUxZxu50",
        "colab_type": "code",
        "colab": {}
      },
      "source": [
        "df = pd.DataFrame(len_tr,columns=['description_length'])\n",
        "train['description_length'] = df['description_length']"
      ],
      "execution_count": null,
      "outputs": []
    },
    {
      "cell_type": "code",
      "metadata": {
        "id": "HvpOtTasC_ER",
        "colab_type": "code",
        "colab": {
          "base_uri": "https://localhost:8080/",
          "height": 433
        },
        "outputId": "e527a2fb-5a26-485e-9fbe-24407933e20e"
      },
      "source": [
        "train.head()"
      ],
      "execution_count": null,
      "outputs": [
        {
          "output_type": "execute_result",
          "data": {
            "text/html": [
              "<div>\n",
              "<style scoped>\n",
              "    .dataframe tbody tr th:only-of-type {\n",
              "        vertical-align: middle;\n",
              "    }\n",
              "\n",
              "    .dataframe tbody tr th {\n",
              "        vertical-align: top;\n",
              "    }\n",
              "\n",
              "    .dataframe thead th {\n",
              "        text-align: right;\n",
              "    }\n",
              "</style>\n",
              "<table border=\"1\" class=\"dataframe\">\n",
              "  <thead>\n",
              "    <tr style=\"text-align: right;\">\n",
              "      <th></th>\n",
              "      <th>train_id</th>\n",
              "      <th>name</th>\n",
              "      <th>item_condition_id</th>\n",
              "      <th>category_name</th>\n",
              "      <th>brand_name</th>\n",
              "      <th>price</th>\n",
              "      <th>shipping</th>\n",
              "      <th>item_description</th>\n",
              "      <th>preprocessed_names</th>\n",
              "      <th>Main_category</th>\n",
              "      <th>subcategory1</th>\n",
              "      <th>subcategory2</th>\n",
              "      <th>subcategory3</th>\n",
              "      <th>subcategory4</th>\n",
              "      <th>name_length</th>\n",
              "      <th>description_length</th>\n",
              "    </tr>\n",
              "  </thead>\n",
              "  <tbody>\n",
              "    <tr>\n",
              "      <th>0</th>\n",
              "      <td>0</td>\n",
              "      <td>MLB Cincinnati Reds T Shirt Size XL</td>\n",
              "      <td>3</td>\n",
              "      <td>Men/Tops/T-shirts</td>\n",
              "      <td>missing</td>\n",
              "      <td>10.0</td>\n",
              "      <td>1</td>\n",
              "      <td></td>\n",
              "      <td>mlb cincinnati reds t shirt size xl</td>\n",
              "      <td>Men</td>\n",
              "      <td>Tops</td>\n",
              "      <td>T-shirts</td>\n",
              "      <td>None</td>\n",
              "      <td>None</td>\n",
              "      <td>35</td>\n",
              "      <td>1</td>\n",
              "    </tr>\n",
              "    <tr>\n",
              "      <th>1</th>\n",
              "      <td>1</td>\n",
              "      <td>Razer BlackWidow Chroma Keyboard</td>\n",
              "      <td>3</td>\n",
              "      <td>Electronics/Computers &amp; Tablets/Components &amp; P...</td>\n",
              "      <td>Razer</td>\n",
              "      <td>52.0</td>\n",
              "      <td>0</td>\n",
              "      <td>This keyboard is in great condition and works ...</td>\n",
              "      <td>razer blackwidow chroma keyboard</td>\n",
              "      <td>Electronics</td>\n",
              "      <td>Computers &amp; Tablets</td>\n",
              "      <td>Components &amp; Parts</td>\n",
              "      <td>None</td>\n",
              "      <td>None</td>\n",
              "      <td>32</td>\n",
              "      <td>188</td>\n",
              "    </tr>\n",
              "    <tr>\n",
              "      <th>2</th>\n",
              "      <td>2</td>\n",
              "      <td>AVA-VIV Blouse</td>\n",
              "      <td>1</td>\n",
              "      <td>Women/Tops &amp; Blouses/Blouse</td>\n",
              "      <td>Target</td>\n",
              "      <td>10.0</td>\n",
              "      <td>1</td>\n",
              "      <td>Adorable top with a hint of lace and a key hol...</td>\n",
              "      <td>ava viv blouse</td>\n",
              "      <td>Women</td>\n",
              "      <td>Tops &amp; Blouses</td>\n",
              "      <td>Blouse</td>\n",
              "      <td>None</td>\n",
              "      <td>None</td>\n",
              "      <td>14</td>\n",
              "      <td>124</td>\n",
              "    </tr>\n",
              "    <tr>\n",
              "      <th>3</th>\n",
              "      <td>3</td>\n",
              "      <td>Leather Horse Statues</td>\n",
              "      <td>1</td>\n",
              "      <td>Home/Home Décor/Home Décor Accents</td>\n",
              "      <td>missing</td>\n",
              "      <td>35.0</td>\n",
              "      <td>1</td>\n",
              "      <td>New with tags. Leather horses. Retail for [rm]...</td>\n",
              "      <td>leather horse statues</td>\n",
              "      <td>Home</td>\n",
              "      <td>Home Décor</td>\n",
              "      <td>Home Décor Accents</td>\n",
              "      <td>None</td>\n",
              "      <td>None</td>\n",
              "      <td>21</td>\n",
              "      <td>173</td>\n",
              "    </tr>\n",
              "    <tr>\n",
              "      <th>4</th>\n",
              "      <td>4</td>\n",
              "      <td>24K GOLD plated rose</td>\n",
              "      <td>1</td>\n",
              "      <td>Women/Jewelry/Necklaces</td>\n",
              "      <td>missing</td>\n",
              "      <td>44.0</td>\n",
              "      <td>0</td>\n",
              "      <td>Complete with certificate of authenticity</td>\n",
              "      <td>24k gold plated rose</td>\n",
              "      <td>Women</td>\n",
              "      <td>Jewelry</td>\n",
              "      <td>Necklaces</td>\n",
              "      <td>None</td>\n",
              "      <td>None</td>\n",
              "      <td>20</td>\n",
              "      <td>41</td>\n",
              "    </tr>\n",
              "  </tbody>\n",
              "</table>\n",
              "</div>"
            ],
            "text/plain": [
              "   train_id  ... description_length\n",
              "0         0  ...                  1\n",
              "1         1  ...                188\n",
              "2         2  ...                124\n",
              "3         3  ...                173\n",
              "4         4  ...                 41\n",
              "\n",
              "[5 rows x 16 columns]"
            ]
          },
          "metadata": {
            "tags": []
          },
          "execution_count": 17
        }
      ]
    },
    {
      "cell_type": "markdown",
      "metadata": {
        "id": "YobdyR-C0Jhh",
        "colab_type": "text"
      },
      "source": [
        "**Objective** : To plot scatter plot to understand the price variation"
      ]
    },
    {
      "cell_type": "code",
      "metadata": {
        "id": "QT0N_bLtx8SB",
        "colab_type": "code",
        "colab": {
          "base_uri": "https://localhost:8080/",
          "height": 369
        },
        "outputId": "447fdb8c-f1cf-4195-fe69-6111f615c66a"
      },
      "source": [
        "sns.relplot(x=\"description_length\", y=\"price\", data=train);"
      ],
      "execution_count": null,
      "outputs": [
        {
          "output_type": "display_data",
          "data": {
            "image/png": "[encoded data removed]",
            "text/plain": [
              "<Figure size 360x360 with 1 Axes>"
            ]
          },
          "metadata": {
            "tags": [],
            "needs_background": "light"
          }
        }
      ]
    },
    {
      "cell_type": "markdown",
      "metadata": {
        "id": "8PEBq5Go0rl7",
        "colab_type": "text"
      },
      "source": [
        "**Conclusion** : From the scatter plot it is understandable that when price decreases description length increases. This is found to be a better feature. So iam adding it in the test data as well."
      ]
    },
    {
      "cell_type": "code",
      "metadata": {
        "id": "XYPbfY_EyaqX",
        "colab_type": "code",
        "colab": {}
      },
      "source": [
        "len_tr = []\n",
        "for i in test['item_description']:\n",
        "  l = []\n",
        "  l.append(len(str(i)))\n",
        "  len_tr.append(l)"
      ],
      "execution_count": null,
      "outputs": []
    },
    {
      "cell_type": "code",
      "metadata": {
        "id": "mfTkfQcd1CNQ",
        "colab_type": "code",
        "colab": {}
      },
      "source": [
        "df1 = pd.DataFrame(len_tr,columns=['description_length'])\n",
        "test['description_length'] = df1['description_length']"
      ],
      "execution_count": null,
      "outputs": []
    },
    {
      "cell_type": "code",
      "metadata": {
        "id": "nJgju6HsPNjJ",
        "colab_type": "code",
        "colab": {}
      },
      "source": [
        "len_tr = []\n",
        "for i in test1['item_description']:\n",
        "  l = []\n",
        "  l.append(len(str(i)))\n",
        "  len_tr.append(l)"
      ],
      "execution_count": null,
      "outputs": []
    },
    {
      "cell_type": "code",
      "metadata": {
        "id": "Uv7rvk3IPSiN",
        "colab_type": "code",
        "colab": {}
      },
      "source": [
        "df2 = pd.DataFrame(len_tr,columns=['description_length'])\n",
        "test1['description_length'] = df2['description_length']"
      ],
      "execution_count": null,
      "outputs": []
    },
    {
      "cell_type": "markdown",
      "metadata": {
        "id": "k10WQLcu20br",
        "colab_type": "text"
      },
      "source": [
        "**Mean Price For Each Brand**"
      ]
    },
    {
      "cell_type": "code",
      "metadata": {
        "id": "HoCnYv2B1CqH",
        "colab_type": "code",
        "colab": {}
      },
      "source": [
        "train['Mean_Brand_Price'] = train.groupby('brand_name')['price'].transform('mean')"
      ],
      "execution_count": null,
      "outputs": []
    },
    {
      "cell_type": "code",
      "metadata": {
        "id": "JxiS8wRY3ISS",
        "colab_type": "code",
        "colab": {
          "base_uri": "https://localhost:8080/",
          "height": 194
        },
        "outputId": "53be5fdf-13ab-414f-9b11-0f0113f67363"
      },
      "source": [
        "data.head()"
      ],
      "execution_count": null,
      "outputs": [
        {
          "output_type": "execute_result",
          "data": {
            "text/html": [
              "<div>\n",
              "<style scoped>\n",
              "    .dataframe tbody tr th:only-of-type {\n",
              "        vertical-align: middle;\n",
              "    }\n",
              "\n",
              "    .dataframe tbody tr th {\n",
              "        vertical-align: top;\n",
              "    }\n",
              "\n",
              "    .dataframe thead th {\n",
              "        text-align: right;\n",
              "    }\n",
              "</style>\n",
              "<table border=\"1\" class=\"dataframe\">\n",
              "  <thead>\n",
              "    <tr style=\"text-align: right;\">\n",
              "      <th></th>\n",
              "      <th>train_id</th>\n",
              "      <th>name</th>\n",
              "      <th>item_condition_id</th>\n",
              "      <th>category_name</th>\n",
              "      <th>brand_name</th>\n",
              "      <th>price</th>\n",
              "      <th>shipping</th>\n",
              "      <th>item_description</th>\n",
              "    </tr>\n",
              "  </thead>\n",
              "  <tbody>\n",
              "    <tr>\n",
              "      <th>0</th>\n",
              "      <td>0</td>\n",
              "      <td>MLB Cincinnati Reds T Shirt Size XL</td>\n",
              "      <td>3</td>\n",
              "      <td>Men/Tops/T-shirts</td>\n",
              "      <td>NaN</td>\n",
              "      <td>10.0</td>\n",
              "      <td>1</td>\n",
              "      <td>No description yet</td>\n",
              "    </tr>\n",
              "    <tr>\n",
              "      <th>1</th>\n",
              "      <td>1</td>\n",
              "      <td>Razer BlackWidow Chroma Keyboard</td>\n",
              "      <td>3</td>\n",
              "      <td>Electronics/Computers &amp; Tablets/Components &amp; P...</td>\n",
              "      <td>Razer</td>\n",
              "      <td>52.0</td>\n",
              "      <td>0</td>\n",
              "      <td>This keyboard is in great condition and works ...</td>\n",
              "    </tr>\n",
              "    <tr>\n",
              "      <th>2</th>\n",
              "      <td>2</td>\n",
              "      <td>AVA-VIV Blouse</td>\n",
              "      <td>1</td>\n",
              "      <td>Women/Tops &amp; Blouses/Blouse</td>\n",
              "      <td>Target</td>\n",
              "      <td>10.0</td>\n",
              "      <td>1</td>\n",
              "      <td>Adorable top with a hint of lace and a key hol...</td>\n",
              "    </tr>\n",
              "    <tr>\n",
              "      <th>3</th>\n",
              "      <td>3</td>\n",
              "      <td>Leather Horse Statues</td>\n",
              "      <td>1</td>\n",
              "      <td>Home/Home Décor/Home Décor Accents</td>\n",
              "      <td>NaN</td>\n",
              "      <td>35.0</td>\n",
              "      <td>1</td>\n",
              "      <td>New with tags. Leather horses. Retail for [rm]...</td>\n",
              "    </tr>\n",
              "    <tr>\n",
              "      <th>4</th>\n",
              "      <td>4</td>\n",
              "      <td>24K GOLD plated rose</td>\n",
              "      <td>1</td>\n",
              "      <td>Women/Jewelry/Necklaces</td>\n",
              "      <td>NaN</td>\n",
              "      <td>44.0</td>\n",
              "      <td>0</td>\n",
              "      <td>Complete with certificate of authenticity</td>\n",
              "    </tr>\n",
              "  </tbody>\n",
              "</table>\n",
              "</div>"
            ],
            "text/plain": [
              "   train_id  ...                                   item_description\n",
              "0         0  ...                                 No description yet\n",
              "1         1  ...  This keyboard is in great condition and works ...\n",
              "2         2  ...  Adorable top with a hint of lace and a key hol...\n",
              "3         3  ...  New with tags. Leather horses. Retail for [rm]...\n",
              "4         4  ...          Complete with certificate of authenticity\n",
              "\n",
              "[5 rows x 8 columns]"
            ]
          },
          "metadata": {
            "tags": []
          },
          "execution_count": 43
        }
      ]
    },
    {
      "cell_type": "markdown",
      "metadata": {
        "id": "6ceMsxnF3f7R",
        "colab_type": "text"
      },
      "source": [
        "**Objective** : To understand the variation of price with the mean prices b plotting scatter plots."
      ]
    },
    {
      "cell_type": "code",
      "metadata": {
        "id": "fHFiAZ9Q3Pt7",
        "colab_type": "code",
        "colab": {
          "base_uri": "https://localhost:8080/",
          "height": 369
        },
        "outputId": "e0fe4214-3a1e-481f-e128-e6051cc0b4e2"
      },
      "source": [
        "sns.relplot(x=\"Mean_Brand_Price\", y=\"price\", data=train);"
      ],
      "execution_count": null,
      "outputs": [
        {
          "output_type": "display_data",
          "data": {
            "image/png": "[encoded data removed]",
            "text/plain": [
              "<Figure size 360x360 with 1 Axes>"
            ]
          },
          "metadata": {
            "tags": [],
            "needs_background": "light"
          }
        }
      ]
    },
    {
      "cell_type": "markdown",
      "metadata": {
        "id": "_VtsVEeS3ylg",
        "colab_type": "text"
      },
      "source": [
        "**Conclusion** : There is a small realtionship between both variables so im taking it as a new feature and adding it in test data as well."
      ]
    },
    {
      "cell_type": "markdown",
      "metadata": {
        "id": "QGqU_ivN4ZSx",
        "colab_type": "text"
      },
      "source": [
        "Inorder to add mean brand price in test data , we need to map the already calculated mean price from train data so iam creating a custom function"
      ]
    },
    {
      "cell_type": "code",
      "metadata": {
        "id": "uDdU7b-D4u60",
        "colab_type": "code",
        "colab": {}
      },
      "source": [
        "def func(source,target):\n",
        "  dict = pd.Series(train[target].values, index=train[source].values).to_dict()\n",
        "  return test[source].map(dict)"
      ],
      "execution_count": null,
      "outputs": []
    },
    {
      "cell_type": "code",
      "metadata": {
        "id": "F8MgVYYEVsKV",
        "colab_type": "code",
        "colab": {}
      },
      "source": [
        "test['Mean_Brand_Price'] = func('brand_name', 'Mean_Brand_Price')"
      ],
      "execution_count": null,
      "outputs": []
    },
    {
      "cell_type": "code",
      "metadata": {
        "id": "XRO3sFHDPnJQ",
        "colab_type": "code",
        "colab": {}
      },
      "source": [
        "def func1(source,target):\n",
        "  dict = pd.Series(train[target].values, index=train[source].values).to_dict()\n",
        "  return test1[source].map(dict)"
      ],
      "execution_count": null,
      "outputs": []
    },
    {
      "cell_type": "code",
      "metadata": {
        "id": "oO0Ce-ofPabL",
        "colab_type": "code",
        "colab": {}
      },
      "source": [
        "test1['Mean_Brand_Price'] = func1('brand_name', 'Mean_Brand_Price')"
      ],
      "execution_count": null,
      "outputs": []
    },
    {
      "cell_type": "code",
      "metadata": {
        "id": "0Ewtis5EWBGJ",
        "colab_type": "code",
        "colab": {
          "base_uri": "https://localhost:8080/",
          "height": 450
        },
        "outputId": "8ee32d74-3edc-4bbc-ed1d-20f7f1387060"
      },
      "source": [
        "test.head()"
      ],
      "execution_count": null,
      "outputs": [
        {
          "output_type": "execute_result",
          "data": {
            "text/html": [
              "<div>\n",
              "<style scoped>\n",
              "    .dataframe tbody tr th:only-of-type {\n",
              "        vertical-align: middle;\n",
              "    }\n",
              "\n",
              "    .dataframe tbody tr th {\n",
              "        vertical-align: top;\n",
              "    }\n",
              "\n",
              "    .dataframe thead th {\n",
              "        text-align: right;\n",
              "    }\n",
              "</style>\n",
              "<table border=\"1\" class=\"dataframe\">\n",
              "  <thead>\n",
              "    <tr style=\"text-align: right;\">\n",
              "      <th></th>\n",
              "      <th>train_id</th>\n",
              "      <th>name</th>\n",
              "      <th>item_condition_id</th>\n",
              "      <th>category_name</th>\n",
              "      <th>brand_name</th>\n",
              "      <th>price</th>\n",
              "      <th>shipping</th>\n",
              "      <th>item_description</th>\n",
              "      <th>Main_category</th>\n",
              "      <th>subcategory1</th>\n",
              "      <th>subcategory2</th>\n",
              "      <th>subcategory3</th>\n",
              "      <th>subcategory4</th>\n",
              "      <th>preprocessed_names</th>\n",
              "      <th>preprocessed_desc</th>\n",
              "      <th>description_length</th>\n",
              "      <th>Mean_Brand_Price</th>\n",
              "    </tr>\n",
              "  </thead>\n",
              "  <tbody>\n",
              "    <tr>\n",
              "      <th>777341</th>\n",
              "      <td>777341</td>\n",
              "      <td>F/ship 4 Totoro Washi + 1 pen</td>\n",
              "      <td>1</td>\n",
              "      <td>Handmade/Paper Goods/Stationery</td>\n",
              "      <td>missing</td>\n",
              "      <td>12.0</td>\n",
              "      <td>1</td>\n",
              "      <td>This listing is for all 4 Totoro washi tape fo...</td>\n",
              "      <td>Handmade</td>\n",
              "      <td>Paper Goods</td>\n",
              "      <td>Stationery</td>\n",
              "      <td>missing</td>\n",
              "      <td>missing</td>\n",
              "      <td>f ship 4 totoro washi 1 pen</td>\n",
              "      <td>this listing 4 totoro washi tape limited time ...</td>\n",
              "      <td>NaN</td>\n",
              "      <td>21.111848</td>\n",
              "    </tr>\n",
              "    <tr>\n",
              "      <th>1463629</th>\n",
              "      <td>1463629</td>\n",
              "      <td>UCLA Men's Bundle + Shorts</td>\n",
              "      <td>1</td>\n",
              "      <td>Women/Other/Other</td>\n",
              "      <td>Adidas</td>\n",
              "      <td>76.0</td>\n",
              "      <td>1</td>\n",
              "      <td>7 items. 1: XL. 2: 2XL. 3:2XL. 4: XL. 5: 2XL. ...</td>\n",
              "      <td>Women</td>\n",
              "      <td>Other</td>\n",
              "      <td>Other</td>\n",
              "      <td>missing</td>\n",
              "      <td>missing</td>\n",
              "      <td>ucla men bundle shorts</td>\n",
              "      <td>7 items 1 xl 2 2xl 3 2xl 4 xl 5 2xl 6 os 7 38</td>\n",
              "      <td>NaN</td>\n",
              "      <td>42.918065</td>\n",
              "    </tr>\n",
              "    <tr>\n",
              "      <th>350669</th>\n",
              "      <td>350669</td>\n",
              "      <td>Listing for lol</td>\n",
              "      <td>1</td>\n",
              "      <td>Beauty/Makeup/Lips</td>\n",
              "      <td>missing</td>\n",
              "      <td>12.0</td>\n",
              "      <td>1</td>\n",
              "      <td>- sunglasses and necklace :)</td>\n",
              "      <td>Beauty</td>\n",
              "      <td>Makeup</td>\n",
              "      <td>Lips</td>\n",
              "      <td>missing</td>\n",
              "      <td>missing</td>\n",
              "      <td>listing lol</td>\n",
              "      <td>sunglasses necklace</td>\n",
              "      <td>NaN</td>\n",
              "      <td>21.111848</td>\n",
              "    </tr>\n",
              "    <tr>\n",
              "      <th>310222</th>\n",
              "      <td>310222</td>\n",
              "      <td>25 pcs kawaii sticker flakes</td>\n",
              "      <td>1</td>\n",
              "      <td>Kids/Toys/Arts &amp; Crafts</td>\n",
              "      <td>missing</td>\n",
              "      <td>3.0</td>\n",
              "      <td>1</td>\n",
              "      <td>I ordered a bunch of stickers so you will reci...</td>\n",
              "      <td>Kids</td>\n",
              "      <td>Toys</td>\n",
              "      <td>Arts &amp; Crafts</td>\n",
              "      <td>missing</td>\n",
              "      <td>missing</td>\n",
              "      <td>25 pcs kawaii sticker flakes</td>\n",
              "      <td>i ordered bunch stickers recieve many cute ones</td>\n",
              "      <td>NaN</td>\n",
              "      <td>21.111848</td>\n",
              "    </tr>\n",
              "    <tr>\n",
              "      <th>759257</th>\n",
              "      <td>759257</td>\n",
              "      <td>Chanel Mini Lipgloss Set</td>\n",
              "      <td>2</td>\n",
              "      <td>Beauty/Makeup/Lips</td>\n",
              "      <td>Chanel</td>\n",
              "      <td>30.0</td>\n",
              "      <td>1</td>\n",
              "      <td>Brand new never used authentic Mini Lipgloss g...</td>\n",
              "      <td>Beauty</td>\n",
              "      <td>Makeup</td>\n",
              "      <td>Lips</td>\n",
              "      <td>missing</td>\n",
              "      <td>missing</td>\n",
              "      <td>chanel mini lipgloss set</td>\n",
              "      <td>brand new never used authentic mini lipgloss g...</td>\n",
              "      <td>NaN</td>\n",
              "      <td>73.884937</td>\n",
              "    </tr>\n",
              "  </tbody>\n",
              "</table>\n",
              "</div>"
            ],
            "text/plain": [
              "         train_id  ... Mean_Brand_Price\n",
              "777341     777341  ...        21.111848\n",
              "1463629   1463629  ...        42.918065\n",
              "350669     350669  ...        21.111848\n",
              "310222     310222  ...        21.111848\n",
              "759257     759257  ...        73.884937\n",
              "\n",
              "[5 rows x 17 columns]"
            ]
          },
          "metadata": {
            "tags": []
          },
          "execution_count": 49
        }
      ]
    },
    {
      "cell_type": "markdown",
      "metadata": {
        "id": "rJyFtHpd6cv3",
        "colab_type": "text"
      },
      "source": [
        "**Mean Price For Main Category**"
      ]
    },
    {
      "cell_type": "code",
      "metadata": {
        "id": "oe2acZOT6bkQ",
        "colab_type": "code",
        "colab": {}
      },
      "source": [
        "train['Mean_Main_Price'] = data.groupby('Main_category')['price'].transform('mean')"
      ],
      "execution_count": null,
      "outputs": []
    },
    {
      "cell_type": "markdown",
      "metadata": {
        "id": "6tO0GGrkW6aW",
        "colab_type": "text"
      },
      "source": [
        "**Objective** : To understand the price variation by plotting scatter plots"
      ]
    },
    {
      "cell_type": "code",
      "metadata": {
        "id": "0y9bIBCaWcpI",
        "colab_type": "code",
        "colab": {
          "base_uri": "https://localhost:8080/",
          "height": 369
        },
        "outputId": "f5f2e432-16ae-4f96-de5b-8dfaef913efd"
      },
      "source": [
        "sns.relplot(x=\"Mean_Main_Price\", y=\"price\", data=train);"
      ],
      "execution_count": null,
      "outputs": [
        {
          "output_type": "display_data",
          "data": {
            "image/png": "[encoded data removed]",
            "text/plain": [
              "<Figure size 360x360 with 1 Axes>"
            ]
          },
          "metadata": {
            "tags": [],
            "needs_background": "light"
          }
        }
      ]
    },
    {
      "cell_type": "markdown",
      "metadata": {
        "id": "Ae63lZkuXKha",
        "colab_type": "text"
      },
      "source": [
        "**Conclusion** : This doesn't have a linear relationship with price. So iam rejecting the feature"
      ]
    },
    {
      "cell_type": "markdown",
      "metadata": {
        "id": "xxzpvKuyXlZn",
        "colab_type": "text"
      },
      "source": [
        "**Mean Price For Subcategory2**"
      ]
    },
    {
      "cell_type": "code",
      "metadata": {
        "id": "V5dOP43PWVkD",
        "colab_type": "code",
        "colab": {}
      },
      "source": [
        "train['Mean_Sub_Price'] = train.groupby('subcategory2')['price'].transform('mean')"
      ],
      "execution_count": null,
      "outputs": []
    },
    {
      "cell_type": "code",
      "metadata": {
        "id": "95bpLZFdX895",
        "colab_type": "code",
        "colab": {
          "base_uri": "https://localhost:8080/",
          "height": 369
        },
        "outputId": "6635246c-a3b9-4822-c64a-a9732027375f"
      },
      "source": [
        "sns.relplot(x=\"Mean_Sub_Price\", y=\"price\", data=train);"
      ],
      "execution_count": null,
      "outputs": [
        {
          "output_type": "display_data",
          "data": {
            "image/png": "[encoded data removed]",
            "text/plain": [
              "<Figure size 360x360 with 1 Axes>"
            ]
          },
          "metadata": {
            "tags": [],
            "needs_background": "light"
          }
        }
      ]
    },
    {
      "cell_type": "markdown",
      "metadata": {
        "id": "LXXm1EDIcIU-",
        "colab_type": "text"
      },
      "source": [
        "**Conclusion** : It seems that there is a relationship so iam including this feature and adding in test data as well."
      ]
    },
    {
      "cell_type": "code",
      "metadata": {
        "id": "ebRjC5b4cSsT",
        "colab_type": "code",
        "colab": {}
      },
      "source": [
        "test['Mean_Sub_Price'] = func('subcategory2', 'Mean_Sub_Price')"
      ],
      "execution_count": null,
      "outputs": []
    },
    {
      "cell_type": "code",
      "metadata": {
        "id": "wujjuZqlP4Mo",
        "colab_type": "code",
        "colab": {}
      },
      "source": [
        "test1['Mean_Sub_Price'] = func1('subcategory2', 'Mean_Sub_Price')"
      ],
      "execution_count": null,
      "outputs": []
    },
    {
      "cell_type": "markdown",
      "metadata": {
        "id": "UgNgXIpbd6Se",
        "colab_type": "text"
      },
      "source": [
        "**Mean Price For Subcategory1**"
      ]
    },
    {
      "cell_type": "code",
      "metadata": {
        "id": "vegKlUFdceEP",
        "colab_type": "code",
        "colab": {}
      },
      "source": [
        "train['Mean_Sub1_Price'] = data.groupby('subcategory1')['price'].transform('mean')"
      ],
      "execution_count": null,
      "outputs": []
    },
    {
      "cell_type": "code",
      "metadata": {
        "id": "1HKlB_EUd_dT",
        "colab_type": "code",
        "colab": {
          "base_uri": "https://localhost:8080/",
          "height": 369
        },
        "outputId": "7e1fc700-e33d-4d96-a642-2a1a33db5259"
      },
      "source": [
        "sns.relplot(x=\"Mean_Sub1_Price\", y=\"price\", data=train);"
      ],
      "execution_count": null,
      "outputs": [
        {
          "output_type": "display_data",
          "data": {
            "image/png": "[encoded data removed]",
            "text/plain": [
              "<Figure size 360x360 with 1 Axes>"
            ]
          },
          "metadata": {
            "tags": [],
            "needs_background": "light"
          }
        }
      ]
    },
    {
      "cell_type": "markdown",
      "metadata": {
        "id": "gCcC-XJfeH4d",
        "colab_type": "text"
      },
      "source": [
        "**Conclusion** : This doesn't have a fair variation across price so rejecting the feature"
      ]
    },
    {
      "cell_type": "markdown",
      "metadata": {
        "id": "cs2n-foTemdg",
        "colab_type": "text"
      },
      "source": [
        "**Median Price For Brand**"
      ]
    },
    {
      "cell_type": "code",
      "metadata": {
        "id": "4mIzxo3geC6-",
        "colab_type": "code",
        "colab": {}
      },
      "source": [
        "train['Median_Brand_Price'] = train.groupby('brand_name')['price'].transform('median')"
      ],
      "execution_count": null,
      "outputs": []
    },
    {
      "cell_type": "code",
      "metadata": {
        "id": "0f7bQJnpe1F8",
        "colab_type": "code",
        "colab": {
          "base_uri": "https://localhost:8080/",
          "height": 369
        },
        "outputId": "9f463aec-b508-499b-ce8f-a46e10e051cb"
      },
      "source": [
        "sns.relplot(x=\"Median_Brand_Price\", y=\"price\", data=train);"
      ],
      "execution_count": null,
      "outputs": [
        {
          "output_type": "display_data",
          "data": {
            "image/png": "[encoded data removed]",
            "text/plain": [
              "<Figure size 360x360 with 1 Axes>"
            ]
          },
          "metadata": {
            "tags": [],
            "needs_background": "light"
          }
        }
      ]
    },
    {
      "cell_type": "markdown",
      "metadata": {
        "id": "kjwcpephfSez",
        "colab_type": "text"
      },
      "source": [
        "**Conclusion** : It seems that there is a good relationship so im including the feature and adding it in test data as well."
      ]
    },
    {
      "cell_type": "code",
      "metadata": {
        "id": "Zh-Qv-jSe4HX",
        "colab_type": "code",
        "colab": {}
      },
      "source": [
        "test['Median_Brand_Price'] = func('brand_name', 'Median_Brand_Price')"
      ],
      "execution_count": null,
      "outputs": []
    },
    {
      "cell_type": "code",
      "metadata": {
        "id": "GCcOtLCLP9WD",
        "colab_type": "code",
        "colab": {}
      },
      "source": [
        "test1['Median_Brand_Price'] = func1('brand_name', 'Median_Brand_Price')"
      ],
      "execution_count": null,
      "outputs": []
    },
    {
      "cell_type": "markdown",
      "metadata": {
        "id": "NR1cFkydQg5T",
        "colab_type": "text"
      },
      "source": [
        "# **Data Preprocessing And Encoding**"
      ]
    },
    {
      "cell_type": "markdown",
      "metadata": {
        "id": "vMuZiKIPTXlP",
        "colab_type": "text"
      },
      "source": [
        "**Preprocessing and encoding text attributes**"
      ]
    },
    {
      "cell_type": "markdown",
      "metadata": {
        "id": "U8JhMYpGROlf",
        "colab_type": "text"
      },
      "source": [
        "The preprocessing includes removing stopwords , removing special words, word decontraction etc\n",
        "Encoding text features is done through countvectorizer(BOW).\n",
        "Encoding brand name is by label binarizer which transforms multiclass features in to labels. Encoding item_condition_id and shipping is done through one hot encoder"
      ]
    },
    {
      "cell_type": "code",
      "metadata": {
        "id": "2_GtDNZZQ-3k",
        "colab_type": "code",
        "colab": {}
      },
      "source": [
        "#appliedaicourse.com\n",
        "def decontracted(phrase):\n",
        "    phrase = re.sub(r\"won't\", \"will not\", phrase)\n",
        "    phrase = re.sub(r\"can\\'t\", \"can not\", phrase)\n",
        "    phrase = re.sub(r\"n\\'t\", \" not\", phrase)\n",
        "    phrase = re.sub(r\"\\'re\", \" are\", phrase)\n",
        "    phrase = re.sub(r\"\\'s\", \" is\", phrase)\n",
        "    phrase = re.sub(r\"\\'d\", \" would\", phrase)\n",
        "    phrase = re.sub(r\"\\'ll\", \" will\", phrase)\n",
        "    phrase = re.sub(r\"\\'t\", \" not\", phrase)\n",
        "    phrase = re.sub(r\"\\'ve\", \" have\", phrase)\n",
        "    phrase = re.sub(r\"\\'m\", \" am\", phrase)\n",
        "    return phrase\n",
        "\n",
        "stopwords= ['i', 'me', 'my', 'myself', 'we', 'our', 'ours', 'ourselves', 'you', \"you're\", \"you've\",\\\n",
        "            \"you'll\", \"you'd\", 'your', 'yours', 'yourself', 'yourselves', 'he', 'him', 'his', 'himself', \\\n",
        "            'she', \"she's\", 'her', 'hers', 'herself', 'it', \"it's\", 'its', 'itself', 'they', 'them', 'their',\\\n",
        "            'theirs', 'themselves', 'what', 'which', 'who', 'whom', 'this', 'that', \"that'll\", 'these', 'those', \\\n",
        "            'am', 'is', 'are', 'was', 'were', 'be', 'been', 'being', 'have', 'has', 'had', 'having', 'do', 'does', \\\n",
        "            'did', 'doing', 'a', 'an', 'the', 'and', 'but', 'if', 'or', 'because', 'as', 'until', 'while', 'of', \\\n",
        "            'at', 'by', 'for', 'with', 'about', 'against', 'between', 'into', 'through', 'during', 'before', 'after',\\\n",
        "            'above', 'below', 'to', 'from', 'up', 'down', 'in', 'out', 'on', 'off', 'over', 'under', 'again', 'further',\\\n",
        "            'then', 'once', 'here', 'there', 'when', 'where', 'why', 'how', 'all', 'any', 'both', 'each', 'few', 'more',\\\n",
        "            'most', 'other', 'some', 'such', 'only', 'own', 'same', 'so', 'than', 'too', 'very', \\\n",
        "            's', 't', 'can', 'will', 'just', 'don', \"don't\", 'should', \"should've\", 'now', 'd', 'll', 'm', 'o', 're', \\\n",
        "            've', 'y', 'ain', 'aren', \"aren't\", 'couldn', \"couldn't\", 'didn', \"didn't\", 'doesn', \"doesn't\", 'hadn',\\\n",
        "            \"hadn't\", 'hasn', \"hasn't\", 'haven', \"haven't\", 'isn', \"isn't\", 'ma', 'mightn', \"mightn't\", 'mustn',\\\n",
        "            \"mustn't\", 'needn', \"needn't\", 'shan', \"shan't\", 'shouldn', \"shouldn't\", 'wasn', \"wasn't\", 'weren', \"weren't\", \\\n",
        "            'won', \"won't\", 'wouldn', \"wouldn't\"]\n",
        "\n",
        "def text_preprocess(data):\n",
        "    preprocessed = []\n",
        "    for sentance in tqdm(data):\n",
        "        sent = decontracted(sentance)\n",
        "        sent = sent.replace('\\\\r', ' ')\n",
        "        sent = sent.replace('\\\\\"', ' ')\n",
        "        sent = sent.replace('\\\\n', ' ')\n",
        "        sent = re.sub('[^A-Za-z0-9]+', ' ', sent)\n",
        "        sent = ' '.join(e for e in sent.split() if e not in stopwords)\n",
        "        preprocessed.append(sent.lower().strip())\n",
        "    return preprocessed   "
      ],
      "execution_count": null,
      "outputs": []
    },
    {
      "cell_type": "code",
      "metadata": {
        "id": "PoonGm8ZTQ_i",
        "colab_type": "code",
        "colab": {}
      },
      "source": [
        "train['name'] = train['name'].replace([np.nan], ' ')\n",
        "test['name'] = test['name'].replace([np.nan], ' ')"
      ],
      "execution_count": null,
      "outputs": []
    },
    {
      "cell_type": "code",
      "metadata": {
        "id": "44R3DW_pqZD6",
        "colab_type": "code",
        "colab": {}
      },
      "source": [
        "test1['name'] = test1['name'].replace([np.nan], ' ')"
      ],
      "execution_count": null,
      "outputs": []
    },
    {
      "cell_type": "code",
      "metadata": {
        "id": "ZtKjFdcEUX5S",
        "colab_type": "code",
        "colab": {
          "base_uri": "https://localhost:8080/",
          "height": 255
        },
        "outputId": "7d4fef5d-9aa4-465a-a3bd-e4f0213d9a95"
      },
      "source": [
        "from tqdm import tqdm\n",
        "import re\n",
        "train['preprocessed_names'] = text_preprocess(train['name'])\n",
        "test['preprocessed_names'] = text_preprocess(test['name'])\n"
      ],
      "execution_count": null,
      "outputs": [
        {
          "output_type": "stream",
          "text": [
            "100%|██████████| 1186028/1186028 [00:28<00:00, 41693.70it/s]\n",
            "/usr/local/lib/python3.6/dist-packages/ipykernel_launcher.py:3: SettingWithCopyWarning: \n",
            "A value is trying to be set on a copy of a slice from a DataFrame.\n",
            "Try using .loc[row_indexer,col_indexer] = value instead\n",
            "\n",
            "See the caveats in the documentation: https://pandas.pydata.org/pandas-docs/stable/user_guide/indexing.html#returning-a-view-versus-a-copy\n",
            "  This is separate from the ipykernel package so we can avoid doing imports until\n",
            "100%|██████████| 296507/296507 [00:07<00:00, 41570.61it/s]\n",
            "/usr/local/lib/python3.6/dist-packages/ipykernel_launcher.py:4: SettingWithCopyWarning: \n",
            "A value is trying to be set on a copy of a slice from a DataFrame.\n",
            "Try using .loc[row_indexer,col_indexer] = value instead\n",
            "\n",
            "See the caveats in the documentation: https://pandas.pydata.org/pandas-docs/stable/user_guide/indexing.html#returning-a-view-versus-a-copy\n",
            "  after removing the cwd from sys.path.\n"
          ],
          "name": "stderr"
        }
      ]
    },
    {
      "cell_type": "code",
      "metadata": {
        "id": "KumEcTr68bGP",
        "colab_type": "code",
        "colab": {
          "base_uri": "https://localhost:8080/",
          "height": 34
        },
        "outputId": "1b4e01e5-878f-4e5a-b957-a4ae0eb964ce"
      },
      "source": [
        "test1['preprocessed_names'] = text_preprocess(test1['name'])"
      ],
      "execution_count": null,
      "outputs": [
        {
          "output_type": "stream",
          "text": [
            "100%|██████████| 3460725/3460725 [01:21<00:00, 42337.82it/s]\n"
          ],
          "name": "stderr"
        }
      ]
    },
    {
      "cell_type": "code",
      "metadata": {
        "id": "97krjLGpI3GQ",
        "colab_type": "code",
        "colab": {}
      },
      "source": [
        "train['item_description'] = train['item_description'].replace([np.nan,'No description yet'], ' ')\n",
        "test['item_description'] = test['item_description'].replace([np.nan,'No description yet'], ' ')"
      ],
      "execution_count": null,
      "outputs": []
    },
    {
      "cell_type": "code",
      "metadata": {
        "id": "5sS1e7IFqlJ5",
        "colab_type": "code",
        "colab": {}
      },
      "source": [
        "test1['item_description'] = test1['item_description'].replace([np.nan,'No description yet'], ' ')"
      ],
      "execution_count": null,
      "outputs": []
    },
    {
      "cell_type": "code",
      "metadata": {
        "id": "jmsxNHxZI9X9",
        "colab_type": "code",
        "colab": {
          "base_uri": "https://localhost:8080/",
          "height": 272
        },
        "outputId": "bd98a2b0-f578-4a41-ab94-940ffb579f97"
      },
      "source": [
        "train['preprocessed_desc'] = text_preprocess(train['item_description'])\n",
        "test['preprocessed_desc'] = text_preprocess(test['item_description'])\n",
        "test1['preprocessed_desc'] = text_preprocess(test1['item_description'])"
      ],
      "execution_count": null,
      "outputs": [
        {
          "output_type": "stream",
          "text": [
            "100%|██████████| 1186028/1186028 [01:26<00:00, 13735.73it/s]\n",
            "/usr/local/lib/python3.6/dist-packages/ipykernel_launcher.py:1: SettingWithCopyWarning: \n",
            "A value is trying to be set on a copy of a slice from a DataFrame.\n",
            "Try using .loc[row_indexer,col_indexer] = value instead\n",
            "\n",
            "See the caveats in the documentation: https://pandas.pydata.org/pandas-docs/stable/user_guide/indexing.html#returning-a-view-versus-a-copy\n",
            "  \"\"\"Entry point for launching an IPython kernel.\n",
            "100%|██████████| 296507/296507 [00:21<00:00, 13772.88it/s]\n",
            "/usr/local/lib/python3.6/dist-packages/ipykernel_launcher.py:2: SettingWithCopyWarning: \n",
            "A value is trying to be set on a copy of a slice from a DataFrame.\n",
            "Try using .loc[row_indexer,col_indexer] = value instead\n",
            "\n",
            "See the caveats in the documentation: https://pandas.pydata.org/pandas-docs/stable/user_guide/indexing.html#returning-a-view-versus-a-copy\n",
            "  \n",
            "100%|██████████| 3460725/3460725 [04:08<00:00, 13926.15it/s]\n"
          ],
          "name": "stderr"
        }
      ]
    },
    {
      "cell_type": "code",
      "metadata": {
        "id": "V_1gh0M46sQ6",
        "colab_type": "code",
        "colab": {
          "base_uri": "https://localhost:8080/",
          "height": 408
        },
        "outputId": "6d7facd0-9ef3-4bef-bca6-149385b1cd73"
      },
      "source": [
        "train.head()"
      ],
      "execution_count": null,
      "outputs": [
        {
          "output_type": "execute_result",
          "data": {
            "text/html": [
              "<div>\n",
              "<style scoped>\n",
              "    .dataframe tbody tr th:only-of-type {\n",
              "        vertical-align: middle;\n",
              "    }\n",
              "\n",
              "    .dataframe tbody tr th {\n",
              "        vertical-align: top;\n",
              "    }\n",
              "\n",
              "    .dataframe thead th {\n",
              "        text-align: right;\n",
              "    }\n",
              "</style>\n",
              "<table border=\"1\" class=\"dataframe\">\n",
              "  <thead>\n",
              "    <tr style=\"text-align: right;\">\n",
              "      <th></th>\n",
              "      <th>train_id</th>\n",
              "      <th>name</th>\n",
              "      <th>item_condition_id</th>\n",
              "      <th>category_name</th>\n",
              "      <th>brand_name</th>\n",
              "      <th>price</th>\n",
              "      <th>shipping</th>\n",
              "      <th>item_description</th>\n",
              "      <th>Main_category</th>\n",
              "      <th>subcategory1</th>\n",
              "      <th>subcategory2</th>\n",
              "      <th>subcategory3</th>\n",
              "      <th>subcategory4</th>\n",
              "      <th>preprocessed_names</th>\n",
              "      <th>preprocessed_desc</th>\n",
              "    </tr>\n",
              "  </thead>\n",
              "  <tbody>\n",
              "    <tr>\n",
              "      <th>1416089</th>\n",
              "      <td>1416089</td>\n",
              "      <td>LuLaRoe kids L/XL leggings</td>\n",
              "      <td>3</td>\n",
              "      <td>Kids/Boys (4+)/Bottoms</td>\n",
              "      <td>NaN</td>\n",
              "      <td>15.0</td>\n",
              "      <td>1</td>\n",
              "      <td>Worn once. Still in great condition</td>\n",
              "      <td>Kids</td>\n",
              "      <td>Boys (4+)</td>\n",
              "      <td>Bottoms</td>\n",
              "      <td>None</td>\n",
              "      <td>None</td>\n",
              "      <td>lularoe kids l xl leggings</td>\n",
              "      <td>worn still great condition</td>\n",
              "    </tr>\n",
              "    <tr>\n",
              "      <th>1423955</th>\n",
              "      <td>1423955</td>\n",
              "      <td>Bundle 5 Display mannequins</td>\n",
              "      <td>1</td>\n",
              "      <td>Other/Other/Other</td>\n",
              "      <td>NaN</td>\n",
              "      <td>44.0</td>\n",
              "      <td>0</td>\n",
              "      <td>Brand new</td>\n",
              "      <td>Other</td>\n",
              "      <td>Other</td>\n",
              "      <td>Other</td>\n",
              "      <td>None</td>\n",
              "      <td>None</td>\n",
              "      <td>bundle 5 display mannequins</td>\n",
              "      <td>brand new</td>\n",
              "    </tr>\n",
              "    <tr>\n",
              "      <th>403867</th>\n",
              "      <td>403867</td>\n",
              "      <td>LIVING PROOF PERFECT HAIR DAY DRY SHAMPO</td>\n",
              "      <td>1</td>\n",
              "      <td>Beauty/Hair Care/Styling Products</td>\n",
              "      <td>NaN</td>\n",
              "      <td>35.0</td>\n",
              "      <td>0</td>\n",
              "      <td>This listing is for 3 full size bottles of liv...</td>\n",
              "      <td>Beauty</td>\n",
              "      <td>Hair Care</td>\n",
              "      <td>Styling Products</td>\n",
              "      <td>None</td>\n",
              "      <td>None</td>\n",
              "      <td>living proof perfect hair day dry shampo</td>\n",
              "      <td>this listing 3 full size bottles living proof ...</td>\n",
              "    </tr>\n",
              "    <tr>\n",
              "      <th>701974</th>\n",
              "      <td>701974</td>\n",
              "      <td>Palazzo pants</td>\n",
              "      <td>2</td>\n",
              "      <td>Women/Pants/Casual Pants</td>\n",
              "      <td>NaN</td>\n",
              "      <td>19.0</td>\n",
              "      <td>0</td>\n",
              "      <td>Like new adorable black and white palazzo pant...</td>\n",
              "      <td>Women</td>\n",
              "      <td>Pants</td>\n",
              "      <td>Casual Pants</td>\n",
              "      <td>None</td>\n",
              "      <td>None</td>\n",
              "      <td>palazzo pants</td>\n",
              "      <td>like new adorable black white palazzo pants no...</td>\n",
              "    </tr>\n",
              "    <tr>\n",
              "      <th>1124330</th>\n",
              "      <td>1124330</td>\n",
              "      <td>RESERVED FOR Ms Jas PINK BOYSHORTS LARGE</td>\n",
              "      <td>1</td>\n",
              "      <td>Women/Underwear/Panties</td>\n",
              "      <td>PINK</td>\n",
              "      <td>30.0</td>\n",
              "      <td>1</td>\n",
              "      <td>NEW WITH TAGS MORNING SKY SHEER SEAFOAM OLIVE ...</td>\n",
              "      <td>Women</td>\n",
              "      <td>Underwear</td>\n",
              "      <td>Panties</td>\n",
              "      <td>None</td>\n",
              "      <td>None</td>\n",
              "      <td>reserved for ms jas pink boyshorts large</td>\n",
              "      <td>new with tags morning sky sheer seafoam olive ...</td>\n",
              "    </tr>\n",
              "  </tbody>\n",
              "</table>\n",
              "</div>"
            ],
            "text/plain": [
              "         train_id  ...                                  preprocessed_desc\n",
              "1416089   1416089  ...                         worn still great condition\n",
              "1423955   1423955  ...                                          brand new\n",
              "403867     403867  ...  this listing 3 full size bottles living proof ...\n",
              "701974     701974  ...  like new adorable black white palazzo pants no...\n",
              "1124330   1124330  ...  new with tags morning sky sheer seafoam olive ...\n",
              "\n",
              "[5 rows x 15 columns]"
            ]
          },
          "metadata": {
            "tags": []
          },
          "execution_count": 23
        }
      ]
    },
    {
      "cell_type": "code",
      "metadata": {
        "id": "d09MDFheLgwF",
        "colab_type": "code",
        "colab": {}
      },
      "source": [
        "#BOW encoding of text data\n",
        "def encoder_text(train,test,test1,params):\n",
        "    vectorizer = CountVectorizer(ngram_range = params[0],       \n",
        "                                 min_df = params[1], #removes words that appear more infrequently\n",
        "                                 max_df = params[2], #removes words thath appear more infrequently \n",
        "                                 max_features = params[3]) #size of the vocab\n",
        "    \n",
        "    train_transform = vectorizer.fit_transform(train)\n",
        "    test_transform = vectorizer.transform(test)\n",
        "    test1_transform = vectorizer.transform(test1)\n",
        "    feature_names = vectorizer.get_feature_names()\n",
        "    return train_transform,test_transform,test1_transform,feature_names"
      ],
      "execution_count": null,
      "outputs": []
    },
    {
      "cell_type": "code",
      "metadata": {
        "id": "VdjuADthMmi3",
        "colab_type": "code",
        "colab": {}
      },
      "source": [
        "train_bow_name,test_bow_name,test1_bow_name,name_features = encoder_text(train['preprocessed_names'],test['preprocessed_names'],test1['preprocessed_names'],((1,4),25,1.0,50000))\n",
        "train_bow_desc,test_bow_desc,test1_bow_desc,desc_features = encoder_text(train['preprocessed_desc'],test['preprocessed_desc'],test1['preprocessed_names'],((1,3),30,1.0,100000))"
      ],
      "execution_count": null,
      "outputs": []
    },
    {
      "cell_type": "code",
      "metadata": {
        "id": "sjeLxlS7OsOA",
        "colab_type": "code",
        "colab": {
          "base_uri": "https://localhost:8080/",
          "height": 51
        },
        "outputId": "d3b628b1-06e8-469e-ca81-c7632566b215"
      },
      "source": [
        "print(train_bow_name.shape)\n",
        "print(test_bow_desc.shape)"
      ],
      "execution_count": null,
      "outputs": [
        {
          "output_type": "stream",
          "text": [
            "(1186028, 33891)\n",
            "(296507, 100000)\n"
          ],
          "name": "stdout"
        }
      ]
    },
    {
      "cell_type": "code",
      "metadata": {
        "id": "6L78MrmEVQK6",
        "colab_type": "code",
        "colab": {}
      },
      "source": [
        "train[\"brand_name\"] = train[\"brand_name\"].fillna(\"missing\").astype(\"category\")\n",
        "test[\"brand_name\"] = test[\"brand_name\"].fillna(\"missing\").astype(\"category\")"
      ],
      "execution_count": null,
      "outputs": []
    },
    {
      "cell_type": "code",
      "metadata": {
        "id": "C9CsOySqIz2I",
        "colab_type": "code",
        "colab": {}
      },
      "source": [
        "test1[\"brand_name\"] = test1[\"brand_name\"].fillna(\"missing\").astype(\"category\")"
      ],
      "execution_count": null,
      "outputs": []
    },
    {
      "cell_type": "code",
      "metadata": {
        "id": "fx4vcErtPJF_",
        "colab_type": "code",
        "colab": {
          "base_uri": "https://localhost:8080/",
          "height": 238
        },
        "outputId": "8e23149f-2fae-4e60-fb77-012f1e140d20"
      },
      "source": [
        "#encoding brandname by labelBinarizer\n",
        "train[\"brand_name\"] = train[\"brand_name\"].fillna(\"missing\").astype(\"category\")\n",
        "test[\"brand_name\"] = test[\"brand_name\"].fillna(\"missing\").astype(\"category\")\n",
        "test1[\"brand_name\"] = test1[\"brand_name\"].fillna(\"missing\").astype(\"category\")\n",
        "bin = LabelBinarizer(sparse_output=True)\n",
        "train_transform = bin.fit_transform(train[\"brand_name\"])\n",
        "test_transform = bin.transform(test[\"brand_name\"])\n",
        "test1_transform = bin.transform(test1[\"brand_name\"])\n",
        "train_transform.shape"
      ],
      "execution_count": null,
      "outputs": [
        {
          "output_type": "stream",
          "text": [
            "/usr/local/lib/python3.6/dist-packages/ipykernel_launcher.py:2: SettingWithCopyWarning: \n",
            "A value is trying to be set on a copy of a slice from a DataFrame.\n",
            "Try using .loc[row_indexer,col_indexer] = value instead\n",
            "\n",
            "See the caveats in the documentation: https://pandas.pydata.org/pandas-docs/stable/user_guide/indexing.html#returning-a-view-versus-a-copy\n",
            "  \n",
            "/usr/local/lib/python3.6/dist-packages/ipykernel_launcher.py:3: SettingWithCopyWarning: \n",
            "A value is trying to be set on a copy of a slice from a DataFrame.\n",
            "Try using .loc[row_indexer,col_indexer] = value instead\n",
            "\n",
            "See the caveats in the documentation: https://pandas.pydata.org/pandas-docs/stable/user_guide/indexing.html#returning-a-view-versus-a-copy\n",
            "  This is separate from the ipykernel package so we can avoid doing imports until\n"
          ],
          "name": "stderr"
        },
        {
          "output_type": "execute_result",
          "data": {
            "text/plain": [
              "(1186028, 4557)"
            ]
          },
          "metadata": {
            "tags": []
          },
          "execution_count": 29
        }
      ]
    },
    {
      "cell_type": "code",
      "metadata": {
        "id": "p0HiCE90QqAh",
        "colab_type": "code",
        "colab": {
          "base_uri": "https://localhost:8080/",
          "height": 34
        },
        "outputId": "62a4ff6a-39da-4b5e-ac9f-700e956150e2"
      },
      "source": [
        "#encoding item_condiotn_id and shipping \n",
        "enc = OneHotEncoder(handle_unknown='ignore')\n",
        "enc.fit(data[['item_condition_id','shipping']])\n",
        "train_ohe = enc.transform(train[['item_condition_id','shipping']])\n",
        "test_ohe = enc.transform(test[['item_condition_id','shipping']])\n",
        "test1_ohe = enc.transform(test1[['item_condition_id','shipping']])\n",
        "train_ohe.shape"
      ],
      "execution_count": null,
      "outputs": [
        {
          "output_type": "execute_result",
          "data": {
            "text/plain": [
              "(1186028, 7)"
            ]
          },
          "metadata": {
            "tags": []
          },
          "execution_count": 30
        }
      ]
    },
    {
      "cell_type": "code",
      "metadata": {
        "id": "zG-w5dsiWgkN",
        "colab_type": "code",
        "colab": {}
      },
      "source": [
        "train[\"Main_category\"] = train[\"Main_category\"].fillna(\"missing\").astype(\"category\")\n",
        "test[\"Main_category\"] = test[\"Main_category\"].fillna(\"missing\").astype(\"category\")\n",
        "\n",
        "train[\"subcategory1\"] = train[\"subcategory1\"].fillna(\"missing\").astype(\"category\")\n",
        "test[\"subcategory1\"] = test[\"subcategory1\"].fillna(\"missing\").astype(\"category\")\n",
        "\n",
        "train[\"subcategory2\"] = train[\"subcategory2\"].fillna(\"missing\").astype(\"category\")\n",
        "test[\"subcategory2\"] = test[\"subcategory2\"].fillna(\"missing\").astype(\"category\")\n",
        "\n",
        "train[\"subcategory3\"] = train[\"subcategory3\"].fillna(\"missing\").astype(\"category\")\n",
        "test[\"subcategory3\"] = test[\"subcategory3\"].fillna(\"missing\").astype(\"category\")\n",
        "\n",
        "train[\"subcategory4\"] = train[\"subcategory4\"].fillna(\"missing\").astype(\"category\")\n",
        "test[\"subcategory4\"] = test[\"subcategory4\"].fillna(\"missing\").astype(\"category\")\n"
      ],
      "execution_count": null,
      "outputs": []
    },
    {
      "cell_type": "code",
      "metadata": {
        "id": "g30PDygtI4tj",
        "colab_type": "code",
        "colab": {}
      },
      "source": [
        "test1[\"Main_category\"] = test1[\"Main_category\"].fillna(\"missing\").astype(\"category\")\n",
        "test1[\"subcategory1\"] = test1[\"subcategory1\"].fillna(\"missing\").astype(\"category\")\n",
        "test1[\"subcategory2\"] = test1[\"subcategory2\"].fillna(\"missing\").astype(\"category\")\n",
        "test1[\"subcategory3\"] = test1[\"subcategory3\"].fillna(\"missing\").astype(\"category\")\n",
        "test1[\"subcategory4\"] = test1[\"subcategory4\"].fillna(\"missing\").astype(\"category\")"
      ],
      "execution_count": null,
      "outputs": []
    },
    {
      "cell_type": "code",
      "metadata": {
        "id": "ji9b-w2u_N_f",
        "colab_type": "code",
        "colab": {
          "base_uri": "https://localhost:8080/",
          "height": 51
        },
        "outputId": "5ac21ed9-58ed-4d59-fdaa-cefcc67c1e26"
      },
      "source": [
        "null_columns=train.columns[train.isnull().any()]\n",
        "train[null_columns].isnull().sum()"
      ],
      "execution_count": null,
      "outputs": [
        {
          "output_type": "execute_result",
          "data": {
            "text/plain": [
              "category_name    5083\n",
              "dtype: int64"
            ]
          },
          "metadata": {
            "tags": []
          },
          "execution_count": 25
        }
      ]
    },
    {
      "cell_type": "code",
      "metadata": {
        "id": "iZp9T5mwYqUi",
        "colab_type": "code",
        "colab": {}
      },
      "source": [
        "#Encoding categories\n",
        "unique_categories = train[\"Main_category\"].unique()\n",
        "count_category = CountVectorizer(vocabulary = unique_categories,lowercase = False,binary = True)\n",
        "train_main = count_category.fit_transform(train[\"Main_category\"])\n",
        "test_main = count_category.transform(test[\"Main_category\"])\n",
        "test1_main = count_category.transform(test1[\"Main_category\"])\n",
        "unique_categories = train[\"subcategory1\"].unique()\n",
        "count_category = CountVectorizer(vocabulary = unique_categories,lowercase = False,binary = True)\n",
        "train_sub1 = count_category.fit_transform(train[\"subcategory1\"])\n",
        "test_sub1 = count_category.transform(test[\"subcategory1\"])\n",
        "test1_sub1 = count_category.transform(test1[\"subcategory1\"])\n",
        "unique_categories = train[\"subcategory2\"].unique()\n",
        "count_category = CountVectorizer(vocabulary = unique_categories,lowercase = False,binary = True)\n",
        "train_sub2 = count_category.fit_transform(train[\"subcategory2\"])\n",
        "test_sub2 = count_category.transform(test[\"subcategory2\"])\n",
        "test1_sub2 = count_category.transform(test1[\"subcategory2\"])\n",
        "unique_categories = train[\"subcategory3\"].unique()\n",
        "count_category = CountVectorizer(vocabulary = unique_categories,lowercase = False,binary = True)\n",
        "train_sub3 = count_category.fit_transform(train[\"subcategory3\"])\n",
        "test_sub3 = count_category.transform(test[\"subcategory3\"])\n",
        "test1_sub3 = count_category.transform(test1[\"subcategory3\"])\n",
        "unique_categories = train[\"subcategory4\"].unique()\n",
        "count_category = CountVectorizer(vocabulary = unique_categories,lowercase = False,binary = True)\n",
        "train_sub4 = count_category.fit_transform(train[\"subcategory4\"])\n",
        "test_sub4 = count_category.transform(test[\"subcategory4\"])\n",
        "test1_sub4 = count_category.transform(test1[\"subcategory4\"])"
      ],
      "execution_count": null,
      "outputs": []
    },
    {
      "cell_type": "code",
      "metadata": {
        "id": "KsuwRtuSCgcT",
        "colab_type": "code",
        "colab": {}
      },
      "source": [
        " mean_value=train['description_length'].mean()\n",
        "train['description_length']=train['description_length'].fillna(mean_value)\n",
        "mean_value=test['description_length'].mean()\n",
        "test['description_length']=test['description_length'].fillna(mean_value)\n",
        "mean_value=train['Mean_Brand_Price'].mean()\n",
        "train['Mean_Brand_Price']=train['Mean_Brand_Price'].fillna(mean_value)\n",
        "mean_value=train['Mean_Sub_Price'].mean()\n",
        "train['Mean_Sub_Price']=train['Mean_Sub_Price'].fillna(mean_value)\n",
        "mean_value=train['Median_Brand_Price'].mean()\n",
        "train['Median_Brand_Price']=train['Median_Brand_Price'].fillna(mean_value)\n",
        "mean_value=test['Mean_Brand_Price'].mean()\n",
        "test['Mean_Brand_Price']=test['Mean_Brand_Price'].fillna(mean_value)\n",
        "mean_value=test['Mean_Sub_Price'].mean()\n",
        "test['Mean_Sub_Price']=test['Mean_Sub_Price'].fillna(mean_value)\n",
        "mean_value=test['Median_Brand_Price'].mean()\n",
        "test['Median_Brand_Price']=test['Median_Brand_Price'].fillna(mean_value)\n"
      ],
      "execution_count": null,
      "outputs": []
    },
    {
      "cell_type": "code",
      "metadata": {
        "id": "bI1C4yiib0sL",
        "colab_type": "code",
        "colab": {}
      },
      "source": [
        "mean_value=test1['Mean_Brand_Price'].mean()\n",
        "test1['Mean_Brand_Price']=test1['Mean_Brand_Price'].fillna(mean_value)\n",
        "mean_value=test1['Mean_Sub_Price'].mean()\n",
        "test1['Mean_Sub_Price']=test1['Mean_Sub_Price'].fillna(mean_value)\n",
        "mean_value=test1['Median_Brand_Price'].mean()\n",
        "test1['Median_Brand_Price']=test1['Median_Brand_Price'].fillna(mean_value)"
      ],
      "execution_count": null,
      "outputs": []
    },
    {
      "cell_type": "code",
      "metadata": {
        "id": "CuPuWDhikEis",
        "colab_type": "code",
        "colab": {}
      },
      "source": [
        "#Encoding new numerical features\n",
        "descr_len_tra = np.array(train['description_length']).reshape(-1,1)\n",
        "descr_len_tes = np.array(test['description_length']).reshape(-1,1)\n",
        "desc_len_cnt = StandardScaler(copy=True)\n",
        "train_desc_feats = desc_len_cnt.fit_transform(descr_len_tra)\n",
        "test_desc_feats = desc_len_cnt.transform(descr_len_tes)\n"
      ],
      "execution_count": null,
      "outputs": []
    },
    {
      "cell_type": "code",
      "metadata": {
        "id": "bWDVXC3J-vPg",
        "colab_type": "code",
        "colab": {}
      },
      "source": [
        "test1_desc_feats = desc_len_cnt.transform(descr_len_tes1)\n",
        "descr_len_tes1 = np.array(test1['description_length']).reshape(-1,1)"
      ],
      "execution_count": null,
      "outputs": []
    },
    {
      "cell_type": "code",
      "metadata": {
        "id": "ry2LVeduoRFP",
        "colab_type": "code",
        "colab": {}
      },
      "source": [
        "mean_brand_tra = np.array(train['Mean_Brand_Price']).reshape(-1,1)\n",
        "mean_brand_tes = np.array(test['Mean_Brand_Price']).reshape(-1,1)\n",
        "\n",
        "mean_brand = StandardScaler(copy=True)\n",
        "train_mean_brand = mean_brand.fit_transform(mean_brand_tra)\n",
        "test_mean_brand = mean_brand.transform(mean_brand_tes)"
      ],
      "execution_count": null,
      "outputs": []
    },
    {
      "cell_type": "code",
      "metadata": {
        "id": "i0U90MGX-223",
        "colab_type": "code",
        "colab": {}
      },
      "source": [
        "mean_brand_tes1 = np.array(test1['Mean_Brand_Price']).reshape(-1,1)\n",
        "test1_mean_brand = mean_brand.transform(mean_brand_tes1)"
      ],
      "execution_count": null,
      "outputs": []
    },
    {
      "cell_type": "code",
      "metadata": {
        "id": "3rtuJRqHrUQW",
        "colab_type": "code",
        "colab": {}
      },
      "source": [
        "mean_cat_tra = np.array(train['Mean_Sub_Price']).reshape(-1,1)\n",
        "mean_cat_tes = np.array(test['Mean_Sub_Price']).reshape(-1,1)\n",
        "\n",
        "mean_cat = StandardScaler(copy=True)\n",
        "train_mean_cat = mean_cat.fit_transform(mean_cat_tra)\n",
        "test_mean_cat = mean_cat.transform(mean_cat_tes)"
      ],
      "execution_count": null,
      "outputs": []
    },
    {
      "cell_type": "code",
      "metadata": {
        "id": "8ZrzWVn2-8Ht",
        "colab_type": "code",
        "colab": {}
      },
      "source": [
        "mean_cat_tes1 = np.array(test1['Mean_Sub_Price']).reshape(-1,1)\n",
        "test1_mean_cat = mean_cat.transform(mean_cat_tes1)"
      ],
      "execution_count": null,
      "outputs": []
    },
    {
      "cell_type": "code",
      "metadata": {
        "id": "cKV__0Mvxnp_",
        "colab_type": "code",
        "colab": {}
      },
      "source": [
        "median_brand_tra = np.array(train['Median_Brand_Price']).reshape(-1,1)\n",
        "median_brand_tes = np.array(test['Median_Brand_Price']).reshape(-1,1)\n",
        "\n",
        "median_brand = StandardScaler(copy=True)\n",
        "train_median_brand = median_brand.fit_transform(median_brand_tra)\n",
        "test_median_brand = median_brand.transform(median_brand_tes)"
      ],
      "execution_count": null,
      "outputs": []
    },
    {
      "cell_type": "code",
      "metadata": {
        "id": "aXo5WoY9_DcS",
        "colab_type": "code",
        "colab": {}
      },
      "source": [
        "median_brand_tes1 = np.array(test1['Median_Brand_Price']).reshape(-1,1)\n",
        "test1_median_brand = median_brand.transform(median_brand_tes1)"
      ],
      "execution_count": null,
      "outputs": []
    },
    {
      "cell_type": "code",
      "metadata": {
        "id": "SUkXAyoE5-7w",
        "colab_type": "code",
        "colab": {}
      },
      "source": [
        "X_train = scipy.sparse.hstack((train_bow_name,train_bow_desc,train_transform,train_ohe,train_main,train_sub1,train_sub2,train_sub3,train_sub4,train_desc_feats,train_mean_brand,train_mean_cat,train_median_brand)).tocsr().astype('float32')\n",
        "X_test = scipy.sparse.hstack((test_bow_name,test_bow_desc,test_transform,test_ohe,test_main,test_sub1,test_sub2,test_sub3,test_sub4,test_desc_feats,test_mean_brand,test_mean_cat,test_median_brand)).tocsr().astype('float32')"
      ],
      "execution_count": null,
      "outputs": []
    },
    {
      "cell_type": "code",
      "metadata": {
        "id": "px76ryPSQJ2K",
        "colab_type": "code",
        "colab": {}
      },
      "source": [
        "X_test1 = scipy.sparse.hstack((test1_bow_name,test1_bow_desc,test1_transform,test1_ohe,test1_main,test1_sub1,test1_sub2,test1_sub3,test1_sub4,test1_desc_feats,test1_mean_brand,test1_mean_cat,test1_median_brand)).tocsr().astype('float32')"
      ],
      "execution_count": null,
      "outputs": []
    },
    {
      "cell_type": "markdown",
      "metadata": {
        "id": "HNdkDqLBJ-mI",
        "colab_type": "text"
      },
      "source": [
        "# **Data Modelling**"
      ]
    },
    {
      "cell_type": "markdown",
      "metadata": {
        "id": "FSMSU0ekKCcq",
        "colab_type": "text"
      },
      "source": [
        "**Linear Regression**"
      ]
    },
    {
      "cell_type": "markdown",
      "metadata": {
        "id": "pYtW-TgHKT_1",
        "colab_type": "text"
      },
      "source": [
        "The linear regression assumes that all the datapoints lie on a linear hyper plane. For producing a lower loss , the attributes must have some linear relationship between them. So im going to plot heat map to know the correlation."
      ]
    },
    {
      "cell_type": "code",
      "metadata": {
        "id": "vrSmueqFKBgp",
        "colab_type": "code",
        "colab": {}
      },
      "source": [
        "correlation = data.corr()"
      ],
      "execution_count": null,
      "outputs": []
    },
    {
      "cell_type": "code",
      "metadata": {
        "id": "XOGgIr5pKMjw",
        "colab_type": "code",
        "colab": {
          "base_uri": "https://localhost:8080/",
          "height": 377
        },
        "outputId": "b0f3e3b9-c1a3-4e09-d337-71f9f63973f2"
      },
      "source": [
        "sns.heatmap(correlation,xticklabels=correlation.columns,yticklabels=correlation.columns)"
      ],
      "execution_count": null,
      "outputs": [
        {
          "output_type": "execute_result",
          "data": {
            "text/plain": [
              "<matplotlib.axes._subplots.AxesSubplot at 0x7feb0fee37b8>"
            ]
          },
          "metadata": {
            "tags": []
          },
          "execution_count": 22
        },
        {
          "output_type": "display_data",
          "data": {
            "image/png": "[encoded data removed]",
            "text/plain": [
              "<Figure size 432x288 with 2 Axes>"
            ]
          },
          "metadata": {
            "tags": [],
            "needs_background": "light"
          }
        }
      ]
    },
    {
      "cell_type": "markdown",
      "metadata": {
        "id": "R9rtBveLLSR9",
        "colab_type": "text"
      },
      "source": [
        "It seems that there is no good correlation between datapoints (lessthan 0.5). Therefore iam concluding that linearregression might not be a good model for the prediction task without regularization. Therefore iam going for Ridge regression."
      ]
    },
    {
      "cell_type": "markdown",
      "metadata": {
        "id": "wF44CTya6Gnc",
        "colab_type": "text"
      },
      "source": [
        " **SGD Regressor**"
      ]
    },
    {
      "cell_type": "code",
      "metadata": {
        "id": "nNSnmUSZNJ_q",
        "colab_type": "code",
        "colab": {}
      },
      "source": [
        "y_train = np.log(train[\"price\"]+1)\n",
        "y_test = np.log(test[\"price\"]+1)"
      ],
      "execution_count": null,
      "outputs": []
    },
    {
      "cell_type": "code",
      "metadata": {
        "id": "o39yUNOk6FH9",
        "colab_type": "code",
        "colab": {
          "base_uri": "https://localhost:8080/",
          "height": 319
        },
        "outputId": "c45c7ab1-d3b8-43cd-ff27-e94c09b5aad8"
      },
      "source": [
        "parameters = {\"alpha\":[0.0001,0.001,0.01,0.1,0,1,10,100,1000],\n",
        "             \"l1_ratio\" : [0.2,0.3,0.4,0.5,0.6,0.7]\n",
        "             }\n",
        "model = SGDRegressor  (\n",
        "                         loss='squared_loss',\n",
        "                         learning_rate='invscaling',\n",
        "                         max_iter=200,\n",
        "                         penalty='l2',\n",
        "                         fit_intercept=False\n",
        "                      )\n",
        "reg = GridSearchCV(model,param_grid =parameters,n_jobs=-1)\n",
        "reg.fit(X_train, y_train)"
      ],
      "execution_count": null,
      "outputs": [
        {
          "output_type": "execute_result",
          "data": {
            "text/plain": [
              "GridSearchCV(cv=None, error_score=nan,\n",
              "             estimator=SGDRegressor(alpha=0.0001, average=False,\n",
              "                                    early_stopping=False, epsilon=0.1,\n",
              "                                    eta0=0.01, fit_intercept=False,\n",
              "                                    l1_ratio=0.15, learning_rate='invscaling',\n",
              "                                    loss='squared_loss', max_iter=200,\n",
              "                                    n_iter_no_change=5, penalty='l2',\n",
              "                                    power_t=0.25, random_state=None,\n",
              "                                    shuffle=True, tol=0.001,\n",
              "                                    validation_fraction=0.1, verbose=0,\n",
              "                                    warm_start=False),\n",
              "             iid='deprecated', n_jobs=-1,\n",
              "             param_grid={'alpha': [0.0001, 0.001, 0.01, 0.1, 0, 1, 10, 100,\n",
              "                                   1000],\n",
              "                         'l1_ratio': [0.2, 0.3, 0.4, 0.5, 0.6, 0.7]},\n",
              "             pre_dispatch='2*n_jobs', refit=True, return_train_score=False,\n",
              "             scoring=None, verbose=0)"
            ]
          },
          "metadata": {
            "tags": []
          },
          "execution_count": 56
        }
      ]
    },
    {
      "cell_type": "code",
      "metadata": {
        "id": "UOGC8cc3UVpO",
        "colab_type": "code",
        "colab": {
          "base_uri": "https://localhost:8080/",
          "height": 35
        },
        "outputId": "26ba74f5-dab2-4b30-efe5-34eb7a895c89"
      },
      "source": [
        "reg.best_params_"
      ],
      "execution_count": null,
      "outputs": [
        {
          "output_type": "execute_result",
          "data": {
            "text/plain": [
              "{'alpha': 0, 'l1_ratio': 0.2}"
            ]
          },
          "metadata": {
            "tags": []
          },
          "execution_count": 57
        }
      ]
    },
    {
      "cell_type": "code",
      "metadata": {
        "id": "6MCERT-VUXwF",
        "colab_type": "code",
        "colab": {
          "base_uri": "https://localhost:8080/",
          "height": 124
        },
        "outputId": "3556b153-91ab-4bd8-d8c1-ae97372fbcaa"
      },
      "source": [
        "model = SGDRegressor  (\n",
        "                         loss='squared_loss',\n",
        "                         learning_rate='invscaling',\n",
        "                         max_iter=200,\n",
        "                         penalty='l2',\n",
        "                         alpha = 0,\n",
        "                         l1_ratio = 0.2,\n",
        "                         fit_intercept=False\n",
        "                      )\n",
        "model.fit(X_train, y_train)"
      ],
      "execution_count": null,
      "outputs": [
        {
          "output_type": "execute_result",
          "data": {
            "text/plain": [
              "SGDRegressor(alpha=0, average=False, early_stopping=False, epsilon=0.1,\n",
              "             eta0=0.01, fit_intercept=False, l1_ratio=0.2,\n",
              "             learning_rate='invscaling', loss='squared_loss', max_iter=200,\n",
              "             n_iter_no_change=5, penalty='l2', power_t=0.25, random_state=None,\n",
              "             shuffle=True, tol=0.001, validation_fraction=0.1, verbose=0,\n",
              "             warm_start=False)"
            ]
          },
          "metadata": {
            "tags": []
          },
          "execution_count": 86
        }
      ]
    },
    {
      "cell_type": "code",
      "metadata": {
        "id": "3AuBdiXqPAi4",
        "colab_type": "code",
        "colab": {
          "base_uri": "https://localhost:8080/",
          "height": 35
        },
        "outputId": "410274c8-a271-4949-c26d-b60e03bc651c"
      },
      "source": [
        "scores = model.predict(X_test)\n",
        "RMSLE = np.sqrt(mean_squared_error(y_test, scores))\n",
        "print(RMSLE)"
      ],
      "execution_count": null,
      "outputs": [
        {
          "output_type": "stream",
          "text": [
            "0.4783411342297504\n"
          ],
          "name": "stdout"
        }
      ]
    },
    {
      "cell_type": "code",
      "metadata": {
        "id": "d-tZNxCKQdOX",
        "colab_type": "code",
        "colab": {}
      },
      "source": [
        "scores = model.predict(X_test1)"
      ],
      "execution_count": null,
      "outputs": []
    },
    {
      "cell_type": "code",
      "metadata": {
        "id": "03lTGpL7j9hd",
        "colab_type": "code",
        "colab": {
          "base_uri": "https://localhost:8080/",
          "height": 35
        },
        "outputId": "64a06153-9f7b-4b8b-b5f2-f3077ebf44b3"
      },
      "source": [
        "scores.shape"
      ],
      "execution_count": null,
      "outputs": [
        {
          "output_type": "execute_result",
          "data": {
            "text/plain": [
              "(3460725,)"
            ]
          },
          "metadata": {
            "tags": []
          },
          "execution_count": 109
        }
      ]
    },
    {
      "cell_type": "code",
      "metadata": {
        "id": "LfxLPScJZsZw",
        "colab_type": "code",
        "colab": {}
      },
      "source": [
        "pred = ['price']\n",
        "for i in scores:\n",
        "  pred.append(np.exp(i))"
      ],
      "execution_count": null,
      "outputs": []
    },
    {
      "cell_type": "code",
      "metadata": {
        "id": "jOIySTj9hccj",
        "colab_type": "code",
        "colab": {}
      },
      "source": [
        "index = ['test_id']\n",
        "for i in range(3460725):\n",
        "  index.append(i)"
      ],
      "execution_count": null,
      "outputs": []
    },
    {
      "cell_type": "code",
      "metadata": {
        "id": "_eg67WqAUmA4",
        "colab_type": "code",
        "colab": {}
      },
      "source": [
        "rows = zip(index,pred)\n",
        "import csv\n",
        "with open('submission.csv', 'w') as myfile:\n",
        "    wr = csv.writer(myfile, quoting=csv.QUOTE_ALL)\n",
        "    for row in rows:\n",
        "      wr.writerow(row)"
      ],
      "execution_count": null,
      "outputs": []
    },
    {
      "cell_type": "code",
      "metadata": {
        "id": "VPNS5UuPU6EG",
        "colab_type": "code",
        "colab": {
          "base_uri": "https://localhost:8080/",
          "height": 17
        },
        "outputId": "2e9a7123-7312-47b8-972c-61dcb69234b6"
      },
      "source": [
        "from google.colab import files\n",
        "files.download('submission.csv') "
      ],
      "execution_count": null,
      "outputs": [
        {
          "output_type": "display_data",
          "data": {
            "application/javascript": [
              "\n",
              "    async function download(id, filename, size) {\n",
              "      if (!google.colab.kernel.accessAllowed) {\n",
              "        return;\n",
              "      }\n",
              "      const div = document.createElement('div');\n",
              "      const label = document.createElement('label');\n",
              "      label.textContent = `Downloading \"${filename}\": `;\n",
              "      div.appendChild(label);\n",
              "      const progress = document.createElement('progress');\n",
              "      progress.max = size;\n",
              "      div.appendChild(progress);\n",
              "      document.body.appendChild(div);\n",
              "\n",
              "      const buffers = [];\n",
              "      let downloaded = 0;\n",
              "\n",
              "      const channel = await google.colab.kernel.comms.open(id);\n",
              "      // Send a message to notify the kernel that we're ready.\n",
              "      channel.send({})\n",
              "\n",
              "      for await (const message of channel.messages) {\n",
              "        // Send a message to notify the kernel that we're ready.\n",
              "        channel.send({})\n",
              "        if (message.buffers) {\n",
              "          for (const buffer of message.buffers) {\n",
              "            buffers.push(buffer);\n",
              "            downloaded += buffer.byteLength;\n",
              "            progress.value = downloaded;\n",
              "          }\n",
              "        }\n",
              "      }\n",
              "      const blob = new Blob(buffers, {type: 'application/binary'});\n",
              "      const a = document.createElement('a');\n",
              "      a.href = window.URL.createObjectURL(blob);\n",
              "      a.download = filename;\n",
              "      div.appendChild(a);\n",
              "      a.click();\n",
              "      div.remove();\n",
              "    }\n",
              "  "
            ],
            "text/plain": [
              "<IPython.core.display.Javascript object>"
            ]
          },
          "metadata": {
            "tags": []
          }
        },
        {
          "output_type": "display_data",
          "data": {
            "application/javascript": [
              "download(\"download_fbfa3c7a-e5b7-4af4-bd09-98fa8f5f7dd6\", \"submission.csv\", 108113565)"
            ],
            "text/plain": [
              "<IPython.core.display.Javascript object>"
            ]
          },
          "metadata": {
            "tags": []
          }
        }
      ]
    },
    {
      "cell_type": "markdown",
      "metadata": {
        "id": "abMzBq0Bo-jp",
        "colab_type": "text"
      },
      "source": [
        "**Kaggel Score**"
      ]
    },
    {
      "cell_type": "markdown",
      "metadata": {
        "id": "b1bWuINmpPQ2",
        "colab_type": "text"
      },
      "source": [
        "![Screenshot (170).png](data:image/png;base64,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)"
      ]
    },
    {
      "cell_type": "markdown",
      "metadata": {
        "id": "YY1-upqLYiWP",
        "colab_type": "text"
      },
      "source": [
        "SGDRegressor is linear model and it produces an RMSLE score of 0.51 in kaggle"
      ]
    },
    {
      "cell_type": "markdown",
      "metadata": {
        "id": "KmB7JueWu0aC",
        "colab_type": "text"
      },
      "source": [
        "**CatBoost**"
      ]
    },
    {
      "cell_type": "markdown",
      "metadata": {
        "id": "aPY5V90ku6cj",
        "colab_type": "text"
      },
      "source": [
        "Catboost really works well with categorical features and its default parameters are just suffiecient for a better prediction so iam not going to do hyper parameter tuning on it"
      ]
    },
    {
      "cell_type": "code",
      "metadata": {
        "id": "fIiAoEmKw1sh",
        "colab_type": "code",
        "colab": {}
      },
      "source": [
        "list = []\n",
        "n = [200,250,300,350]\n",
        "for i in n:\n",
        "  model = CatBoostRegressor(n_estimators = i)\n",
        "  model.fit(X_train, y_train)\n",
        "  scores = model.predict(X_test)\n",
        "  RMSLE = np.sqrt(mean_squared_error(y_test, scores))\n",
        "  list.append(RMSLE)"
      ],
      "execution_count": null,
      "outputs": []
    },
    {
      "cell_type": "code",
      "metadata": {
        "id": "HsXdhYdzanxL",
        "colab_type": "code",
        "colab": {
          "base_uri": "https://localhost:8080/",
          "height": 88
        },
        "outputId": "369d6ed4-1f5b-45b8-d91b-e0e9ce2c99af"
      },
      "source": [
        "list"
      ],
      "execution_count": null,
      "outputs": [
        {
          "output_type": "execute_result",
          "data": {
            "text/plain": [
              "[0.5292887896628707,\n",
              " 0.5130362896799545,\n",
              " 0.5035947244392676,\n",
              " 0.49848375843321835]"
            ]
          },
          "metadata": {
            "tags": []
          },
          "execution_count": 87
        }
      ]
    },
    {
      "cell_type": "code",
      "metadata": {
        "id": "Kxw1igQwxACd",
        "colab_type": "code",
        "colab": {}
      },
      "source": [
        "model = CatBoostRegressor(n_estimators = 350)\n",
        "model.fit(X_train, y_train)\n",
        "scores = model.predict(X_test)\n",
        "RMSLE = np.sqrt(mean_squared_error(y_test, scores))"
      ],
      "execution_count": null,
      "outputs": []
    },
    {
      "cell_type": "markdown",
      "metadata": {
        "id": "Tx5HIJJnFeab",
        "colab_type": "text"
      },
      "source": [
        "**Decision Tree**"
      ]
    },
    {
      "cell_type": "code",
      "metadata": {
        "id": "oD7HA0Ve2sKW",
        "colab_type": "code",
        "colab": {}
      },
      "source": [
        "dtm = DecisionTreeRegressor()\n",
        "param_grid = {\n",
        "              \"min_samples_split\": [10, 20, 40],\n",
        "              \"max_depth\": [2, 6, 8],\n",
        "              \"min_samples_leaf\": [20, 40, 100]\n",
        "              }\n",
        "grid_cv_dtm = GridSearchCV(dtm, param_grid, cv=5)\n",
        "grid_cv_dtm.fit(X_train,y_train)"
      ],
      "execution_count": null,
      "outputs": []
    },
    {
      "cell_type": "code",
      "metadata": {
        "id": "IAM9bH92GqsZ",
        "colab_type": "code",
        "colab": {
          "base_uri": "https://localhost:8080/",
          "height": 35
        },
        "outputId": "167c8fa9-e59d-4654-b7cb-e9148fb03482"
      },
      "source": [
        "grid_cv_dtm.best_params_"
      ],
      "execution_count": null,
      "outputs": [
        {
          "output_type": "execute_result",
          "data": {
            "text/plain": [
              "{'max_depth': 8, 'min_samples_leaf': 20, 'min_samples_split': 10}"
            ]
          },
          "metadata": {
            "tags": []
          },
          "execution_count": 27
        }
      ]
    },
    {
      "cell_type": "code",
      "metadata": {
        "id": "gkhsY5iPGwkC",
        "colab_type": "code",
        "colab": {
          "base_uri": "https://localhost:8080/",
          "height": 124
        },
        "outputId": "8de2ebca-1791-4d66-a45c-7335c9976338"
      },
      "source": [
        "dtm = DecisionTreeRegressor(max_depth= 8, min_samples_leaf= 20, min_samples_split= 10)\n",
        "dtm.fit(X_train,y_train)\n"
      ],
      "execution_count": null,
      "outputs": [
        {
          "output_type": "execute_result",
          "data": {
            "text/plain": [
              "DecisionTreeRegressor(ccp_alpha=0.0, criterion='mse', max_depth=8,\n",
              "                      max_features=None, max_leaf_nodes=None,\n",
              "                      min_impurity_decrease=0.0, min_impurity_split=None,\n",
              "                      min_samples_leaf=20, min_samples_split=10,\n",
              "                      min_weight_fraction_leaf=0.0, presort='deprecated',\n",
              "                      random_state=None, splitter='best')"
            ]
          },
          "metadata": {
            "tags": []
          },
          "execution_count": 69
        }
      ]
    },
    {
      "cell_type": "code",
      "metadata": {
        "id": "q3_30c8THkMi",
        "colab_type": "code",
        "colab": {
          "base_uri": "https://localhost:8080/",
          "height": 35
        },
        "outputId": "0f55511f-64df-427d-ceaf-e367a6ca016b"
      },
      "source": [
        "scores = dtm.predict(X_test)\n",
        "RMSLE = np.sqrt(mean_squared_error(y_test, scores))\n",
        "print(RMSLE)"
      ],
      "execution_count": null,
      "outputs": [
        {
          "output_type": "stream",
          "text": [
            "0.5739236969914285\n"
          ],
          "name": "stdout"
        }
      ]
    },
    {
      "cell_type": "code",
      "metadata": {
        "id": "upjyraM92TWJ",
        "colab_type": "code",
        "colab": {
          "base_uri": "https://localhost:8080/",
          "height": 17
        },
        "outputId": "2a4952d0-8e5f-47ec-d2e9-2298a1c9e7c2"
      },
      "source": [
        "scores = dtm.predict(X_test1)\n",
        "pred = ['price']\n",
        "for i in scores:\n",
        "  pred.append(np.exp(i))\n",
        "index = ['test_id']\n",
        "for i in range(3460725):\n",
        "  index.append(i)\n",
        "rows = zip(index,pred)\n",
        "import csv\n",
        "with open('submission.csv', 'w') as myfile:\n",
        "    wr = csv.writer(myfile, quoting=csv.QUOTE_ALL)\n",
        "    for row in rows:\n",
        "      wr.writerow(row)\n",
        "from google.colab import files\n",
        "files.download('submission.csv') "
      ],
      "execution_count": null,
      "outputs": [
        {
          "output_type": "display_data",
          "data": {
            "application/javascript": [
              "\n",
              "    async function download(id, filename, size) {\n",
              "      if (!google.colab.kernel.accessAllowed) {\n",
              "        return;\n",
              "      }\n",
              "      const div = document.createElement('div');\n",
              "      const label = document.createElement('label');\n",
              "      label.textContent = `Downloading \"${filename}\": `;\n",
              "      div.appendChild(label);\n",
              "      const progress = document.createElement('progress');\n",
              "      progress.max = size;\n",
              "      div.appendChild(progress);\n",
              "      document.body.appendChild(div);\n",
              "\n",
              "      const buffers = [];\n",
              "      let downloaded = 0;\n",
              "\n",
              "      const channel = await google.colab.kernel.comms.open(id);\n",
              "      // Send a message to notify the kernel that we're ready.\n",
              "      channel.send({})\n",
              "\n",
              "      for await (const message of channel.messages) {\n",
              "        // Send a message to notify the kernel that we're ready.\n",
              "        channel.send({})\n",
              "        if (message.buffers) {\n",
              "          for (const buffer of message.buffers) {\n",
              "            buffers.push(buffer);\n",
              "            downloaded += buffer.byteLength;\n",
              "            progress.value = downloaded;\n",
              "          }\n",
              "        }\n",
              "      }\n",
              "      const blob = new Blob(buffers, {type: 'application/binary'});\n",
              "      const a = document.createElement('a');\n",
              "      a.href = window.URL.createObjectURL(blob);\n",
              "      a.download = filename;\n",
              "      div.appendChild(a);\n",
              "      a.click();\n",
              "      div.remove();\n",
              "    }\n",
              "  "
            ],
            "text/plain": [
              "<IPython.core.display.Javascript object>"
            ]
          },
          "metadata": {
            "tags": []
          }
        },
        {
          "output_type": "display_data",
          "data": {
            "application/javascript": [
              "download(\"download_e02cf499-fc23-4524-9525-ca248e8de077\", \"submission.csv\", 107508088)"
            ],
            "text/plain": [
              "<IPython.core.display.Javascript object>"
            ]
          },
          "metadata": {
            "tags": []
          }
        }
      ]
    },
    {
      "cell_type": "code",
      "metadata": {
        "id": "n0UHu3pK5Vqe",
        "colab_type": "code",
        "colab": {
          "base_uri": "https://localhost:8080/",
          "height": 35
        },
        "outputId": "078f5c6c-a07e-443e-f2cf-de7235f60044"
      },
      "source": [
        "df = pd.read_csv('submission.csv')\n",
        "df.shape"
      ],
      "execution_count": null,
      "outputs": [
        {
          "output_type": "execute_result",
          "data": {
            "text/plain": [
              "(3460725, 2)"
            ]
          },
          "metadata": {
            "tags": []
          },
          "execution_count": 75
        }
      ]
    },
    {
      "cell_type": "markdown",
      "metadata": {
        "id": "mzRXzOld7Y8n",
        "colab_type": "text"
      },
      "source": [
        "Kaggle Score"
      ]
    },
    {
      "cell_type": "markdown",
      "metadata": {
        "id": "ZYKrquKM7UY7",
        "colab_type": "text"
      },
      "source": [
        "![Screenshot (172).png](data:image/png;base64,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)"
      ]
    },
    {
      "cell_type": "markdown",
      "metadata": {
        "id": "XLCjGGUGnmBg",
        "colab_type": "text"
      },
      "source": [
        "# **Deep Learning Models**"
      ]
    },
    {
      "cell_type": "code",
      "metadata": {
        "id": "m_VRVDk3QmFj",
        "colab_type": "code",
        "colab": {}
      },
      "source": [
        "import keras as ks\n",
        "from keras.preprocessing.text import Tokenizer"
      ],
      "execution_count": null,
      "outputs": []
    },
    {
      "cell_type": "code",
      "metadata": {
        "id": "ZXyAoGh5pkjN",
        "colab_type": "code",
        "colab": {}
      },
      "source": [
        "import pandas as pd\n",
        "train = pd.read_csv(\"train.tsv\",sep = '\\t')\n",
        "test = pd.read_csv(\"test_stg2.tsv\",sep = '\\t')"
      ],
      "execution_count": null,
      "outputs": []
    },
    {
      "cell_type": "code",
      "metadata": {
        "id": "kFLibZd4orAn",
        "colab_type": "code",
        "colab": {
          "base_uri": "https://localhost:8080/",
          "height": 304
        },
        "outputId": "0a27a054-68f0-4a14-846c-35666f7ca153"
      },
      "source": [
        "raw_text = np.hstack([train.item_description.str.lower(), train.name.str.lower()])\n",
        "vec = Tokenizer()\n",
        "vec.fit_on_texts(raw_text)\n",
        "train[\"seq_item_description\"] = vec.texts_to_sequences(train.item_description.str.lower())\n",
        "test[\"seq_item_description\"] = vec.texts_to_sequences(test.item_description.str.lower())\n",
        "train[\"seq_name\"] = vec.texts_to_sequences(train.name.str.lower())\n",
        "test[\"seq_name\"] = vec.texts_to_sequences(test.name.str.lower())\n",
        "train.head(3)"
      ],
      "execution_count": null,
      "outputs": [
        {
          "output_type": "execute_result",
          "data": {
            "text/html": [
              "<div>\n",
              "<style scoped>\n",
              "    .dataframe tbody tr th:only-of-type {\n",
              "        vertical-align: middle;\n",
              "    }\n",
              "\n",
              "    .dataframe tbody tr th {\n",
              "        vertical-align: top;\n",
              "    }\n",
              "\n",
              "    .dataframe thead th {\n",
              "        text-align: right;\n",
              "    }\n",
              "</style>\n",
              "<table border=\"1\" class=\"dataframe\">\n",
              "  <thead>\n",
              "    <tr style=\"text-align: right;\">\n",
              "      <th></th>\n",
              "      <th>train_id</th>\n",
              "      <th>name</th>\n",
              "      <th>item_condition_id</th>\n",
              "      <th>category_name</th>\n",
              "      <th>brand_name</th>\n",
              "      <th>price</th>\n",
              "      <th>shipping</th>\n",
              "      <th>item_description</th>\n",
              "      <th>Main_category</th>\n",
              "      <th>subcategory1</th>\n",
              "      <th>subcategory2</th>\n",
              "      <th>subcategory3</th>\n",
              "      <th>subcategory4</th>\n",
              "      <th>description_length</th>\n",
              "      <th>Mean_Brand_Price</th>\n",
              "      <th>Mean_Sub_Price</th>\n",
              "      <th>Median_Brand_Price</th>\n",
              "      <th>seq_item_description</th>\n",
              "      <th>seq_name</th>\n",
              "    </tr>\n",
              "  </thead>\n",
              "  <tbody>\n",
              "    <tr>\n",
              "      <th>0</th>\n",
              "      <td>0</td>\n",
              "      <td>MLB Cincinnati Reds T Shirt Size XL</td>\n",
              "      <td>3</td>\n",
              "      <td>Men/Tops/T-shirts</td>\n",
              "      <td>missing</td>\n",
              "      <td>10.0</td>\n",
              "      <td>1</td>\n",
              "      <td></td>\n",
              "      <td>Men</td>\n",
              "      <td>Tops</td>\n",
              "      <td>T-shirts</td>\n",
              "      <td>missing</td>\n",
              "      <td>missing</td>\n",
              "      <td>1</td>\n",
              "      <td>21.133453</td>\n",
              "      <td>18.352495</td>\n",
              "      <td>14.0</td>\n",
              "      <td>[]</td>\n",
              "      <td>[3852, 8823, 6896, 206, 82, 6, 153]</td>\n",
              "    </tr>\n",
              "    <tr>\n",
              "      <th>1</th>\n",
              "      <td>1</td>\n",
              "      <td>Razer BlackWidow Chroma Keyboard</td>\n",
              "      <td>3</td>\n",
              "      <td>Electronics/Computers &amp; Tablets/Components &amp; P...</td>\n",
              "      <td>Razer</td>\n",
              "      <td>52.0</td>\n",
              "      <td>0</td>\n",
              "      <td>This keyboard is in great condition and works ...</td>\n",
              "      <td>Electronics</td>\n",
              "      <td>Computers &amp; Tablets</td>\n",
              "      <td>Components &amp; Parts</td>\n",
              "      <td>missing</td>\n",
              "      <td>missing</td>\n",
              "      <td>188</td>\n",
              "      <td>45.021277</td>\n",
              "      <td>42.913900</td>\n",
              "      <td>39.5</td>\n",
              "      <td>[29, 2627, 10, 7, 39, 16, 1, 205, 51, 19, 1112...</td>\n",
              "      <td>[10760, 25565, 16369, 2627]</td>\n",
              "    </tr>\n",
              "    <tr>\n",
              "      <th>2</th>\n",
              "      <td>2</td>\n",
              "      <td>AVA-VIV Blouse</td>\n",
              "      <td>1</td>\n",
              "      <td>Women/Tops &amp; Blouses/Blouse</td>\n",
              "      <td>Target</td>\n",
              "      <td>10.0</td>\n",
              "      <td>1</td>\n",
              "      <td>Adorable top with a hint of lace and a key hol...</td>\n",
              "      <td>Women</td>\n",
              "      <td>Tops &amp; Blouses</td>\n",
              "      <td>Blouse</td>\n",
              "      <td>missing</td>\n",
              "      <td>missing</td>\n",
              "      <td>124</td>\n",
              "      <td>15.047109</td>\n",
              "      <td>15.659676</td>\n",
              "      <td>12.0</td>\n",
              "      <td>[602, 60, 9, 4, 5347, 11, 190, 1, 4, 885, 1289...</td>\n",
              "      <td>[7634, 10563, 665]</td>\n",
              "    </tr>\n",
              "  </tbody>\n",
              "</table>\n",
              "</div>"
            ],
            "text/plain": [
              "   train_id  ...                             seq_name\n",
              "0         0  ...  [3852, 8823, 6896, 206, 82, 6, 153]\n",
              "1         1  ...          [10760, 25565, 16369, 2627]\n",
              "2         2  ...                   [7634, 10563, 665]\n",
              "\n",
              "[3 rows x 19 columns]"
            ]
          },
          "metadata": {
            "tags": []
          },
          "execution_count": 36
        }
      ]
    },
    {
      "cell_type": "code",
      "metadata": {
        "id": "NNg9rfGmV2Oc",
        "colab_type": "code",
        "colab": {}
      },
      "source": [
        "enc = LabelEncoder()\n",
        "enc.fit(np.hstack([train.Main_category,test.Main_category]))\n",
        "train['Main_category'] = enc.transform(train['Main_category'])\n",
        "test['Main_category'] = enc.transform(test['Main_category'])\n",
        "enc.fit(np.hstack([train.subcategory1,test.subcategory1]))\n",
        "train['subcategory1'] = enc.transform(train['subcategory1'])\n",
        "test['subcategory1'] = enc.transform(test['subcategory1'])\n",
        "enc.fit(np.hstack([train.subcategory2,test.subcategory2]))\n",
        "train['subcategory2'] = enc.transform(train['subcategory2'])\n",
        "test['subcategory2'] = enc.transform(test['subcategory2'])"
      ],
      "execution_count": null,
      "outputs": []
    },
    {
      "cell_type": "code",
      "metadata": {
        "id": "rYw6RWKfc2Ms",
        "colab_type": "code",
        "colab": {}
      },
      "source": [
        "enc.fit(np.hstack([train.brand_name,test.brand_name]))\n",
        "train.brand_name = enc.transform(train.brand_name)\n",
        "test.brand_name = enc.transform(test.brand_name)"
      ],
      "execution_count": null,
      "outputs": []
    },
    {
      "cell_type": "code",
      "metadata": {
        "id": "AKhGpW_outZl",
        "colab_type": "code",
        "colab": {}
      },
      "source": [
        "\n",
        "\n",
        "#size of embeddings\n",
        "#size of vocab + 1 = size of embedding\n",
        "MAX_TEXT = np.max([np.max(train.seq_name.max()),np.max(test.seq_name.max()),np.max(train.seq_item_description.max()),np.max(test.seq_item_description.max())])+2\n",
        "MAX_BRAND = np.max([train.brand_name.max(), test.brand_name.max()])+1\n",
        "MAX_MAIN_CATEGORY = np.max([train.Main_category.max(),test.Main_category.max()])+1\n",
        "MAX_SUB_CATEGORY1 = np.max([train.subcategory1.max(),test.subcategory1.max()])+1\n",
        "MAX_SUB_CATEGORY2 = np.max([train.subcategory2.max(),test.subcategory2.max()])+1\n",
        "MAX_CONDITION = np.max([train.item_condition_id.max(), test.item_condition_id.max()])+1"
      ],
      "execution_count": null,
      "outputs": []
    },
    {
      "cell_type": "code",
      "metadata": {
        "id": "prHNs5ZnrUQF",
        "colab_type": "code",
        "colab": {
          "base_uri": "https://localhost:8080/",
          "height": 50
        },
        "outputId": "3a006c80-72e4-4a05-863e-856d88f51e6e"
      },
      "source": [
        "dtrain, dvalid = train_test_split(train, random_state=123, train_size=0.99)\n",
        "print(dtrain.shape)\n",
        "print(dvalid.shape)"
      ],
      "execution_count": null,
      "outputs": [
        {
          "output_type": "stream",
          "text": [
            "(1467709, 19)\n",
            "(14826, 19)\n"
          ],
          "name": "stdout"
        }
      ]
    },
    {
      "cell_type": "code",
      "metadata": {
        "id": "LPgoERERbaR5",
        "colab_type": "code",
        "colab": {}
      },
      "source": [
        "numerical_train=np.concatenate((train_desc_feats,train_mean_brand,train_mean_cat,train_median_brand),axis=1)\n",
        "numerical_test=np.concatenate((test_desc_feats,test_mean_brand,test_mean_cat,test_median_brand),axis=1)\n",
        "normal=StandardScaler()\n",
        "normal_train=normal.fit_transform(numerical_train)\n",
        "normal_test=normal.transform(numerical_test)"
      ],
      "execution_count": null,
      "outputs": []
    },
    {
      "cell_type": "code",
      "metadata": {
        "id": "eXd_BP6Wdsml",
        "colab_type": "code",
        "colab": {}
      },
      "source": [
        "num_train,num_valid = train_test_split(normal_train, random_state=123, train_size=0.99)"
      ],
      "execution_count": null,
      "outputs": []
    },
    {
      "cell_type": "code",
      "metadata": {
        "id": "1gBozczscVVn",
        "colab_type": "code",
        "colab": {}
      },
      "source": [
        "numerical_out = ks.layers.Input(shape=(4,),name=\"numerical_features\")\n",
        "numerical_dense_out = ks.layers.Dense(100,activation=\"relu\",kernel_initializer=\"he_normal\",kernel_regularizer=ks.regularizers.l2(0.001))(numerical_out)"
      ],
      "execution_count": null,
      "outputs": []
    },
    {
      "cell_type": "code",
      "metadata": {
        "id": "04TgPzFDeRf8",
        "colab_type": "code",
        "colab": {}
      },
      "source": [
        "def data(dataset):\n",
        "    X = {\n",
        "        'name': pad_sequences(dataset.seq_name, maxlen=10)\n",
        "        ,'item_desc': pad_sequences(dataset.seq_item_description, maxlen=75)\n",
        "        ,'brand_name': np.array(dataset.brand_name)\n",
        "        ,'Main_category': np.array(dataset.Main_category)\n",
        "        ,'subcategory1': np.array(dataset.subcategory1)\n",
        "        ,'subcategory2': np.array(dataset.subcategory2)\n",
        "        ,'item_condition': np.array(dataset.item_condition_id)\n",
        "    }\n",
        "    return X\n",
        "\n",
        "X_train = data(dtrain)\n",
        "X_train['numerical_features'] = num_train\n",
        "X_valid = data(dvalid)\n",
        "X_valid['numerical_features'] = num_valid\n",
        "X_test = data(test)\n",
        "X_test['numerical_features'] = normal_test"
      ],
      "execution_count": null,
      "outputs": []
    },
    {
      "cell_type": "code",
      "metadata": {
        "id": "Ok0114yeQ_0z",
        "colab_type": "code",
        "colab": {
          "base_uri": "https://localhost:8080/",
          "height": 453
        },
        "outputId": "ab0574ce-f424-49bd-9c8f-05dabcd71dad"
      },
      "source": [
        "X_train"
      ],
      "execution_count": null,
      "outputs": [
        {
          "output_type": "execute_result",
          "data": {
            "text/plain": [
              "{'Main_category': array([9, 0, 9, ..., 9, 9, 6]),\n",
              " 'brand_name': array([ 867,  677, 6286, ..., 1986, 6286, 6286]),\n",
              " 'item_condition': array([1, 2, 2, ..., 2, 1, 2]),\n",
              " 'item_desc': array([[   0,    0,    0, ...,   43,  534,  585],\n",
              "        [   0,    0,    0, ...,   35,  189, 1902],\n",
              "        [   0,    0,    0, ...,    0,   31,   94],\n",
              "        ...,\n",
              "        [   0,    0,    0, ...,  461,   15,    5],\n",
              "        [   0,    0,    0, ..., 1154,   20,  173],\n",
              "        [   0,    0,    0, ...,   22,    1,   32]], dtype=int32),\n",
              " 'name': array([[    0,     0,     0, ...,  1037, 18025,   127],\n",
              "        [    0,     0,     0, ...,   641,   150,     6],\n",
              "        [    0,     0,     0, ...,  2875,  2240,    99],\n",
              "        ...,\n",
              "        [    0,     0,     0, ...,  2529,   281,   558],\n",
              "        [    0,     0,     0, ...,   255,  1009,  1423],\n",
              "        [    0,     0,     0, ...,  2515,    28,    32]], dtype=int32),\n",
              " 'numerical_features': array([[-0.65512575, -0.46183352, -0.53359058, -0.27053092],\n",
              "        [ 1.55402002, -0.60035731, -0.75606239, -0.43708436],\n",
              "        [-0.77500188, -0.32737174, -0.62534702, -0.43708436],\n",
              "        ...,\n",
              "        [-0.46674898, -0.80659548, -0.11647674, -0.6036378 ],\n",
              "        [-0.01007802, -0.32737174, -0.07426972, -0.43708436],\n",
              "        [-0.56379156, -0.32737174, -0.20198212, -0.43708436]]),\n",
              " 'subcategory1': array([  5,  63, 111, ...,  96,  58,  14]),\n",
              " 'subcategory2': array([720, 305, 226, ..., 234, 552, 291])}"
            ]
          },
          "metadata": {
            "tags": []
          },
          "execution_count": 45
        }
      ]
    },
    {
      "cell_type": "code",
      "metadata": {
        "id": "rcrQBIv_TXFj",
        "colab_type": "code",
        "colab": {}
      },
      "source": [
        "name = ks.Input(shape=[X_train['name'].shape[1]], name=\"name\")\n",
        "item_desc = ks.Input(shape=[X_train['item_desc'].shape[1]], name=\"item_desc\")\n",
        "brand_name =ks.Input(shape=[1], name=\"brand_name\")\n",
        "main_category =ks.Input(shape=[1], name=\"main_category\")\n",
        "sub_category1 =ks.Input(shape=[1], name=\"sub_category1\")\n",
        "sub_category2 =ks.Input(shape=[1], name=\"sub_category2\")\n",
        "item_condition_shipping =ks.Input(shape=[1], name=\"item_condition_shipping\")"
      ],
      "execution_count": null,
      "outputs": []
    },
    {
      "cell_type": "code",
      "metadata": {
        "id": "LONtIoPlP0Gd",
        "colab_type": "code",
        "colab": {
          "base_uri": "https://localhost:8080/",
          "height": 33
        },
        "outputId": "b88e5075-744a-4704-e6c5-0c7ffb62cdc4"
      },
      "source": [
        "X_train['brand_name'].shape"
      ],
      "execution_count": null,
      "outputs": [
        {
          "output_type": "execute_result",
          "data": {
            "text/plain": [
              "(1467709,)"
            ]
          },
          "metadata": {
            "tags": []
          },
          "execution_count": 47
        }
      ]
    },
    {
      "cell_type": "code",
      "metadata": {
        "id": "zo9xno9PZX3f",
        "colab_type": "code",
        "colab": {}
      },
      "source": [
        "emb_name = ks.layers.Embedding(MAX_TEXT, 50)(name)\n",
        "emb_item_desc = ks.layers.Embedding(MAX_TEXT, 50)(item_desc)\n",
        "emb_brand_name = ks.layers.Embedding(MAX_BRAND, 10)(brand_name)\n",
        "emb_main_category = ks.layers.Embedding(MAX_MAIN_CATEGORY, 10)(main_category)\n",
        "emb_sub_category1 = ks.layers.Embedding(MAX_SUB_CATEGORY1, 10)(sub_category1)\n",
        "emb_sub_category2 = ks.layers.Embedding(MAX_SUB_CATEGORY2, 10)(sub_category2)\n",
        "emb_item_condition_shipping = ks.layers.Embedding(MAX_CONDITION, 5)(item_condition_shipping)"
      ],
      "execution_count": null,
      "outputs": []
    },
    {
      "cell_type": "markdown",
      "metadata": {
        "id": "AZaeperRMSd2",
        "colab_type": "text"
      },
      "source": [
        "**FASTEXT**"
      ]
    },
    {
      "cell_type": "code",
      "metadata": {
        "id": "WXwhjH0Vpcuf",
        "colab_type": "code",
        "colab": {}
      },
      "source": [
        "emb_name = ks.layers.GlobalAveragePooling1D(name = 'output_name_max')(emb_name)\n",
        "emb_item_desc = ks.layers.GlobalAveragePooling1D(name = 'output_item_max')(emb_item_desc)"
      ],
      "execution_count": null,
      "outputs": []
    },
    {
      "cell_type": "code",
      "metadata": {
        "id": "8FILtgTGo7Mb",
        "colab_type": "code",
        "colab": {}
      },
      "source": [
        "main = ks.layers.concatenate([ks.layers.Flatten() (emb_main_category)\n",
        "                            , ks.layers.Flatten() (emb_brand_name)\n",
        "                            , ks.layers.Flatten() (emb_item_condition_shipping)\n",
        "                            , emb_item_desc\n",
        "                            , emb_name\n",
        "                            , numerical_dense_out\n",
        "                            , ks.layers.Flatten() (emb_sub_category1)\n",
        "                            , ks.layers.Flatten() (emb_sub_category2)\n",
        "                            ],axis = 1)"
      ],
      "execution_count": null,
      "outputs": []
    },
    {
      "cell_type": "code",
      "metadata": {
        "id": "Kk7IN5OZqTjt",
        "colab_type": "code",
        "colab": {}
      },
      "source": [
        "main = ks.layers.BatchNormalization()(main)\n",
        "main = ks.layers.Dense(1024)(main)\n",
        "main = ks.layers.Activation('relu')(main)\n",
        "output = ks.layers.Dense(1,activation = 'linear')(main)"
      ],
      "execution_count": null,
      "outputs": []
    },
    {
      "cell_type": "code",
      "metadata": {
        "id": "XwYIGbf3q_hY",
        "colab_type": "code",
        "colab": {}
      },
      "source": [
        "model = ks.models.Model([main_category,brand_name,item_condition_shipping,item_desc,name,numerical_out,sub_category1,sub_category2], output)\n",
        "optimizer = ks.optimizers.Adam(0.002)\n",
        "model.compile(loss=\"mse\", optimizer=optimizer)"
      ],
      "execution_count": null,
      "outputs": []
    },
    {
      "cell_type": "code",
      "metadata": {
        "id": "jyT1s39gYpA3",
        "colab_type": "code",
        "colab": {}
      },
      "source": [
        "import tensorflow as tf\n",
        "checkpoint_filepath = '/tmp/checkpoint'\n",
        "model_checkpoint_callback = tf.keras.callbacks.ModelCheckpoint(\n",
        "    filepath=checkpoint_filepath,\n",
        "    save_weights_only=True,\n",
        "    monitor='val_loss',\n",
        "    mode='min',\n",
        "    save_best_only=True)"
      ],
      "execution_count": null,
      "outputs": []
    },
    {
      "cell_type": "code",
      "metadata": {
        "id": "v2ZZrOf0rmlC",
        "colab_type": "code",
        "colab": {
          "base_uri": "https://localhost:8080/",
          "height": 218
        },
        "outputId": "6889b801-3143-4e89-8ed9-0d178e8f9dd0"
      },
      "source": [
        "y_train = np.log(dtrain.price+1)\n",
        "y_valid = np.log(dvalid.price+1)\n",
        "model.fit(X_train,y_train,batch_size=128,validation_data = (X_valid,y_valid),verbose = 1,epochs=6,callbacks =[model_checkpoint_callback] )"
      ],
      "execution_count": null,
      "outputs": [
        {
          "output_type": "stream",
          "text": [
            "Epoch 1/6\n",
            "11467/11467 [==============================] - 2798s 244ms/step - loss: 0.1125 - val_loss: 0.2064\n",
            "Epoch 2/6\n",
            "11467/11467 [==============================] - 2738s 239ms/step - loss: 0.1047 - val_loss: 0.1949\n",
            "Epoch 3/6\n",
            "11467/11467 [==============================] - 2740s 239ms/step - loss: 0.0986 - val_loss: 0.2000\n",
            "Epoch 4/6\n",
            "11467/11467 [==============================] - 2757s 240ms/step - loss: 0.0933 - val_loss: 0.2064\n",
            "Epoch 5/6\n",
            "11467/11467 [==============================] - 2758s 240ms/step - loss: 0.0894 - val_loss: 0.2003\n",
            "Epoch 6/6\n",
            " 4056/11467 [=========>....................] - ETA: 29:34 - loss: 0.0815Buffered data was truncated after reaching the output size limit."
          ],
          "name": "stdout"
        }
      ]
    },
    {
      "cell_type": "code",
      "metadata": {
        "id": "hPeoipzv_Y7V",
        "colab_type": "code",
        "colab": {
          "base_uri": "https://localhost:8080/",
          "height": 33
        },
        "outputId": "8c12f040-bb66-48ac-db3e-9f415d6e0c5b"
      },
      "source": [
        "model.load_weights(checkpoint_filepath)"
      ],
      "execution_count": null,
      "outputs": [
        {
          "output_type": "execute_result",
          "data": {
            "text/plain": [
              "<tensorflow.python.training.tracking.util.CheckpointLoadStatus at 0x7f6afda73ba8>"
            ]
          },
          "metadata": {
            "tags": []
          },
          "execution_count": 77
        }
      ]
    },
    {
      "cell_type": "code",
      "metadata": {
        "id": "hR0N6bcZtgVQ",
        "colab_type": "code",
        "colab": {
          "base_uri": "https://localhost:8080/",
          "height": 33
        },
        "outputId": "a80223db-1638-44e3-b1e1-5141760ef7a4"
      },
      "source": [
        "scores = model.predict(X_valid)\n",
        "RMSLE = np.sqrt(mean_squared_error(y_valid, scores))\n",
        "print(RMSLE)"
      ],
      "execution_count": null,
      "outputs": [
        {
          "output_type": "stream",
          "text": [
            "0.4345801471786738\n"
          ],
          "name": "stdout"
        }
      ]
    },
    {
      "cell_type": "code",
      "metadata": {
        "id": "_5dFyqzJJ7CW",
        "colab_type": "code",
        "colab": {}
      },
      "source": [
        "scores = model.predict(X_test)"
      ],
      "execution_count": null,
      "outputs": []
    },
    {
      "cell_type": "code",
      "metadata": {
        "id": "GXOTriD2KFCS",
        "colab_type": "code",
        "colab": {}
      },
      "source": [
        "pred = np.exp(scores)"
      ],
      "execution_count": null,
      "outputs": []
    },
    {
      "cell_type": "code",
      "metadata": {
        "id": "0VbPL2pmKL-1",
        "colab_type": "code",
        "colab": {}
      },
      "source": [
        "index = []\n",
        "for i in range(3460725):\n",
        "  index.append(i)\n",
        "rows = zip(index,pred)"
      ],
      "execution_count": null,
      "outputs": []
    },
    {
      "cell_type": "code",
      "metadata": {
        "id": "CmvdKNliKQlB",
        "colab_type": "code",
        "colab": {}
      },
      "source": [
        "import csv\n",
        "with open('submission.csv', 'w') as myfile:\n",
        "    wr = csv.writer(myfile, quoting=csv.QUOTE_ALL)\n",
        "    for row in rows:\n",
        "      wr.writerow(row)"
      ],
      "execution_count": null,
      "outputs": []
    },
    {
      "cell_type": "code",
      "metadata": {
        "id": "69XacH-LKdM0",
        "colab_type": "code",
        "colab": {
          "base_uri": "https://localhost:8080/",
          "height": 16
        },
        "outputId": "96c044f8-3a9d-43ad-f202-7b6169847ae3"
      },
      "source": [
        "from google.colab import files\n",
        "files.download('submission.csv') "
      ],
      "execution_count": null,
      "outputs": [
        {
          "output_type": "display_data",
          "data": {
            "application/javascript": [
              "\n",
              "    async function download(id, filename, size) {\n",
              "      if (!google.colab.kernel.accessAllowed) {\n",
              "        return;\n",
              "      }\n",
              "      const div = document.createElement('div');\n",
              "      const label = document.createElement('label');\n",
              "      label.textContent = `Downloading \"${filename}\": `;\n",
              "      div.appendChild(label);\n",
              "      const progress = document.createElement('progress');\n",
              "      progress.max = size;\n",
              "      div.appendChild(progress);\n",
              "      document.body.appendChild(div);\n",
              "\n",
              "      const buffers = [];\n",
              "      let downloaded = 0;\n",
              "\n",
              "      const channel = await google.colab.kernel.comms.open(id);\n",
              "      // Send a message to notify the kernel that we're ready.\n",
              "      channel.send({})\n",
              "\n",
              "      for await (const message of channel.messages) {\n",
              "        // Send a message to notify the kernel that we're ready.\n",
              "        channel.send({})\n",
              "        if (message.buffers) {\n",
              "          for (const buffer of message.buffers) {\n",
              "            buffers.push(buffer);\n",
              "            downloaded += buffer.byteLength;\n",
              "            progress.value = downloaded;\n",
              "          }\n",
              "        }\n",
              "      }\n",
              "      const blob = new Blob(buffers, {type: 'application/binary'});\n",
              "      const a = document.createElement('a');\n",
              "      a.href = window.URL.createObjectURL(blob);\n",
              "      a.download = filename;\n",
              "      div.appendChild(a);\n",
              "      a.click();\n",
              "      div.remove();\n",
              "    }\n",
              "  "
            ],
            "text/plain": [
              "<IPython.core.display.Javascript object>"
            ]
          },
          "metadata": {
            "tags": []
          }
        },
        {
          "output_type": "display_data",
          "data": {
            "application/javascript": [
              "download(\"download_a2f13fe4-fa3a-4f34-8fc8-407f91b4edc5\", \"submission.csv\", 84408221)"
            ],
            "text/plain": [
              "<IPython.core.display.Javascript object>"
            ]
          },
          "metadata": {
            "tags": []
          }
        }
      ]
    },
    {
      "cell_type": "markdown",
      "metadata": {
        "id": "-6bLguaE9uDs",
        "colab_type": "text"
      },
      "source": [
        "**Kaggle Score**"
      ]
    },
    {
      "cell_type": "markdown",
      "metadata": {
        "id": "cDy-0H659xRD",
        "colab_type": "text"
      },
      "source": [
        "![Screenshot (41).png](data:image/png;base64,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)"
      ]
    },
    {
      "cell_type": "markdown",
      "metadata": {
        "id": "unYeyum6zrlp",
        "colab_type": "text"
      },
      "source": [
        "**LSTM**\n",
        "\n",
        "1.Encode itemdescription and brandname using tokenizer for embedding layer.\n",
        "\n",
        "2.Encode categorical features using labelencoder.\n",
        "\n",
        "3.Apply embedding on all the features.\n",
        "\n",
        "3.Apply LSTM on itemdescription and brand name embedding vectors.\n",
        "\n",
        "4.Concatenate all the features and apply flatten and dense layers to produce the output."
      ]
    },
    {
      "cell_type": "code",
      "metadata": {
        "id": "6zMbb2bMe-6V",
        "colab_type": "code",
        "colab": {}
      },
      "source": [
        "rnn_layer1 = ks.layers.LSTM(16, return_sequences = False) (emb_item_desc) #LSTM\n",
        "rnn_layer2 = ks.layers.LSTM(8, return_sequences = False) (emb_name)"
      ],
      "execution_count": null,
      "outputs": []
    },
    {
      "cell_type": "code",
      "metadata": {
        "id": "kOxEu7PcbS3v",
        "colab_type": "code",
        "colab": {}
      },
      "source": [
        "main = ks.layers.concatenate([ks.layers.Flatten() (emb_main_category)\n",
        "                            , ks.layers.Flatten() (emb_brand_name)\n",
        "                            , ks.layers.Flatten() (emb_item_condition_shipping)\n",
        "                            , rnn_layer1\n",
        "                            , rnn_layer2\n",
        "                            , numerical_dense_out\n",
        "                            , ks.layers.Flatten() (emb_sub_category1)\n",
        "                            , ks.layers.Flatten() (emb_sub_category2)\n",
        "                            ],axis = 1)\n",
        "main = ks.layers.Dropout(0.1) (ks.layers.Dense(128,activation=\"relu\",kernel_initializer=\"he_normal\",kernel_regularizer=ks.regularizers.l2(0.001)) (main))\n",
        "main = ks.layers.Dropout(0.1) (ks.layers.Dense(64,activation=\"relu\",kernel_initializer=\"he_normal\",kernel_regularizer=ks.regularizers.l2(0.001)) (main))"
      ],
      "execution_count": null,
      "outputs": []
    },
    {
      "cell_type": "code",
      "metadata": {
        "id": "MyAKg51XhJ5_",
        "colab_type": "code",
        "colab": {}
      },
      "source": [
        "output = ks.layers.Dense(1, activation=\"linear\") (main)"
      ],
      "execution_count": null,
      "outputs": []
    },
    {
      "cell_type": "code",
      "metadata": {
        "id": "IriWdSGHgqTc",
        "colab_type": "code",
        "colab": {}
      },
      "source": [
        "model = ks.models.Model([main_category,brand_name,item_condition_shipping,item_desc,name,numerical_out,sub_category1,sub_category2], output)\n",
        "model.compile(loss=\"mse\", optimizer=\"adam\", metrics=[\"mae\"])"
      ],
      "execution_count": null,
      "outputs": []
    },
    {
      "cell_type": "code",
      "metadata": {
        "id": "fhiU2PK5iM7v",
        "colab_type": "code",
        "colab": {
          "base_uri": "https://localhost:8080/",
          "height": 1000
        },
        "outputId": "778cc549-9cfa-46ca-e871-3f485a92da7d"
      },
      "source": [
        "model.summary()"
      ],
      "execution_count": null,
      "outputs": [
        {
          "output_type": "stream",
          "text": [
            "Model: \"functional_5\"\n",
            "__________________________________________________________________________________________________\n",
            "Layer (type)                    Output Shape         Param #     Connected to                     \n",
            "==================================================================================================\n",
            "main_category (InputLayer)      [(None, 1)]          0                                            \n",
            "__________________________________________________________________________________________________\n",
            "brand_name (InputLayer)         [(None, 1)]          0                                            \n",
            "__________________________________________________________________________________________________\n",
            "item_condition_shipping (InputL [(None, 1)]          0                                            \n",
            "__________________________________________________________________________________________________\n",
            "item_desc (InputLayer)          [(None, 75)]         0                                            \n",
            "__________________________________________________________________________________________________\n",
            "name (InputLayer)               [(None, 10)]         0                                            \n",
            "__________________________________________________________________________________________________\n",
            "sub_category1 (InputLayer)      [(None, 1)]          0                                            \n",
            "__________________________________________________________________________________________________\n",
            "sub_category2 (InputLayer)      [(None, 1)]          0                                            \n",
            "__________________________________________________________________________________________________\n",
            "embedding_10 (Embedding)        (None, 1, 10)        110         main_category[0][0]              \n",
            "__________________________________________________________________________________________________\n",
            "embedding_9 (Embedding)         (None, 1, 10)        63120       brand_name[0][0]                 \n",
            "__________________________________________________________________________________________________\n",
            "embedding_13 (Embedding)        (None, 1, 5)         30          item_condition_shipping[0][0]    \n",
            "__________________________________________________________________________________________________\n",
            "embedding_8 (Embedding)         (None, 75, 50)       12954400    item_desc[0][0]                  \n",
            "__________________________________________________________________________________________________\n",
            "embedding_7 (Embedding)         (None, 10, 50)       12954400    name[0][0]                       \n",
            "__________________________________________________________________________________________________\n",
            "numerical_features (InputLayer) [(None, 4)]          0                                            \n",
            "__________________________________________________________________________________________________\n",
            "embedding_11 (Embedding)        (None, 1, 10)        1140        sub_category1[0][0]              \n",
            "__________________________________________________________________________________________________\n",
            "embedding_12 (Embedding)        (None, 1, 10)        9050        sub_category2[0][0]              \n",
            "__________________________________________________________________________________________________\n",
            "flatten_10 (Flatten)            (None, 10)           0           embedding_10[0][0]               \n",
            "__________________________________________________________________________________________________\n",
            "flatten_11 (Flatten)            (None, 10)           0           embedding_9[0][0]                \n",
            "__________________________________________________________________________________________________\n",
            "flatten_12 (Flatten)            (None, 5)            0           embedding_13[0][0]               \n",
            "__________________________________________________________________________________________________\n",
            "lstm_4 (LSTM)                   (None, 16)           4288        embedding_8[0][0]                \n",
            "__________________________________________________________________________________________________\n",
            "lstm_5 (LSTM)                   (None, 8)            1888        embedding_7[0][0]                \n",
            "__________________________________________________________________________________________________\n",
            "dense_7 (Dense)                 (None, 100)          500         numerical_features[0][0]         \n",
            "__________________________________________________________________________________________________\n",
            "flatten_13 (Flatten)            (None, 10)           0           embedding_11[0][0]               \n",
            "__________________________________________________________________________________________________\n",
            "flatten_14 (Flatten)            (None, 10)           0           embedding_12[0][0]               \n",
            "__________________________________________________________________________________________________\n",
            "concatenate_2 (Concatenate)     (None, 169)          0           flatten_10[0][0]                 \n",
            "                                                                 flatten_11[0][0]                 \n",
            "                                                                 flatten_12[0][0]                 \n",
            "                                                                 lstm_4[0][0]                     \n",
            "                                                                 lstm_5[0][0]                     \n",
            "                                                                 dense_7[0][0]                    \n",
            "                                                                 flatten_13[0][0]                 \n",
            "                                                                 flatten_14[0][0]                 \n",
            "__________________________________________________________________________________________________\n",
            "dense_8 (Dense)                 (None, 128)          21760       concatenate_2[0][0]              \n",
            "__________________________________________________________________________________________________\n",
            "dropout_4 (Dropout)             (None, 128)          0           dense_8[0][0]                    \n",
            "__________________________________________________________________________________________________\n",
            "dense_9 (Dense)                 (None, 64)           8256        dropout_4[0][0]                  \n",
            "__________________________________________________________________________________________________\n",
            "dropout_5 (Dropout)             (None, 64)           0           dense_9[0][0]                    \n",
            "__________________________________________________________________________________________________\n",
            "dense_10 (Dense)                (None, 1)            65          dropout_5[0][0]                  \n",
            "==================================================================================================\n",
            "Total params: 26,019,007\n",
            "Trainable params: 26,019,007\n",
            "Non-trainable params: 0\n",
            "__________________________________________________________________________________________________\n"
          ],
          "name": "stdout"
        }
      ]
    },
    {
      "cell_type": "code",
      "metadata": {
        "id": "Uv4BDnLCsi1E",
        "colab_type": "code",
        "colab": {}
      },
      "source": [
        "y_train = np.log(dtrain.price+1)\n",
        "y_valid = np.log(dvalid.price+1)"
      ],
      "execution_count": null,
      "outputs": []
    },
    {
      "cell_type": "code",
      "metadata": {
        "id": "6ufBmfWpRPRC",
        "colab_type": "code",
        "colab": {}
      },
      "source": [
        "checkpoint_filepath = '/tmp/checkpoint'\n",
        "model_checkpoint_callback = tf.keras.callbacks.ModelCheckpoint(\n",
        "    filepath=checkpoint_filepath,\n",
        "    save_weights_only=True,\n",
        "    monitor='val_loss',\n",
        "    mode='min',\n",
        "    save_best_only=True)\n"
      ],
      "execution_count": null,
      "outputs": []
    },
    {
      "cell_type": "code",
      "metadata": {
        "id": "E4jE9uWjihDu",
        "colab_type": "code",
        "colab": {
          "base_uri": "https://localhost:8080/",
          "height": 374
        },
        "outputId": "601a532d-2248-4b78-f02c-65433d143a8e"
      },
      "source": [
        "model.fit(X_train,y_train,batch_size=20000,validation_data = (X_valid,y_valid),verbose = 1,epochs=10,callbacks=[model_checkpoint_callback])"
      ],
      "execution_count": null,
      "outputs": [
        {
          "output_type": "stream",
          "text": [
            "Epoch 1/10\n",
            "74/74 [==============================] - 276s 4s/step - loss: 0.2083 - mae: 0.3019 - val_loss: 0.2722 - val_mae: 0.3572\n",
            "Epoch 2/10\n",
            "74/74 [==============================] - 276s 4s/step - loss: 0.2029 - mae: 0.3001 - val_loss: 0.2684 - val_mae: 0.3568\n",
            "Epoch 3/10\n",
            "74/74 [==============================] - 274s 4s/step - loss: 0.1980 - mae: 0.2987 - val_loss: 0.2672 - val_mae: 0.3584\n",
            "Epoch 4/10\n",
            "74/74 [==============================] - 275s 4s/step - loss: 0.1939 - mae: 0.2978 - val_loss: 0.2636 - val_mae: 0.3574\n",
            "Epoch 5/10\n",
            "74/74 [==============================] - 271s 4s/step - loss: 0.1899 - mae: 0.2969 - val_loss: 0.2627 - val_mae: 0.3593\n",
            "Epoch 6/10\n",
            "74/74 [==============================] - 271s 4s/step - loss: 0.1856 - mae: 0.2949 - val_loss: 0.2586 - val_mae: 0.3576\n",
            "Epoch 7/10\n",
            "74/74 [==============================] - 273s 4s/step - loss: 0.1818 - mae: 0.2936 - val_loss: 0.2570 - val_mae: 0.3590\n",
            "Epoch 8/10\n",
            "74/74 [==============================] - 271s 4s/step - loss: 0.1784 - mae: 0.2925 - val_loss: 0.2560 - val_mae: 0.3587\n",
            "Epoch 9/10\n",
            "74/74 [==============================] - 271s 4s/step - loss: 0.1750 - mae: 0.2910 - val_loss: 0.2536 - val_mae: 0.3579\n",
            "Epoch 10/10\n",
            "74/74 [==============================] - 268s 4s/step - loss: 0.1722 - mae: 0.2900 - val_loss: 0.2516 - val_mae: 0.3582\n"
          ],
          "name": "stdout"
        },
        {
          "output_type": "execute_result",
          "data": {
            "text/plain": [
              "<tensorflow.python.keras.callbacks.History at 0x7ff182fbec18>"
            ]
          },
          "metadata": {
            "tags": []
          },
          "execution_count": 103
        }
      ]
    },
    {
      "cell_type": "code",
      "metadata": {
        "id": "iJ4HNgwiRjft",
        "colab_type": "code",
        "colab": {}
      },
      "source": [
        "model.load_weights(checkpoint_filepath)"
      ],
      "execution_count": null,
      "outputs": []
    },
    {
      "cell_type": "code",
      "metadata": {
        "id": "SI3rkf5z2hPI",
        "colab_type": "code",
        "colab": {}
      },
      "source": [
        "scores = model.predict(X_valid)\n",
        "RMSLE = np.sqrt(mean_squared_error(y_valid, scores))"
      ],
      "execution_count": null,
      "outputs": []
    },
    {
      "cell_type": "code",
      "metadata": {
        "id": "CY9xpFXC54qM",
        "colab_type": "code",
        "colab": {
          "base_uri": "https://localhost:8080/",
          "height": 34
        },
        "outputId": "bcce9147-74f7-46e0-c461-21da02a55ffa"
      },
      "source": [
        "RMSLE"
      ],
      "execution_count": null,
      "outputs": [
        {
          "output_type": "execute_result",
          "data": {
            "text/plain": [
              "0.4811954851703695"
            ]
          },
          "metadata": {
            "tags": []
          },
          "execution_count": 105
        }
      ]
    },
    {
      "cell_type": "code",
      "metadata": {
        "id": "2KxyadVwK55M",
        "colab_type": "code",
        "colab": {
          "base_uri": "https://localhost:8080/",
          "height": 17
        },
        "outputId": "e5cace8e-5c76-410c-d15c-ad83de1c10fb"
      },
      "source": [
        "scores = model.predict(X_test)\n",
        "pred = ['price']\n",
        "for i in scores:\n",
        "  pred.append(np.exp(i))\n",
        "index = ['test_id']\n",
        "for i in range(3460725):\n",
        "  index.append(i)\n",
        "rows = zip(index,pred)\n",
        "import csv\n",
        "with open('submission.csv', 'w') as myfile:\n",
        "    wr = csv.writer(myfile, quoting=csv.QUOTE_ALL)\n",
        "    for row in rows:\n",
        "      wr.writerow(row)\n",
        "from google.colab import files\n",
        "files.download('submission.csv') "
      ],
      "execution_count": null,
      "outputs": [
        {
          "output_type": "display_data",
          "data": {
            "application/javascript": [
              "\n",
              "    async function download(id, filename, size) {\n",
              "      if (!google.colab.kernel.accessAllowed) {\n",
              "        return;\n",
              "      }\n",
              "      const div = document.createElement('div');\n",
              "      const label = document.createElement('label');\n",
              "      label.textContent = `Downloading \"${filename}\": `;\n",
              "      div.appendChild(label);\n",
              "      const progress = document.createElement('progress');\n",
              "      progress.max = size;\n",
              "      div.appendChild(progress);\n",
              "      document.body.appendChild(div);\n",
              "\n",
              "      const buffers = [];\n",
              "      let downloaded = 0;\n",
              "\n",
              "      const channel = await google.colab.kernel.comms.open(id);\n",
              "      // Send a message to notify the kernel that we're ready.\n",
              "      channel.send({})\n",
              "\n",
              "      for await (const message of channel.messages) {\n",
              "        // Send a message to notify the kernel that we're ready.\n",
              "        channel.send({})\n",
              "        if (message.buffers) {\n",
              "          for (const buffer of message.buffers) {\n",
              "            buffers.push(buffer);\n",
              "            downloaded += buffer.byteLength;\n",
              "            progress.value = downloaded;\n",
              "          }\n",
              "        }\n",
              "      }\n",
              "      const blob = new Blob(buffers, {type: 'application/binary'});\n",
              "      const a = document.createElement('a');\n",
              "      a.href = window.URL.createObjectURL(blob);\n",
              "      a.download = filename;\n",
              "      div.appendChild(a);\n",
              "      a.click();\n",
              "      div.remove();\n",
              "    }\n",
              "  "
            ],
            "text/plain": [
              "<IPython.core.display.Javascript object>"
            ]
          },
          "metadata": {
            "tags": []
          }
        },
        {
          "output_type": "display_data",
          "data": {
            "application/javascript": [
              "download(\"download_ae6d0588-b97b-48c4-91c5-a285078263c4\", \"submission.csv\", 84406511)"
            ],
            "text/plain": [
              "<IPython.core.display.Javascript object>"
            ]
          },
          "metadata": {
            "tags": []
          }
        }
      ]
    },
    {
      "cell_type": "markdown",
      "metadata": {
        "id": "SN05N3fHbQW9",
        "colab_type": "text"
      },
      "source": [
        "**Kaggle Score**"
      ]
    },
    {
      "cell_type": "markdown",
      "metadata": {
        "id": "sK6Jg5O_bS3L",
        "colab_type": "text"
      },
      "source": [
        "![Screenshot (174).png](data:image/png;base64,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)"
      ]
    },
    {
      "cell_type": "markdown",
      "metadata": {
        "id": "THwQPbmIziqn",
        "colab_type": "text"
      },
      "source": [
        "**CNN**"
      ]
    },
    {
      "cell_type": "code",
      "metadata": {
        "id": "93bGW_uM2NWp",
        "colab_type": "code",
        "colab": {}
      },
      "source": [
        "id_cov1= ks.layers.Conv1D(128, 5, activation='relu')(emb_item_desc)\n",
        "id_pool1 = ks.layers.MaxPooling1D(5)(id_cov1)\n",
        "id_cov2 = ks.layers.Conv1D(128, 5, activation='relu')(id_pool1)\n",
        "id_pool2 = ks.layers.MaxPooling1D(5)(id_cov2)\n",
        "id_flat = ks.layers.Flatten()(id_pool2)\n",
        "id_dense1 = ks.layers.Dense(128, activation='relu')(id_flat)\n",
        "\n",
        "n_cov1= ks.layers.Conv1D(128, 5, activation='relu')(emb_name)\n",
        "n_pool1 = ks.layers.MaxPooling1D(5)(n_cov1)\n",
        "n_flat = ks.layers.Flatten()(n_pool1)\n",
        "n_dense2 = ks.layers.Dense(128, activation='relu')(n_flat)"
      ],
      "execution_count": null,
      "outputs": []
    },
    {
      "cell_type": "code",
      "metadata": {
        "id": "4rNBmjcF29_4",
        "colab_type": "code",
        "colab": {}
      },
      "source": [
        "main = ks.layers.concatenate([ks.layers.Flatten() (emb_main_category)\n",
        "                            , ks.layers.Flatten() (emb_brand_name)\n",
        "                            , ks.layers.Flatten() (emb_item_condition_shipping)\n",
        "                            , id_dense1\n",
        "                            , n_dense2\n",
        "                            , numerical_dense_out\n",
        "                            , ks.layers.Flatten() (emb_sub_category1)\n",
        "                            , ks.layers.Flatten() (emb_sub_category2)\n",
        "                            ],axis = 1)\n",
        "main = ks.layers.Dropout(0.1) (ks.layers.Dense(128) (main))\n",
        "main = ks.layers.Dropout(0.1) (ks.layers.Dense(64) (main))"
      ],
      "execution_count": null,
      "outputs": []
    },
    {
      "cell_type": "code",
      "metadata": {
        "id": "WarUbeyU3Dl_",
        "colab_type": "code",
        "colab": {}
      },
      "source": [
        "output = ks.layers.Dense(1, activation=\"linear\") (main)"
      ],
      "execution_count": null,
      "outputs": []
    },
    {
      "cell_type": "code",
      "metadata": {
        "id": "A4FEgqtC3J8F",
        "colab_type": "code",
        "colab": {}
      },
      "source": [
        "model = ks.models.Model([main_category,brand_name,item_condition_shipping,item_desc,name,numerical_out,sub_category1,sub_category2], output)\n",
        "model.compile(loss=\"mse\", optimizer=\"adam\", metrics=[\"mae\"])"
      ],
      "execution_count": null,
      "outputs": []
    },
    {
      "cell_type": "code",
      "metadata": {
        "id": "ceUzCirQ3LiO",
        "colab_type": "code",
        "colab": {
          "base_uri": "https://localhost:8080/",
          "height": 1000
        },
        "outputId": "7d3cc9ee-a99c-4548-8933-0ba868034d89"
      },
      "source": [
        "model.summary()"
      ],
      "execution_count": null,
      "outputs": [
        {
          "output_type": "stream",
          "text": [
            "Model: \"functional_3\"\n",
            "__________________________________________________________________________________________________\n",
            "Layer (type)                    Output Shape         Param #     Connected to                     \n",
            "==================================================================================================\n",
            "item_desc (InputLayer)          [(None, 75)]         0                                            \n",
            "__________________________________________________________________________________________________\n",
            "embedding_1 (Embedding)         (None, 75, 50)       12954400    item_desc[0][0]                  \n",
            "__________________________________________________________________________________________________\n",
            "conv1d_3 (Conv1D)               (None, 71, 128)      32128       embedding_1[0][0]                \n",
            "__________________________________________________________________________________________________\n",
            "name (InputLayer)               [(None, 10)]         0                                            \n",
            "__________________________________________________________________________________________________\n",
            "max_pooling1d_3 (MaxPooling1D)  (None, 14, 128)      0           conv1d_3[0][0]                   \n",
            "__________________________________________________________________________________________________\n",
            "embedding (Embedding)           (None, 10, 50)       12954400    name[0][0]                       \n",
            "__________________________________________________________________________________________________\n",
            "conv1d_4 (Conv1D)               (None, 10, 128)      82048       max_pooling1d_3[0][0]            \n",
            "__________________________________________________________________________________________________\n",
            "conv1d_5 (Conv1D)               (None, 6, 128)       32128       embedding[0][0]                  \n",
            "__________________________________________________________________________________________________\n",
            "main_category (InputLayer)      [(None, 1)]          0                                            \n",
            "__________________________________________________________________________________________________\n",
            "brand_name (InputLayer)         [(None, 1)]          0                                            \n",
            "__________________________________________________________________________________________________\n",
            "item_condition_shipping (InputL [(None, 1)]          0                                            \n",
            "__________________________________________________________________________________________________\n",
            "max_pooling1d_4 (MaxPooling1D)  (None, 2, 128)       0           conv1d_4[0][0]                   \n",
            "__________________________________________________________________________________________________\n",
            "max_pooling1d_5 (MaxPooling1D)  (None, 1, 128)       0           conv1d_5[0][0]                   \n",
            "__________________________________________________________________________________________________\n",
            "sub_category1 (InputLayer)      [(None, 1)]          0                                            \n",
            "__________________________________________________________________________________________________\n",
            "sub_category2 (InputLayer)      [(None, 1)]          0                                            \n",
            "__________________________________________________________________________________________________\n",
            "embedding_3 (Embedding)         (None, 1, 10)        110         main_category[0][0]              \n",
            "__________________________________________________________________________________________________\n",
            "embedding_2 (Embedding)         (None, 1, 10)        63120       brand_name[0][0]                 \n",
            "__________________________________________________________________________________________________\n",
            "embedding_6 (Embedding)         (None, 1, 5)         30          item_condition_shipping[0][0]    \n",
            "__________________________________________________________________________________________________\n",
            "flatten_7 (Flatten)             (None, 256)          0           max_pooling1d_4[0][0]            \n",
            "__________________________________________________________________________________________________\n",
            "flatten_8 (Flatten)             (None, 128)          0           max_pooling1d_5[0][0]            \n",
            "__________________________________________________________________________________________________\n",
            "numerical_features (InputLayer) [(None, 4)]          0                                            \n",
            "__________________________________________________________________________________________________\n",
            "embedding_4 (Embedding)         (None, 1, 10)        1140        sub_category1[0][0]              \n",
            "__________________________________________________________________________________________________\n",
            "embedding_5 (Embedding)         (None, 1, 10)        9050        sub_category2[0][0]              \n",
            "__________________________________________________________________________________________________\n",
            "flatten_9 (Flatten)             (None, 10)           0           embedding_3[0][0]                \n",
            "__________________________________________________________________________________________________\n",
            "flatten_10 (Flatten)            (None, 10)           0           embedding_2[0][0]                \n",
            "__________________________________________________________________________________________________\n",
            "flatten_11 (Flatten)            (None, 5)            0           embedding_6[0][0]                \n",
            "__________________________________________________________________________________________________\n",
            "dense_6 (Dense)                 (None, 128)          32896       flatten_7[0][0]                  \n",
            "__________________________________________________________________________________________________\n",
            "dense_7 (Dense)                 (None, 128)          16512       flatten_8[0][0]                  \n",
            "__________________________________________________________________________________________________\n",
            "dense (Dense)                   (None, 100)          500         numerical_features[0][0]         \n",
            "__________________________________________________________________________________________________\n",
            "flatten_12 (Flatten)            (None, 10)           0           embedding_4[0][0]                \n",
            "__________________________________________________________________________________________________\n",
            "flatten_13 (Flatten)            (None, 10)           0           embedding_5[0][0]                \n",
            "__________________________________________________________________________________________________\n",
            "concatenate_1 (Concatenate)     (None, 401)          0           flatten_9[0][0]                  \n",
            "                                                                 flatten_10[0][0]                 \n",
            "                                                                 flatten_11[0][0]                 \n",
            "                                                                 dense_6[0][0]                    \n",
            "                                                                 dense_7[0][0]                    \n",
            "                                                                 dense[0][0]                      \n",
            "                                                                 flatten_12[0][0]                 \n",
            "                                                                 flatten_13[0][0]                 \n",
            "__________________________________________________________________________________________________\n",
            "dense_8 (Dense)                 (None, 128)          51456       concatenate_1[0][0]              \n",
            "__________________________________________________________________________________________________\n",
            "dropout_2 (Dropout)             (None, 128)          0           dense_8[0][0]                    \n",
            "__________________________________________________________________________________________________\n",
            "dense_9 (Dense)                 (None, 64)           8256        dropout_2[0][0]                  \n",
            "__________________________________________________________________________________________________\n",
            "dropout_3 (Dropout)             (None, 64)           0           dense_9[0][0]                    \n",
            "__________________________________________________________________________________________________\n",
            "dense_10 (Dense)                (None, 1)            65          dropout_3[0][0]                  \n",
            "==================================================================================================\n",
            "Total params: 26,238,239\n",
            "Trainable params: 26,238,239\n",
            "Non-trainable params: 0\n",
            "__________________________________________________________________________________________________\n"
          ],
          "name": "stdout"
        }
      ]
    },
    {
      "cell_type": "code",
      "metadata": {
        "id": "AarECnwBc3ON",
        "colab_type": "code",
        "colab": {}
      },
      "source": [
        "checkpoint_filepath = '/tmp/checkpoint'\n",
        "model_checkpoint_callback = tf.keras.callbacks.ModelCheckpoint(\n",
        "    filepath=checkpoint_filepath,\n",
        "    save_weights_only=True,\n",
        "    monitor='val_loss',\n",
        "    mode='min',\n",
        "    save_best_only=True)"
      ],
      "execution_count": null,
      "outputs": []
    },
    {
      "cell_type": "code",
      "metadata": {
        "id": "quZxe4f-3XPo",
        "colab_type": "code",
        "colab": {
          "base_uri": "https://localhost:8080/",
          "height": 34
        },
        "outputId": "7099e4f9-e97c-4186-9bab-758423993969"
      },
      "source": [
        "y_train = np.log(dtrain.price+1)\n",
        "y_valid = np.log(dvalid.price+1)\n",
        "model.fit(X_train,y_train,batch_size=20000,validation_data = (X_valid,y_valid),verbose = 1,epochs=10,callbacks = [model_checkpoint_callback])"
      ],
      "execution_count": null,
      "outputs": [
        {
          "output_type": "stream",
          "text": [
            "Epoch 1/10\n"
          ],
          "name": "stdout"
        }
      ]
    },
    {
      "cell_type": "code",
      "metadata": {
        "id": "j10SPpbs57NM",
        "colab_type": "code",
        "colab": {
          "base_uri": "https://localhost:8080/",
          "height": 34
        },
        "outputId": "c6751689-840a-48f3-af96-545669e1f2af"
      },
      "source": [
        "scores = model.predict(X_valid)\n",
        "RMSLE = np.sqrt(mean_squared_error(y_valid, scores))\n",
        "RMSLE"
      ],
      "execution_count": null,
      "outputs": [
        {
          "output_type": "execute_result",
          "data": {
            "text/plain": [
              "0.49589283164625036"
            ]
          },
          "metadata": {
            "tags": []
          },
          "execution_count": 46
        }
      ]
    },
    {
      "cell_type": "code",
      "metadata": {
        "id": "c322Kj4gPrkY",
        "colab_type": "code",
        "colab": {}
      },
      "source": [
        "scores = model.predict(X_test)"
      ],
      "execution_count": null,
      "outputs": []
    },
    {
      "cell_type": "code",
      "metadata": {
        "id": "7iTZxOHA8eEp",
        "colab_type": "code",
        "colab": {}
      },
      "source": [
        "pred = np.exp(scores)"
      ],
      "execution_count": null,
      "outputs": []
    },
    {
      "cell_type": "code",
      "metadata": {
        "id": "tq0X-7Cy5Kx5",
        "colab_type": "code",
        "colab": {}
      },
      "source": [
        "index = []\n",
        "for i in range(3460725):\n",
        "  index.append(i)\n",
        "rows = zip(index,pred)"
      ],
      "execution_count": null,
      "outputs": []
    },
    {
      "cell_type": "code",
      "metadata": {
        "id": "dsJQDdQWeE0R",
        "colab_type": "code",
        "colab": {}
      },
      "source": [
        "import csv\n",
        "with open('CNN.csv', 'w') as myfile:\n",
        "    wr = csv.writer(myfile, quoting=csv.QUOTE_ALL)\n",
        "    for row in rows:\n",
        "      wr.writerow(row)"
      ],
      "execution_count": null,
      "outputs": []
    },
    {
      "cell_type": "code",
      "metadata": {
        "id": "dZOW6k6peGdF",
        "colab_type": "code",
        "colab": {
          "base_uri": "https://localhost:8080/",
          "height": 17
        },
        "outputId": "f3b0c30c-9c40-4b75-9e9a-d442d7633974"
      },
      "source": [
        "from google.colab import files\n",
        "files.download('CNN.csv') "
      ],
      "execution_count": null,
      "outputs": [
        {
          "output_type": "display_data",
          "data": {
            "application/javascript": [
              "\n",
              "    async function download(id, filename, size) {\n",
              "      if (!google.colab.kernel.accessAllowed) {\n",
              "        return;\n",
              "      }\n",
              "      const div = document.createElement('div');\n",
              "      const label = document.createElement('label');\n",
              "      label.textContent = `Downloading \"${filename}\": `;\n",
              "      div.appendChild(label);\n",
              "      const progress = document.createElement('progress');\n",
              "      progress.max = size;\n",
              "      div.appendChild(progress);\n",
              "      document.body.appendChild(div);\n",
              "\n",
              "      const buffers = [];\n",
              "      let downloaded = 0;\n",
              "\n",
              "      const channel = await google.colab.kernel.comms.open(id);\n",
              "      // Send a message to notify the kernel that we're ready.\n",
              "      channel.send({})\n",
              "\n",
              "      for await (const message of channel.messages) {\n",
              "        // Send a message to notify the kernel that we're ready.\n",
              "        channel.send({})\n",
              "        if (message.buffers) {\n",
              "          for (const buffer of message.buffers) {\n",
              "            buffers.push(buffer);\n",
              "            downloaded += buffer.byteLength;\n",
              "            progress.value = downloaded;\n",
              "          }\n",
              "        }\n",
              "      }\n",
              "      const blob = new Blob(buffers, {type: 'application/binary'});\n",
              "      const a = document.createElement('a');\n",
              "      a.href = window.URL.createObjectURL(blob);\n",
              "      a.download = filename;\n",
              "      div.appendChild(a);\n",
              "      a.click();\n",
              "      div.remove();\n",
              "    }\n",
              "  "
            ],
            "text/plain": [
              "<IPython.core.display.Javascript object>"
            ]
          },
          "metadata": {
            "tags": []
          }
        },
        {
          "output_type": "display_data",
          "data": {
            "application/javascript": [
              "download(\"download_e8b3ec8b-5180-4e1a-937e-29090e4a9b0e\", \"CNN.csv\", 84448073)"
            ],
            "text/plain": [
              "<IPython.core.display.Javascript object>"
            ]
          },
          "metadata": {
            "tags": []
          }
        }
      ]
    },
    {
      "cell_type": "markdown",
      "metadata": {
        "id": "MS6o5cXq6kdr",
        "colab_type": "text"
      },
      "source": [
        "**Kaggle Score**"
      ]
    },
    {
      "cell_type": "markdown",
      "metadata": {
        "id": "SPgJ7RN46m-E",
        "colab_type": "text"
      },
      "source": [
        "![Screenshot (177).png](data:image/png;base64,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)"
      ]
    },
    {
      "cell_type": "markdown",
      "metadata": {
        "id": "LU9OtnZTPuo0",
        "colab_type": "text"
      },
      "source": [
        "**LSTM + CNN**"
      ]
    },
    {
      "cell_type": "code",
      "metadata": {
        "id": "x6aXfxW7B0Rt",
        "colab_type": "code",
        "colab": {}
      },
      "source": [
        "id_cov1= ks.layers.Conv1D(128, 5, activation='relu')(emb_item_desc)\n",
        "id_pool1 = ks.layers.MaxPooling1D(5)(id_cov1)\n",
        "id_cov2 = ks.layers.Conv1D(128, 5, activation='relu')(id_pool1)\n",
        "id_pool2 = ks.layers.MaxPooling1D(5)(id_cov2)\n",
        "rnn_layer1 = ks.layers.LSTM(16, return_sequences = False) (id_pool2)\n",
        "id_flat = ks.layers.Flatten()(rnn_layer1)\n",
        "id_dense1 = ks.layers.Dense(128, activation='relu')(id_flat)\n",
        "\n",
        "n_cov1= ks.layers.Conv1D(128, 5, activation='relu')(emb_name)\n",
        "n_pool1 = ks.layers.MaxPooling1D(5)(n_cov1)\n",
        "rnn_layer2 = ks.layers.LSTM(8, return_sequences = False) (n_pool1)\n",
        "n_flat = ks.layers.Flatten()(rnn_layer2)\n",
        "n_dense2 = ks.layers.Dense(128, activation='relu')(n_flat)"
      ],
      "execution_count": null,
      "outputs": []
    },
    {
      "cell_type": "code",
      "metadata": {
        "id": "pHoAtR62Cl7l",
        "colab_type": "code",
        "colab": {}
      },
      "source": [
        "main = ks.layers.concatenate([ks.layers.Flatten() (emb_main_category)\n",
        "                            , ks.layers.Flatten() (emb_brand_name)\n",
        "                            , ks.layers.Flatten() (emb_item_condition_shipping)\n",
        "                            , id_dense1\n",
        "                            , n_dense2\n",
        "                            , numerical_dense_out\n",
        "                            , ks.layers.Flatten() (emb_sub_category1)\n",
        "                            , ks.layers.Flatten() (emb_sub_category2)\n",
        "                            ],axis = 1)\n",
        "main = ks.layers.Dropout(0.1) (ks.layers.Dense(128) (main))\n",
        "main = ks.layers.Dropout(0.1) (ks.layers.Dense(64) (main))"
      ],
      "execution_count": null,
      "outputs": []
    },
    {
      "cell_type": "code",
      "metadata": {
        "id": "YpOegkBbCqWu",
        "colab_type": "code",
        "colab": {}
      },
      "source": [
        "output = ks.layers.Dense(1, activation=\"linear\") (main)\n",
        "model = ks.models.Model([main_category,brand_name,item_condition_shipping,item_desc,name,numerical_out,sub_category1,sub_category2], output)\n",
        "model.compile(loss=\"mse\", optimizer=\"adam\", metrics=[\"mae\"])"
      ],
      "execution_count": null,
      "outputs": []
    },
    {
      "cell_type": "code",
      "metadata": {
        "id": "M9PtcLyLc_NG",
        "colab_type": "code",
        "colab": {}
      },
      "source": [
        "checkpoint_filepath = '/tmp/checkpoint'\n",
        "model_checkpoint_callback = tf.keras.callbacks.ModelCheckpoint(\n",
        "    filepath=checkpoint_filepath,\n",
        "    save_weights_only=True,\n",
        "    monitor='val_loss',\n",
        "    mode='min',\n",
        "    save_best_only=True)"
      ],
      "execution_count": null,
      "outputs": []
    },
    {
      "cell_type": "code",
      "metadata": {
        "id": "GR6aEX_3B4I-",
        "colab_type": "code",
        "colab": {
          "base_uri": "https://localhost:8080/",
          "height": 374
        },
        "outputId": "a01e0011-6fc5-4c1a-dc89-b94f355bec3d"
      },
      "source": [
        "y_train = np.log(dtrain.price+1)\n",
        "y_valid = np.log(dvalid.price+1)\n",
        "model.fit(X_train,y_train,batch_size=20000,validation_data = (X_valid,y_valid),verbose = 1,epochs=10,callbacks = [model_checkpoint_callback])"
      ],
      "execution_count": null,
      "outputs": [
        {
          "output_type": "stream",
          "text": [
            "Epoch 1/10\n",
            "74/74 [==============================] - 50s 671ms/step - loss: 1.9062 - mae: 0.8524 - val_loss: 0.5253 - val_mae: 0.4242\n",
            "Epoch 2/10\n",
            "74/74 [==============================] - 49s 656ms/step - loss: 0.6085 - mae: 0.4689 - val_loss: 0.4767 - val_mae: 0.3906\n",
            "Epoch 3/10\n",
            "74/74 [==============================] - 48s 653ms/step - loss: 0.5391 - mae: 0.4315 - val_loss: 0.4630 - val_mae: 0.3839\n",
            "Epoch 4/10\n",
            "74/74 [==============================] - 49s 659ms/step - loss: 0.5019 - mae: 0.4101 - val_loss: 0.4508 - val_mae: 0.3753\n",
            "Epoch 5/10\n",
            "74/74 [==============================] - 49s 664ms/step - loss: 0.4736 - mae: 0.3933 - val_loss: 0.4457 - val_mae: 0.3734\n",
            "Epoch 6/10\n",
            "74/74 [==============================] - 48s 653ms/step - loss: 0.4498 - mae: 0.3789 - val_loss: 0.4368 - val_mae: 0.3711\n",
            "Epoch 7/10\n",
            "74/74 [==============================] - 49s 661ms/step - loss: 0.4293 - mae: 0.3662 - val_loss: 0.4300 - val_mae: 0.3665\n",
            "Epoch 8/10\n",
            "74/74 [==============================] - 49s 656ms/step - loss: 0.4119 - mae: 0.3561 - val_loss: 0.4245 - val_mae: 0.3672\n",
            "Epoch 9/10\n",
            "74/74 [==============================] - 49s 661ms/step - loss: 0.3934 - mae: 0.3449 - val_loss: 0.4237 - val_mae: 0.3708\n",
            "Epoch 10/10\n",
            "74/74 [==============================] - 48s 655ms/step - loss: 0.3791 - mae: 0.3370 - val_loss: 0.4171 - val_mae: 0.3685\n"
          ],
          "name": "stdout"
        },
        {
          "output_type": "execute_result",
          "data": {
            "text/plain": [
              "<tensorflow.python.keras.callbacks.History at 0x7fbf42496748>"
            ]
          },
          "metadata": {
            "tags": []
          },
          "execution_count": 57
        }
      ]
    },
    {
      "cell_type": "code",
      "metadata": {
        "id": "qqHd3ZSsEw1u",
        "colab_type": "code",
        "colab": {
          "base_uri": "https://localhost:8080/",
          "height": 34
        },
        "outputId": "96572832-8b06-4d56-9fce-3c7362a7dbef"
      },
      "source": [
        "scores = model.predict(X_valid)\n",
        "RMSLE = np.sqrt(mean_squared_error(y_valid, scores))\n",
        "RMSLE"
      ],
      "execution_count": null,
      "outputs": [
        {
          "output_type": "execute_result",
          "data": {
            "text/plain": [
              "0.49020379021515825"
            ]
          },
          "metadata": {
            "tags": []
          },
          "execution_count": 58
        }
      ]
    },
    {
      "cell_type": "code",
      "metadata": {
        "id": "sVUYBcVlY2Yi",
        "colab_type": "code",
        "colab": {}
      },
      "source": [
        "scores = model.predict(X_test)"
      ],
      "execution_count": null,
      "outputs": []
    },
    {
      "cell_type": "code",
      "metadata": {
        "id": "ecQaHIQIVATs",
        "colab_type": "code",
        "colab": {}
      },
      "source": [
        "pred = np.exp(scores)"
      ],
      "execution_count": null,
      "outputs": []
    },
    {
      "cell_type": "code",
      "metadata": {
        "id": "LJZi8quwVHZx",
        "colab_type": "code",
        "colab": {}
      },
      "source": [
        "index = []\n",
        "for i in range(3460725):\n",
        "  index.append(i)\n",
        "rows = zip(index,pred)"
      ],
      "execution_count": null,
      "outputs": []
    },
    {
      "cell_type": "code",
      "metadata": {
        "id": "mO0TwusgU9K9",
        "colab_type": "code",
        "colab": {}
      },
      "source": [
        "import csv\n",
        "with open('LS_CNN.csv', 'w') as myfile:\n",
        "    wr = csv.writer(myfile, quoting=csv.QUOTE_ALL)\n",
        "    for row in rows:\n",
        "      wr.writerow(row)"
      ],
      "execution_count": null,
      "outputs": []
    },
    {
      "cell_type": "code",
      "metadata": {
        "id": "E1h7ACAVU_W3",
        "colab_type": "code",
        "colab": {
          "base_uri": "https://localhost:8080/",
          "height": 17
        },
        "outputId": "fe83be0d-1245-42a1-aaaf-1a2d33505672"
      },
      "source": [
        "from google.colab import files\n",
        "files.download('LS_CNN.csv') "
      ],
      "execution_count": null,
      "outputs": [
        {
          "output_type": "display_data",
          "data": {
            "application/javascript": [
              "\n",
              "    async function download(id, filename, size) {\n",
              "      if (!google.colab.kernel.accessAllowed) {\n",
              "        return;\n",
              "      }\n",
              "      const div = document.createElement('div');\n",
              "      const label = document.createElement('label');\n",
              "      label.textContent = `Downloading \"${filename}\": `;\n",
              "      div.appendChild(label);\n",
              "      const progress = document.createElement('progress');\n",
              "      progress.max = size;\n",
              "      div.appendChild(progress);\n",
              "      document.body.appendChild(div);\n",
              "\n",
              "      const buffers = [];\n",
              "      let downloaded = 0;\n",
              "\n",
              "      const channel = await google.colab.kernel.comms.open(id);\n",
              "      // Send a message to notify the kernel that we're ready.\n",
              "      channel.send({})\n",
              "\n",
              "      for await (const message of channel.messages) {\n",
              "        // Send a message to notify the kernel that we're ready.\n",
              "        channel.send({})\n",
              "        if (message.buffers) {\n",
              "          for (const buffer of message.buffers) {\n",
              "            buffers.push(buffer);\n",
              "            downloaded += buffer.byteLength;\n",
              "            progress.value = downloaded;\n",
              "          }\n",
              "        }\n",
              "      }\n",
              "      const blob = new Blob(buffers, {type: 'application/binary'});\n",
              "      const a = document.createElement('a');\n",
              "      a.href = window.URL.createObjectURL(blob);\n",
              "      a.download = filename;\n",
              "      div.appendChild(a);\n",
              "      a.click();\n",
              "      div.remove();\n",
              "    }\n",
              "  "
            ],
            "text/plain": [
              "<IPython.core.display.Javascript object>"
            ]
          },
          "metadata": {
            "tags": []
          }
        },
        {
          "output_type": "display_data",
          "data": {
            "application/javascript": [
              "download(\"download_f38c7b20-21c9-458d-8ca0-bb40f15b2964\", \"LS_CNN.csv\", 84455545)"
            ],
            "text/plain": [
              "<IPython.core.display.Javascript object>"
            ]
          },
          "metadata": {
            "tags": []
          }
        }
      ]
    },
    {
      "cell_type": "markdown",
      "metadata": {
        "id": "u6mdNyZD6bHy",
        "colab_type": "text"
      },
      "source": [
        "**Kaggle Score**"
      ]
    },
    {
      "cell_type": "markdown",
      "metadata": {
        "id": "dXrGo32L6eVa",
        "colab_type": "text"
      },
      "source": [
        "![Screenshot (178).png](data:image/png;base64,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)"
      ]
    },
    {
      "cell_type": "markdown",
      "metadata": {
        "id": "AYqn9Q5h4jYN",
        "colab_type": "text"
      },
      "source": [
        "**Summary**"
      ]
    },
    {
      "cell_type": "code",
      "metadata": {
        "id": "KJ1NJw6Vh_mr",
        "colab_type": "code",
        "colab": {
          "base_uri": "https://localhost:8080/",
          "height": 170
        },
        "outputId": "1ee059af-efd5-4614-bac2-e40b605b1b15"
      },
      "source": [
        "from prettytable import PrettyTable\n",
        "x=PrettyTable()\n",
        "x.field_names=[\"Model\", \"Kaggle Score\"]\n",
        "x.add_row([\"SGDRegressor\", \"0.51\"])\n",
        "x.add_row([\"Decision Tree\",\"0.57\"])\n",
        "x.add_row([\"LSTM\", \"0.47\"])\n",
        "x.add_row([\"CNN\", \"0.49\"])\n",
        "x.add_row([\"LSTM+CNN\", \"0.49\"])\n",
        "\n",
        "print(x)\n"
      ],
      "execution_count": null,
      "outputs": [
        {
          "output_type": "stream",
          "text": [
            "+---------------+--------------+\n",
            "|     Model     | Kaggle Score |\n",
            "+---------------+--------------+\n",
            "|  SGDRegressor |     0.51     |\n",
            "| Decision Tree |     0.57     |\n",
            "|      LSTM     |     0.47     |\n",
            "|      CNN      |     0.49     |\n",
            "|    LSTM+CNN   |     0.49     |\n",
            "+---------------+--------------+\n"
          ],
          "name": "stdout"
        }
      ]
    },
    {
      "cell_type": "markdown",
      "metadata": {
        "id": "p9a-fRLv4RsO",
        "colab_type": "text"
      },
      "source": [
        "The best model is LSTM which is having an RMSLE score of 0.47"
      ]
    },
    {
      "cell_type": "code",
      "metadata": {
        "id": "SUhItmtH7z5h",
        "colab_type": "code",
        "colab": {}
      },
      "source": [
        ""
      ],
      "execution_count": null,
      "outputs": []
    }
  ]
}